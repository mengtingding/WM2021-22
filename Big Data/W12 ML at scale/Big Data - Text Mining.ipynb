{
 "cells": [
  {
   "cell_type": "markdown",
   "metadata": {},
   "source": [
    "# Big Data - Text Mining example\n",
    "### Yelp review classification"
   ]
  },
  {
   "cell_type": "markdown",
   "metadata": {},
   "source": [
    "1.\tImport the necessary libraries "
   ]
  },
  {
   "cell_type": "code",
   "execution_count": 1,
   "metadata": {},
   "outputs": [],
   "source": [
    "import pandas as pd\n",
    "from sklearn.model_selection import train_test_split\n",
    "from sklearn.feature_extraction.text import CountVectorizer\n",
    "from sklearn.feature_extraction.text import TfidfVectorizer\n",
    "\n",
    "import matplotlib.pylab as plt\n",
    "\n",
    "from sklearn.naive_bayes import MultinomialNB\n",
    "from sklearn.naive_bayes import GaussianNB\n",
    "from sklearn import metrics\n",
    "from sklearn.metrics import precision_recall_fscore_support, roc_curve, auc\n",
    "import numpy as np"
   ]
  },
  {
   "cell_type": "code",
   "execution_count": 95,
   "metadata": {},
   "outputs": [
    {
     "name": "stdout",
     "output_type": "stream",
     "text": [
      "   user_id  prod_id rating  label       date  \\\n",
      "0    60609     3611    bad      1 2013-07-12   \n",
      "1   121342     3528    bad      1 2012-07-07   \n",
      "2   102327     1378    bad     -1 2012-11-17   \n",
      "3   108938     4037    bad      1 2013-01-28   \n",
      "4    66638     2645    bad     -1 2013-12-03   \n",
      "\n",
      "                                              review  Year           venue  \n",
      "0  horrible. I went there for a nice fresh lobste...  2013     Don Pepe II  \n",
      "1  This might be ok for a beer, but don't dare tr...  2012  Rattle ‘N’ Hum  \n",
      "2  one of the worst place to eat. We have never a...  2012    Green Chilli  \n",
      "3  alfies has ok food. The manager is super nice ...  2013         Alfie’s  \n",
      "4  Love love this place! The food is great! The r...  2013   Buon Appetito   \n",
      "\n",
      "(200, 8) \n",
      "\n",
      "user_id             int64\n",
      "prod_id             int64\n",
      "rating             object\n",
      "label               int64\n",
      "date       datetime64[ns]\n",
      "review             object\n",
      "Year                int64\n",
      "venue              object\n",
      "dtype: object\n"
     ]
    }
   ],
   "source": [
    "data = 'yelp-data.csv'\n",
    "df = pd.read_csv(data, parse_dates=['date'], encoding=\"UTF-8\")\n",
    "\n",
    "print(df.head(),'\\n')\n",
    "print(df.shape, '\\n')\n",
    "print(df.dtypes)"
   ]
  },
  {
   "cell_type": "code",
   "execution_count": 17,
   "metadata": {},
   "outputs": [
    {
     "data": {
      "text/plain": [
       "Index(['user_id', 'prod_id', 'rating', 'label', 'date', 'review', 'Year',\n",
       "       'venue'],\n",
       "      dtype='object')"
      ]
     },
     "execution_count": 17,
     "metadata": {},
     "output_type": "execute_result"
    }
   ],
   "source": [
    "df.columns"
   ]
  },
  {
   "cell_type": "code",
   "execution_count": 18,
   "metadata": {},
   "outputs": [
    {
     "data": {
      "text/html": [
       "<div>\n",
       "<style scoped>\n",
       "    .dataframe tbody tr th:only-of-type {\n",
       "        vertical-align: middle;\n",
       "    }\n",
       "\n",
       "    .dataframe tbody tr th {\n",
       "        vertical-align: top;\n",
       "    }\n",
       "\n",
       "    .dataframe thead th {\n",
       "        text-align: right;\n",
       "    }\n",
       "</style>\n",
       "<table border=\"1\" class=\"dataframe\">\n",
       "  <thead>\n",
       "    <tr style=\"text-align: right;\">\n",
       "      <th></th>\n",
       "      <th>rating</th>\n",
       "      <th>label</th>\n",
       "      <th>review</th>\n",
       "      <th>venue</th>\n",
       "    </tr>\n",
       "  </thead>\n",
       "  <tbody>\n",
       "    <tr>\n",
       "      <th>0</th>\n",
       "      <td>bad</td>\n",
       "      <td>1</td>\n",
       "      <td>horrible. I went there for a nice fresh lobste...</td>\n",
       "      <td>Don Pepe II</td>\n",
       "    </tr>\n",
       "    <tr>\n",
       "      <th>1</th>\n",
       "      <td>bad</td>\n",
       "      <td>1</td>\n",
       "      <td>This might be ok for a beer, but don't dare tr...</td>\n",
       "      <td>Rattle ‘N’ Hum</td>\n",
       "    </tr>\n",
       "    <tr>\n",
       "      <th>2</th>\n",
       "      <td>bad</td>\n",
       "      <td>-1</td>\n",
       "      <td>one of the worst place to eat. We have never a...</td>\n",
       "      <td>Green Chilli</td>\n",
       "    </tr>\n",
       "    <tr>\n",
       "      <th>3</th>\n",
       "      <td>bad</td>\n",
       "      <td>1</td>\n",
       "      <td>alfies has ok food. The manager is super nice ...</td>\n",
       "      <td>Alfie’s</td>\n",
       "    </tr>\n",
       "    <tr>\n",
       "      <th>4</th>\n",
       "      <td>bad</td>\n",
       "      <td>-1</td>\n",
       "      <td>Love love this place! The food is great! The r...</td>\n",
       "      <td>Buon Appetito</td>\n",
       "    </tr>\n",
       "    <tr>\n",
       "      <th>...</th>\n",
       "      <td>...</td>\n",
       "      <td>...</td>\n",
       "      <td>...</td>\n",
       "      <td>...</td>\n",
       "    </tr>\n",
       "    <tr>\n",
       "      <th>195</th>\n",
       "      <td>bad</td>\n",
       "      <td>1</td>\n",
       "      <td>This was my first, and last, visit to Sketch B...</td>\n",
       "      <td>Sketch</td>\n",
       "    </tr>\n",
       "    <tr>\n",
       "      <th>196</th>\n",
       "      <td>bad</td>\n",
       "      <td>-1</td>\n",
       "      <td>Nice local bar but the staff is horrible!  The...</td>\n",
       "      <td>Grasshopper Too</td>\n",
       "    </tr>\n",
       "    <tr>\n",
       "      <th>197</th>\n",
       "      <td>bad</td>\n",
       "      <td>1</td>\n",
       "      <td>Oy. I am writing in response to brunch only --...</td>\n",
       "      <td>Adelina’s</td>\n",
       "    </tr>\n",
       "    <tr>\n",
       "      <th>198</th>\n",
       "      <td>bad</td>\n",
       "      <td>1</td>\n",
       "      <td>This place has dumbed it self way down from th...</td>\n",
       "      <td>Zaroka Bar And Restaurant</td>\n",
       "    </tr>\n",
       "    <tr>\n",
       "      <th>199</th>\n",
       "      <td>good</td>\n",
       "      <td>-1</td>\n",
       "      <td>Great Place! Clean, convenient, and great food...</td>\n",
       "      <td>Trucker’s Gourmet Deli</td>\n",
       "    </tr>\n",
       "  </tbody>\n",
       "</table>\n",
       "<p>200 rows × 4 columns</p>\n",
       "</div>"
      ],
      "text/plain": [
       "    rating  label                                             review  \\\n",
       "0      bad      1  horrible. I went there for a nice fresh lobste...   \n",
       "1      bad      1  This might be ok for a beer, but don't dare tr...   \n",
       "2      bad     -1  one of the worst place to eat. We have never a...   \n",
       "3      bad      1  alfies has ok food. The manager is super nice ...   \n",
       "4      bad     -1  Love love this place! The food is great! The r...   \n",
       "..     ...    ...                                                ...   \n",
       "195    bad      1  This was my first, and last, visit to Sketch B...   \n",
       "196    bad     -1  Nice local bar but the staff is horrible!  The...   \n",
       "197    bad      1  Oy. I am writing in response to brunch only --...   \n",
       "198    bad      1  This place has dumbed it self way down from th...   \n",
       "199   good     -1  Great Place! Clean, convenient, and great food...   \n",
       "\n",
       "                         venue  \n",
       "0                  Don Pepe II  \n",
       "1               Rattle ‘N’ Hum  \n",
       "2                 Green Chilli  \n",
       "3                      Alfie’s  \n",
       "4                Buon Appetito  \n",
       "..                         ...  \n",
       "195                     Sketch  \n",
       "196            Grasshopper Too  \n",
       "197                  Adelina’s  \n",
       "198  Zaroka Bar And Restaurant  \n",
       "199     Trucker’s Gourmet Deli  \n",
       "\n",
       "[200 rows x 4 columns]"
      ]
     },
     "execution_count": 18,
     "metadata": {},
     "output_type": "execute_result"
    }
   ],
   "source": [
    "df[['rating', 'label','review','venue']]"
   ]
  },
  {
   "cell_type": "code",
   "execution_count": 19,
   "metadata": {},
   "outputs": [
    {
     "data": {
      "text/plain": [
       "bad     119\n",
       "good     81\n",
       "Name: rating, dtype: int64"
      ]
     },
     "execution_count": 19,
     "metadata": {},
     "output_type": "execute_result"
    }
   ],
   "source": [
    "df['rating'].value_counts()"
   ]
  },
  {
   "cell_type": "code",
   "execution_count": 20,
   "metadata": {},
   "outputs": [],
   "source": [
    "df['target_rating'] = np.where(df['rating']== 'good', 1, 0)"
   ]
  },
  {
   "cell_type": "code",
   "execution_count": 21,
   "metadata": {},
   "outputs": [
    {
     "data": {
      "text/plain": [
       "0    119\n",
       "1     81\n",
       "Name: target_rating, dtype: int64"
      ]
     },
     "execution_count": 21,
     "metadata": {},
     "output_type": "execute_result"
    }
   ],
   "source": [
    "df['target_rating'].value_counts()"
   ]
  },
  {
   "cell_type": "markdown",
   "metadata": {},
   "source": [
    "2. Distribution of ratings"
   ]
  },
  {
   "cell_type": "code",
   "execution_count": 22,
   "metadata": {},
   "outputs": [
    {
     "data": {
      "image/png": "[encoded data removed]",
      "text/plain": [
       "<Figure size 288x288 with 1 Axes>"
      ]
     },
     "metadata": {
      "needs_background": "light"
     },
     "output_type": "display_data"
    }
   ],
   "source": [
    "fig, ax = plt.subplots(nrows=1, ncols=1, figsize=(4, 4))\n",
    "\n",
    "ax.hist(df[\"rating\"])\n",
    "ax.set_xlabel(\"Ratings\")\n",
    "ax.set_ylabel(\"Quantity of Reviews\")\n",
    "\n",
    "plt.show()"
   ]
  },
  {
   "cell_type": "markdown",
   "metadata": {},
   "source": [
    "3.\tProcess the Review text and create and build a TF-IDF and bigrams (n-grams = 2) set and the original attributes. "
   ]
  },
  {
   "cell_type": "code",
   "execution_count": 23,
   "metadata": {},
   "outputs": [],
   "source": [
    "# Create a series to store the labels: y\n",
    "y = df['target_rating']\n",
    "\n",
    "# Create training and test sets\n",
    "X_train, X_test, y_train, y_test = train_test_split(df['review'], y, test_size = 0.2, random_state = 1)"
   ]
  },
  {
   "cell_type": "code",
   "execution_count": 24,
   "metadata": {},
   "outputs": [
    {
     "data": {
      "text/plain": [
       "array(['horrible. I went there for a nice fresh lobster dinner, but instead went with the \\xa0 soft shell crab done w garlic oil, the entire 3 crabs were \\xa0completely soaked in some ? sauce that was very watered down and old fishy tasting. then the \\xa0rice piao was \\xa0old \\xa0clumps of \\xa0rice with old fishy \\xa0seafood and very dry lobster then the \\xa0\"fish soup\" \\xa05 dollars \\xa0was a horror, some thickened \\xa0corn starch with extremely \\xa0old fish taste no identifiable \\xa0fish in it. the \\xa0Spanish \\xa0antipasto was some sliced up \\xa0pieces \\xa0of goat cheese, salami and overly soaked asparagus and pepper. I will never go back there 90.00 for 2 and I am sick to my stomach'],\n",
       "      dtype=object)"
      ]
     },
     "execution_count": 24,
     "metadata": {},
     "output_type": "execute_result"
    }
   ],
   "source": [
    "df['review'][:1].values"
   ]
  },
  {
   "cell_type": "code",
   "execution_count": 25,
   "metadata": {},
   "outputs": [],
   "source": [
    "# Initialize a TfidfVectorizer object: tfidf_vectorizer\n",
    "tfidf_vectorizer = TfidfVectorizer(stop_words = 'english', max_df = 0.7)\n",
    "\n",
    "# Transform the training data: tfidf_train \n",
    "tfidf_train = tfidf_vectorizer.fit_transform(X_train.values)\n",
    "\n",
    "# Transform the test data: tfidf_test \n",
    "tfidf_test = tfidf_vectorizer.transform(X_test.values)\n",
    "\n",
    "# Create the TfidfVectorizer DataFrame: tfidf_df\n",
    "tfidf_df = pd.DataFrame(tfidf_train.A, columns=tfidf_vectorizer.get_feature_names())"
   ]
  },
  {
   "cell_type": "markdown",
   "metadata": {},
   "source": [
    "## Building a text classifier"
   ]
  },
  {
   "cell_type": "code",
   "execution_count": 29,
   "metadata": {},
   "outputs": [
    {
     "name": "stderr",
     "output_type": "stream",
     "text": [
      "C:\\ProgramData\\Anaconda3\\envs\\ds\\lib\\site-packages\\sklearn\\utils\\deprecation.py:101: FutureWarning: Attribute coef_ was deprecated in version 0.24 and will be removed in 1.1 (renaming of 0.26).\n",
      "  warnings.warn(msg, category=FutureWarning)\n"
     ]
    }
   ],
   "source": [
    "# Create a Multinomial Naive Bayes classifier: nb_classifier\n",
    "nb_classifier = MultinomialNB()\n",
    "nb_classifier.fit(tfidf_train, y_train)\n",
    "\n",
    "# Create the predicted tags: pred\n",
    "pred = nb_classifier.predict(tfidf_test)\n",
    "\n",
    "# Create the probabity tags: y_prob  (shape: NX2)\n",
    "y_prob = nb_classifier.predict_proba(tfidf_test)\n",
    "\n",
    "importances = list(zip(nb_classifier.coef_[0], tfidf_vectorizer.get_feature_names()))"
   ]
  },
  {
   "cell_type": "code",
   "execution_count": 62,
   "metadata": {},
   "outputs": [
    {
     "name": "stdout",
     "output_type": "stream",
     "text": [
      "The 10 most important attributes according to the COUNT Method are:\n",
      "0        great\n",
      "1         food\n",
      "2    delicious\n",
      "3      chicken\n",
      "4         best\n",
      "5        place\n",
      "6         good\n",
      "7        pizza\n",
      "8      amazing\n",
      "9      service\n",
      "Name: index, dtype: object\n"
     ]
    }
   ],
   "source": [
    "# Identify the 10 most important Attributes\n",
    "\n",
    "importance_df = pd.DataFrame(importances, index=[x for (_,x) in importances]).sort_values(by = 0, ascending = False).reset_index()\n",
    "\n",
    "print(\"The 10 most important attributes according to the COUNT Method are:\")\n",
    "print(importance_df.iloc[0:10,0])"
   ]
  },
  {
   "cell_type": "markdown",
   "metadata": {},
   "source": [
    "# Testing the classifier"
   ]
  },
  {
   "cell_type": "code",
   "execution_count": 77,
   "metadata": {},
   "outputs": [],
   "source": [
    "text = [\"the food is great! Awesome place!\"]\n",
    "pd_text = pd.Series(text)\n",
    "tfidf_text = tfidf_vectorizer.transform(pd_text)\n",
    "prediction = nb_classifier.predict(tfidf_text)"
   ]
  },
  {
   "cell_type": "code",
   "execution_count": 81,
   "metadata": {},
   "outputs": [
    {
     "name": "stdout",
     "output_type": "stream",
     "text": [
      "the review was classified as:  1\n"
     ]
    }
   ],
   "source": [
    "print('the review was classified as: ', prediction[0])"
   ]
  },
  {
   "cell_type": "code",
   "execution_count": 82,
   "metadata": {},
   "outputs": [],
   "source": [
    "text = [\"the food is horrible! Never again!!!!\"]\n",
    "pd_text = pd.Series(text)\n",
    "tfidf_text = tfidf_vectorizer.transform(pd_text)\n",
    "prediction = nb_classifier.predict(tfidf_text)"
   ]
  },
  {
   "cell_type": "code",
   "execution_count": 83,
   "metadata": {},
   "outputs": [
    {
     "name": "stdout",
     "output_type": "stream",
     "text": [
      "the review was classified as:  0\n"
     ]
    }
   ],
   "source": [
    "print('the review was classified as: ', prediction[0])"
   ]
  }
 ],
 "metadata": {
  "kernelspec": {
   "display_name": "Python 3",
   "language": "python",
   "name": "python3"
  },
  "language_info": {
   "codemirror_mode": {
    "name": "ipython",
    "version": 3
   },
   "file_extension": ".py",
   "mimetype": "text/x-python",
   "name": "python",
   "nbconvert_exporter": "python",
   "pygments_lexer": "ipython3",
   "version": "3.8.8"
  }
 },
 "nbformat": 4,
 "nbformat_minor": 4
}
