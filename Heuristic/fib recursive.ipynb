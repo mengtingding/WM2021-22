{
 "cells": [
  {
   "cell_type": "code",
   "execution_count": 8,
   "id": "ba64d444",
   "metadata": {},
   "outputs": [
    {
     "name": "stdout",
     "output_type": "stream",
     "text": [
      "102334155\n"
     ]
    }
   ],
   "source": [
    "def rec_fib(number):\n",
    "    #counter = 0\n",
    "    if number < 0:\n",
    "        return(\"incorrect input\")\n",
    "    elif number < 2:\n",
    "        return number\n",
    "    else:\n",
    "        return rec_fib(number-1) + rec_fib(number-2)\n",
    "print(rec_fib(40))"
   ]
  }
 ],
 "metadata": {
  "kernelspec": {
   "display_name": "Python 3",
   "language": "python",
   "name": "python3"
  },
  "language_info": {
   "codemirror_mode": {
    "name": "ipython",
    "version": 3
   },
   "file_extension": ".py",
   "mimetype": "text/x-python",
   "name": "python",
   "nbconvert_exporter": "python",
   "pygments_lexer": "ipython3",
   "version": "3.8.8"
  }
 },
 "nbformat": 4,
 "nbformat_minor": 5
}
