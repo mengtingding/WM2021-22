{
 "cells": [
  {
   "cell_type": "code",
   "execution_count": 60,
   "id": "b6ca5ac9",
   "metadata": {},
   "outputs": [],
   "source": [
    "import pandas as pd\n",
    "from numpy import array\n",
    "from numpy import asarray\n",
    "import matplotlib.pyplot as plt\n",
    "from datetime import datetime\n",
    "import random\n",
    "\n",
    "from sklearn.model_selection import train_test_split\n",
    "\n",
    "import tensorflow as tf\n",
    "from tensorflow import keras\n",
    "from tensorflow.keras.layers import Embedding, LSTM, Dropout\n",
    "from tensorflow.keras.models import Sequential\n",
    "from keras.preprocessing.text import Tokenizer\n",
    "from tensorflow.keras.preprocessing.sequence import pad_sequences\n",
    "from tensorflow.keras.layers import Flatten, Dense\n"
   ]
  },
  {
   "cell_type": "code",
   "execution_count": 61,
   "id": "508f3119",
   "metadata": {},
   "outputs": [],
   "source": [
    "train = pd.read_csv('train.csv',encoding='utf8')\n",
    "test = pd.read_csv('test.csv',encoding='utf8')"
   ]
  },
  {
   "cell_type": "code",
   "execution_count": 62,
   "id": "52402940",
   "metadata": {},
   "outputs": [
    {
     "name": "stdout",
     "output_type": "stream",
     "text": [
      "<class 'numpy.ndarray'>\n",
      "<class 'list'>\n",
      "31962\n"
     ]
    }
   ],
   "source": [
    "print(type(train[\"tweet\"].values))\n",
    "docs = list(train[\"tweet\"].values)\n",
    "print(type(docs))\n",
    "print(len(docs))"
   ]
  },
  {
   "cell_type": "code",
   "execution_count": 4,
   "id": "5ce87156",
   "metadata": {},
   "outputs": [
    {
     "data": {
      "text/html": [
       "<div>\n",
       "<style scoped>\n",
       "    .dataframe tbody tr th:only-of-type {\n",
       "        vertical-align: middle;\n",
       "    }\n",
       "\n",
       "    .dataframe tbody tr th {\n",
       "        vertical-align: top;\n",
       "    }\n",
       "\n",
       "    .dataframe thead th {\n",
       "        text-align: right;\n",
       "    }\n",
       "</style>\n",
       "<table border=\"1\" class=\"dataframe\">\n",
       "  <thead>\n",
       "    <tr style=\"text-align: right;\">\n",
       "      <th></th>\n",
       "      <th>id</th>\n",
       "      <th>tweet</th>\n",
       "    </tr>\n",
       "  </thead>\n",
       "  <tbody>\n",
       "    <tr>\n",
       "      <th>0</th>\n",
       "      <td>31963</td>\n",
       "      <td>#studiolife #aislife #requires #passion #dedic...</td>\n",
       "    </tr>\n",
       "    <tr>\n",
       "      <th>1</th>\n",
       "      <td>31964</td>\n",
       "      <td>@user #white #supremacists want everyone to s...</td>\n",
       "    </tr>\n",
       "    <tr>\n",
       "      <th>2</th>\n",
       "      <td>31965</td>\n",
       "      <td>safe ways to heal your #acne!!    #altwaystohe...</td>\n",
       "    </tr>\n",
       "    <tr>\n",
       "      <th>3</th>\n",
       "      <td>31966</td>\n",
       "      <td>is the hp and the cursed child book up for res...</td>\n",
       "    </tr>\n",
       "    <tr>\n",
       "      <th>4</th>\n",
       "      <td>31967</td>\n",
       "      <td>3rd #bihday to my amazing, hilarious #nephew...</td>\n",
       "    </tr>\n",
       "  </tbody>\n",
       "</table>\n",
       "</div>"
      ],
      "text/plain": [
       "      id                                              tweet\n",
       "0  31963  #studiolife #aislife #requires #passion #dedic...\n",
       "1  31964   @user #white #supremacists want everyone to s...\n",
       "2  31965  safe ways to heal your #acne!!    #altwaystohe...\n",
       "3  31966  is the hp and the cursed child book up for res...\n",
       "4  31967    3rd #bihday to my amazing, hilarious #nephew..."
      ]
     },
     "execution_count": 4,
     "metadata": {},
     "output_type": "execute_result"
    }
   ],
   "source": [
    "test.head()"
   ]
  },
  {
   "cell_type": "code",
   "execution_count": 5,
   "id": "6f43bfd6",
   "metadata": {},
   "outputs": [
    {
     "data": {
      "text/plain": [
       "id       17197\n",
       "tweet    17197\n",
       "dtype: int64"
      ]
     },
     "execution_count": 5,
     "metadata": {},
     "output_type": "execute_result"
    }
   ],
   "source": [
    "test.isna().count()\n"
   ]
  },
  {
   "cell_type": "code",
   "execution_count": 6,
   "id": "ea8a0c01",
   "metadata": {},
   "outputs": [
    {
     "data": {
      "text/html": [
       "<div>\n",
       "<style scoped>\n",
       "    .dataframe tbody tr th:only-of-type {\n",
       "        vertical-align: middle;\n",
       "    }\n",
       "\n",
       "    .dataframe tbody tr th {\n",
       "        vertical-align: top;\n",
       "    }\n",
       "\n",
       "    .dataframe thead th {\n",
       "        text-align: right;\n",
       "    }\n",
       "</style>\n",
       "<table border=\"1\" class=\"dataframe\">\n",
       "  <thead>\n",
       "    <tr style=\"text-align: right;\">\n",
       "      <th></th>\n",
       "      <th>id</th>\n",
       "      <th>label</th>\n",
       "      <th>tweet</th>\n",
       "    </tr>\n",
       "  </thead>\n",
       "  <tbody>\n",
       "    <tr>\n",
       "      <th>0</th>\n",
       "      <td>1</td>\n",
       "      <td>0</td>\n",
       "      <td>@user when a father is dysfunctional and is s...</td>\n",
       "    </tr>\n",
       "    <tr>\n",
       "      <th>1</th>\n",
       "      <td>2</td>\n",
       "      <td>0</td>\n",
       "      <td>@user @user thanks for #lyft credit i can't us...</td>\n",
       "    </tr>\n",
       "    <tr>\n",
       "      <th>2</th>\n",
       "      <td>3</td>\n",
       "      <td>0</td>\n",
       "      <td>bihday your majesty</td>\n",
       "    </tr>\n",
       "    <tr>\n",
       "      <th>3</th>\n",
       "      <td>4</td>\n",
       "      <td>0</td>\n",
       "      <td>#model   i love u take with u all the time in ...</td>\n",
       "    </tr>\n",
       "    <tr>\n",
       "      <th>4</th>\n",
       "      <td>5</td>\n",
       "      <td>0</td>\n",
       "      <td>factsguide: society now    #motivation</td>\n",
       "    </tr>\n",
       "  </tbody>\n",
       "</table>\n",
       "</div>"
      ],
      "text/plain": [
       "   id  label                                              tweet\n",
       "0   1      0   @user when a father is dysfunctional and is s...\n",
       "1   2      0  @user @user thanks for #lyft credit i can't us...\n",
       "2   3      0                                bihday your majesty\n",
       "3   4      0  #model   i love u take with u all the time in ...\n",
       "4   5      0             factsguide: society now    #motivation"
      ]
     },
     "execution_count": 6,
     "metadata": {},
     "output_type": "execute_result"
    }
   ],
   "source": [
    "train.head()"
   ]
  },
  {
   "cell_type": "code",
   "execution_count": 67,
   "id": "e636031f",
   "metadata": {},
   "outputs": [
    {
     "name": "stdout",
     "output_type": "stream",
     "text": [
      "0    29720\n",
      "1     2242\n",
      "Name: label, dtype: int64\n",
      "0.07543741588156123\n"
     ]
    }
   ],
   "source": [
    "print(train[\"label\"].value_counts())\n",
    "print(2242/29720)"
   ]
  },
  {
   "cell_type": "code",
   "execution_count": 40,
   "id": "63183500",
   "metadata": {},
   "outputs": [
    {
     "name": "stdout",
     "output_type": "stream",
     "text": [
      "31962\n",
      "X_train shape:  (25569, 50)\n",
      "y_train shape:  (25569,)\n",
      "X_valid shape:  (6393, 50)\n",
      "y_valid shape:  (6393,)\n"
     ]
    }
   ],
   "source": [
    "y = train[\"label\"]\n",
    "print(len(y))\n",
    "maxlength = int(100/2)\n",
    "\n",
    "t = Tokenizer()\n",
    "t.fit_on_texts(train['tweet'].values)\n",
    "X = t.texts_to_sequences(train['tweet'].values)\n",
    "X = pad_sequences(X,maxlen=maxlength,padding='post')\n",
    "\n",
    "X_train, X_valid, y_train, y_valid = train_test_split(X, y, test_size=0.20, random_state=52)\n",
    "\n",
    "print(\"X_train shape: \",X_train.shape)\n",
    "print(\"y_train shape: \",y_train.shape)\n",
    "print(\"X_valid shape: \",X_valid.shape)\n",
    "print(\"y_valid shape: \",y_valid.shape)"
   ]
  },
  {
   "cell_type": "code",
   "execution_count": 41,
   "id": "80b5c1b8",
   "metadata": {},
   "outputs": [
    {
     "name": "stdout",
     "output_type": "stream",
     "text": [
      "50\n",
      "45890\n"
     ]
    }
   ],
   "source": [
    "print(X_train.shape[1],)\n",
    "vocab_size = len(t.word_index) + 1\n",
    "print(vocab_size)"
   ]
  },
  {
   "cell_type": "code",
   "execution_count": 52,
   "id": "178cd2fe",
   "metadata": {
    "scrolled": false
   },
   "outputs": [
    {
     "name": "stdout",
     "output_type": "stream",
     "text": [
      "WARNING:tensorflow:Layer lstm_4 will not use cuDNN kernels since it doesn't meet the criteria. It will use a generic GPU kernel as fallback when running on GPU.\n",
      "Model: \"sequential_6\"\n",
      "_________________________________________________________________\n",
      " Layer (type)                Output Shape              Param #   \n",
      "=================================================================\n",
      " embedding_6 (Embedding)     (None, 50, 32)            1468480   \n",
      "                                                                 \n",
      " lstm_4 (LSTM)               (None, 64)                24832     \n",
      "                                                                 \n",
      " flatten_5 (Flatten)         (None, 64)                0         \n",
      "                                                                 \n",
      " dense_5 (Dense)             (None, 1)                 65        \n",
      "                                                                 \n",
      "=================================================================\n",
      "Total params: 1,493,377\n",
      "Trainable params: 1,493,377\n",
      "Non-trainable params: 0\n",
      "_________________________________________________________________\n",
      "None\n",
      "<bound method Model.summary of <keras.engine.sequential.Sequential object at 0x00000181CC96D760>>\n",
      "Epoch 1/10\n",
      "256/256 [==============================] - 51s 192ms/step - loss: 0.2737 - acc: 0.9280 - val_loss: 0.2688 - val_acc: 0.9242\n",
      "Epoch 2/10\n",
      "256/256 [==============================] - 49s 193ms/step - loss: 0.2409 - acc: 0.9300 - val_loss: 0.2385 - val_acc: 0.9242\n",
      "Epoch 3/10\n",
      "256/256 [==============================] - 49s 190ms/step - loss: 0.1772 - acc: 0.9525 - val_loss: 0.2378 - val_acc: 0.9375\n",
      "Epoch 4/10\n",
      "256/256 [==============================] - 52s 203ms/step - loss: 0.1540 - acc: 0.9628 - val_loss: 0.2352 - val_acc: 0.9367\n",
      "Epoch 5/10\n",
      "256/256 [==============================] - 51s 199ms/step - loss: 0.1431 - acc: 0.9666 - val_loss: 0.2388 - val_acc: 0.9367\n",
      "Epoch 6/10\n",
      "256/256 [==============================] - 50s 196ms/step - loss: 0.1335 - acc: 0.9697 - val_loss: 0.2444 - val_acc: 0.9375\n",
      "Epoch 7/10\n",
      "256/256 [==============================] - 50s 197ms/step - loss: 0.1220 - acc: 0.9734 - val_loss: 0.2438 - val_acc: 0.9375\n",
      "Epoch 8/10\n",
      "256/256 [==============================] - 51s 199ms/step - loss: 0.1141 - acc: 0.9756 - val_loss: 0.2628 - val_acc: 0.9328\n",
      "Epoch 9/10\n",
      "256/256 [==============================] - 70s 272ms/step - loss: 0.1092 - acc: 0.9769 - val_loss: 0.2887 - val_acc: 0.9304\n",
      "Epoch 10/10\n",
      "256/256 [==============================] - 158s 619ms/step - loss: 0.1081 - acc: 0.9763 - val_loss: 0.2566 - val_acc: 0.9343\n",
      "run time: 0:10:30.861947\n"
     ]
    }
   ],
   "source": [
    "start = datetime.now()\n",
    "model = Sequential()\n",
    "model.add(Embedding(vocab_size,32,input_length=maxlength))\n",
    "model.add(LSTM(64, return_sequences=False, dropout=0.1, recurrent_dropout=0.1,recurrent_activation=\"sigmoid\",activation = \"tanh\"))\n",
    "#model.add(Dropout(0.2))\n",
    "\n",
    "model.add(Flatten())\n",
    "\n",
    "model.add(Dense(1,activation='sigmoid'))\n",
    "\n",
    "print(model.summary())\n",
    "\n",
    "\"\"\"train model section\"\"\"\n",
    "opt = keras.optimizers.Adam(learning_rate=0.001)\n",
    "model.compile(optimizer=opt,loss='binary_crossentropy',metrics = ['acc'])\n",
    "print(model.summary)\n",
    "history = model.fit(X_valid,y_valid,epochs=10,batch_size = 20, validation_split = 0.2)\n",
    "end=datetime.now()\n",
    "print(\"run time:\",end-start)"
   ]
  },
  {
   "cell_type": "code",
   "execution_count": 53,
   "id": "36145007",
   "metadata": {},
   "outputs": [
    {
     "data": {
      "image/png": "[encoded data removed]",
      "text/plain": [
       "<Figure size 432x288 with 1 Axes>"
      ]
     },
     "metadata": {
      "needs_background": "light"
     },
     "output_type": "display_data"
    }
   ],
   "source": [
    "plt.plot(history.history[\"acc\"])\n",
    "plt.plot(history.history[\"val_acc\"])\n",
    "plt.title(\"Model Accuracy\")\n",
    "plt.ylabel(\"Accuracy\")\n",
    "plt.xlabel(\"Epoch\")\n",
    "plt.legend([\"Train\",\"Test\"])\n",
    "plt.ylim([0,1])\n",
    "plt.show()"
   ]
  },
  {
   "cell_type": "code",
   "execution_count": 54,
   "id": "2fd678bf",
   "metadata": {},
   "outputs": [
    {
     "data": {
      "image/png": "[encoded data removed]",
      "text/plain": [
       "<Figure size 432x288 with 1 Axes>"
      ]
     },
     "metadata": {
      "needs_background": "light"
     },
     "output_type": "display_data"
    }
   ],
   "source": [
    "plt.plot(history.history['loss'], label='Training loss')\n",
    "plt.plot(history.history['val_loss'], label='Validation loss')\n",
    "plt.ylabel(\"Loss\")\n",
    "plt.title(\"Model loss\")\n",
    "plt.ylim([0,1])\n",
    "plt.legend([\"Train\",\"validate\"])\n",
    "plt.show()"
   ]
  },
  {
   "cell_type": "code",
   "execution_count": 55,
   "id": "1ceded94",
   "metadata": {},
   "outputs": [],
   "source": [
    "\"\"\"predictions\"\"\"\n",
    "t = Tokenizer()\n",
    "t.fit_on_texts(test['tweet'].values)\n",
    "encoded_test_tweets = t.texts_to_sequences(train['tweet'].values)\n",
    "padded_test_tweets = pad_sequences(encoded_test_tweets,maxlen=maxlength,padding='post')"
   ]
  },
  {
   "cell_type": "code",
   "execution_count": 56,
   "id": "b05df955",
   "metadata": {},
   "outputs": [
    {
     "name": "stdout",
     "output_type": "stream",
     "text": [
      "1599/1599 [==============================] - 110s 69ms/step\n"
     ]
    }
   ],
   "source": [
    "prob = model.predict(padded_test_tweets,verbose=1,batch_size=20)"
   ]
  },
  {
   "cell_type": "code",
   "execution_count": 59,
   "id": "54f913b3",
   "metadata": {},
   "outputs": [
    {
     "name": "stdout",
     "output_type": "stream",
     "text": [
      "[22229, 5571, 4172, 124, 988, 61, 82, 1779, 4, 7387, 1497, 5893, 3, 2] 0\n",
      "[2, 295, 291, 302, 22] 0\n",
      "[577, 6789, 598, 416, 751] 0\n",
      "[476, 12, 2857, 272, 22, 1307, 975, 394] 0\n",
      "[152, 9, 90] 0\n",
      "[1, 196, 278, 7, 3, 70, 6812, 1139, 9, 3] 0\n",
      "[1267, 64, 13, 9, 2, 240, 1061] 0\n",
      "[11, 109, 109, 63, 1285, 2298, 630, 4513, 1133, 15969] 0\n",
      "[1, 79, 303, 120, 1473, 7, 794, 1, 205, 377, 22581] 0\n",
      "[1, 2415, 2, 4592, 3867, 1888, 2415, 2, 201, 4593, 3868, 1169, 42, 6416] 0\n"
     ]
    }
   ],
   "source": [
    "pred = []\n",
    "for i in range(len(prob)):\n",
    "    if prob[i] > 0.5:\n",
    "        pred.append(1)\n",
    "    else:\n",
    "        pred.append(0)\n",
    "\n",
    "#sample prediction\n",
    "for i in range(10):\n",
    "    index = random.randint(0,len(prob))\n",
    "    print(encoded_test_tweets[index],pred[index])"
   ]
  },
  {
   "cell_type": "code",
   "execution_count": 58,
   "id": "e04ea9f4",
   "metadata": {},
   "outputs": [
    {
     "name": "stdout",
     "output_type": "stream",
     "text": [
      "the percentage of hate speech tweets is: 2.3%\n"
     ]
    }
   ],
   "source": [
    "hatespeech = round((sum(pred)/len(pred)),3)*100\n",
    "print(\"the percentage of hate speech tweets is: {}%\".format(hatespeech))"
   ]
  },
  {
   "cell_type": "code",
   "execution_count": null,
   "id": "c5b963cf",
   "metadata": {},
   "outputs": [],
   "source": []
  }
 ],
 "metadata": {
  "kernelspec": {
   "display_name": "Python 3",
   "language": "python",
   "name": "python3"
  },
  "language_info": {
   "codemirror_mode": {
    "name": "ipython",
    "version": 3
   },
   "file_extension": ".py",
   "mimetype": "text/x-python",
   "name": "python",
   "nbconvert_exporter": "python",
   "pygments_lexer": "ipython3",
   "version": "3.8.8"
  }
 },
 "nbformat": 4,
 "nbformat_minor": 5
}
