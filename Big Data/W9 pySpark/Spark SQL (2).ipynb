{
 "cells": [
  {
   "cell_type": "markdown",
   "id": "df3b1b97-1e0e-4085-b13b-1c3f40cd2df8",
   "metadata": {},
   "source": [
    "# Spark SQL"
   ]
  },
  {
   "cell_type": "markdown",
   "id": "82fcfc7d-b676-456a-97ed-7c6d5f77a80c",
   "metadata": {},
   "source": [
    "### Create a DataFrame from RDD"
   ]
  },
  {
   "cell_type": "code",
   "execution_count": 5,
   "id": "437c48af-68d9-4d38-8bb0-10fb838a8437",
   "metadata": {},
   "outputs": [
    {
     "ename": "SyntaxError",
     "evalue": "invalid syntax. Perhaps you forgot a comma? (2004043674.py, line 1)",
     "output_type": "error",
     "traceback": [
      "\u001b[1;36m  Input \u001b[1;32mIn [5]\u001b[1;36m\u001b[0m\n\u001b[1;33m    pip install pyspark\u001b[0m\n\u001b[1;37m        ^\u001b[0m\n\u001b[1;31mSyntaxError\u001b[0m\u001b[1;31m:\u001b[0m invalid syntax. Perhaps you forgot a comma?\n"
     ]
    }
   ],
   "source": [
    "\n",
    "import pyspark\n",
    "from pyspark.sql import SparkSession\n",
    "spark = SparkSession.builder.master(\"local[1]\").appName('Spark').getOrCreate()"
   ]
  },
  {
   "cell_type": "code",
   "execution_count": 4,
   "id": "9b7e87ea-f979-4d9e-8c45-540590ca6785",
   "metadata": {},
   "outputs": [
    {
     "ename": "NameError",
     "evalue": "name 'sc' is not defined",
     "output_type": "error",
     "traceback": [
      "\u001b[1;31m---------------------------------------------------------------------------\u001b[0m",
      "\u001b[1;31mNameError\u001b[0m                                 Traceback (most recent call last)",
      "Input \u001b[1;32mIn [4]\u001b[0m, in \u001b[0;36m<cell line: 1>\u001b[1;34m()\u001b[0m\n\u001b[1;32m----> 1\u001b[0m customers \u001b[38;5;241m=\u001b[39m \u001b[43msc\u001b[49m\u001b[38;5;241m.\u001b[39mparallelize([(\u001b[38;5;241m1201\u001b[39m,  \u001b[38;5;124m'\u001b[39m\u001b[38;5;124msatish\u001b[39m\u001b[38;5;124m'\u001b[39m, \u001b[38;5;241m25\u001b[39m), (\u001b[38;5;241m1202\u001b[39m, \u001b[38;5;124m\"\u001b[39m\u001b[38;5;124mkrishna\u001b[39m\u001b[38;5;124m\"\u001b[39m, \u001b[38;5;241m28\u001b[39m), (\u001b[38;5;241m1203\u001b[39m, \u001b[38;5;124m\"\u001b[39m\u001b[38;5;124mmary\u001b[39m\u001b[38;5;124m\"\u001b[39m, \u001b[38;5;241m39\u001b[39m), (\u001b[38;5;241m1204\u001b[39m, \u001b[38;5;124m\"\u001b[39m\u001b[38;5;124mpablo\u001b[39m\u001b[38;5;124m\"\u001b[39m, \u001b[38;5;241m23\u001b[39m)])\n\u001b[0;32m      2\u001b[0m names \u001b[38;5;241m=\u001b[39m [\u001b[38;5;124m'\u001b[39m\u001b[38;5;124mid\u001b[39m\u001b[38;5;124m'\u001b[39m, \u001b[38;5;124m'\u001b[39m\u001b[38;5;124mname\u001b[39m\u001b[38;5;124m'\u001b[39m, \u001b[38;5;124m'\u001b[39m\u001b[38;5;124mage\u001b[39m\u001b[38;5;124m'\u001b[39m]\n\u001b[0;32m      4\u001b[0m data \u001b[38;5;241m=\u001b[39m spark\u001b[38;5;241m.\u001b[39mcreateDataFrame(customers, schema\u001b[38;5;241m=\u001b[39mnames)\n",
      "\u001b[1;31mNameError\u001b[0m: name 'sc' is not defined"
     ]
    }
   ],
   "source": [
    "customers = sc.parallelize([(1201,  'satish', 25), (1202, \"krishna\", 28), (1203, \"mary\", 39), (1204, \"pablo\", 23)])\n",
    "names = ['id', 'name', 'age']\n",
    "\n",
    "data = spark.createDataFrame(customers, schema=names)\n",
    "type(data)"
   ]
  },
  {
   "cell_type": "markdown",
   "id": "de84cc07-1472-4629-8a92-cc22b86e02cb",
   "metadata": {},
   "source": [
    "### Create a DataFrame from reading a CSV/JSON/TXT"
   ]
  },
  {
   "cell_type": "code",
   "execution_count": null,
   "id": "86d70d84-6fe4-4067-98e8-4b0ee61463a8",
   "metadata": {},
   "outputs": [
    {
     "name": "stdout",
     "output_type": "stream",
     "text": [
      "The type of titanic_df is <class 'pyspark.sql.dataframe.DataFrame'>\n"
     ]
    }
   ],
   "source": [
    "# Create an DataFrame from file_path\n",
    "titanic_df = spark.read.csv(\"titanic.csv\", header=True, inferSchema=True)\n",
    "\n",
    "# Check the type of people_df\n",
    "print(\"The type of titanic_df is\", type(titanic_df))"
   ]
  },
  {
   "cell_type": "code",
   "execution_count": 154,
   "id": "97385e00-d8e7-4d06-91ba-bc63e78175ce",
   "metadata": {},
   "outputs": [
    {
     "data": {
      "text/plain": [
       "['pclass',\n",
       " 'survived',\n",
       " 'name',\n",
       " 'sex',\n",
       " 'age',\n",
       " 'sibsp',\n",
       " 'parch',\n",
       " 'ticket',\n",
       " 'fare',\n",
       " 'cabin',\n",
       " 'embarked',\n",
       " 'boat',\n",
       " 'body',\n",
       " 'home.dest']"
      ]
     },
     "execution_count": 154,
     "metadata": {},
     "output_type": "execute_result"
    }
   ],
   "source": [
    "titanic_df.columns"
   ]
  },
  {
   "cell_type": "code",
   "execution_count": 158,
   "id": "e6385507-ff8a-4683-8f7c-8268bd2d5ce1",
   "metadata": {},
   "outputs": [
    {
     "name": "stdout",
     "output_type": "stream",
     "text": [
      "+-------+-----------------+\n",
      "|summary|             fare|\n",
      "+-------+-----------------+\n",
      "|  count|             1308|\n",
      "|   mean|33.29547928134572|\n",
      "| stddev|51.75866823917421|\n",
      "|    min|              0.0|\n",
      "|    max|         512.3292|\n",
      "+-------+-----------------+\n",
      "\n"
     ]
    }
   ],
   "source": [
    "titanic_df.select('fare').describe().show()"
   ]
  },
  {
   "cell_type": "code",
   "execution_count": 160,
   "id": "c9b2f071-717f-4970-8601-4a54090f185e",
   "metadata": {},
   "outputs": [
    {
     "name": "stdout",
     "output_type": "stream",
     "text": [
      "root\n",
      " |-- pclass: integer (nullable = true)\n",
      " |-- survived: integer (nullable = true)\n",
      " |-- name: string (nullable = true)\n",
      " |-- sex: string (nullable = true)\n",
      " |-- age: double (nullable = true)\n",
      " |-- sibsp: integer (nullable = true)\n",
      " |-- parch: integer (nullable = true)\n",
      " |-- ticket: string (nullable = true)\n",
      " |-- fare: double (nullable = true)\n",
      " |-- cabin: string (nullable = true)\n",
      " |-- embarked: string (nullable = true)\n",
      " |-- boat: string (nullable = true)\n",
      " |-- body: integer (nullable = true)\n",
      " |-- home.dest: string (nullable = true)\n",
      "\n"
     ]
    }
   ],
   "source": [
    "titanic_df.printSchema()"
   ]
  },
  {
   "cell_type": "code",
   "execution_count": 142,
   "id": "90d4d8db-9703-41a9-af5f-816cd7633a29",
   "metadata": {},
   "outputs": [
    {
     "data": {
      "text/plain": [
       "[('pclass', 'int'),\n",
       " ('survived', 'int'),\n",
       " ('name', 'string'),\n",
       " ('sex', 'string'),\n",
       " ('age', 'double'),\n",
       " ('sibsp', 'int'),\n",
       " ('parch', 'int'),\n",
       " ('ticket', 'string'),\n",
       " ('fare', 'double'),\n",
       " ('cabin', 'string'),\n",
       " ('embarked', 'string'),\n",
       " ('boat', 'string'),\n",
       " ('body', 'int'),\n",
       " ('home.dest', 'string')]"
      ]
     },
     "execution_count": 143,
     "metadata": {},
     "output_type": "execute_result"
    }
   ],
   "source": [
    "titanic_df.dtypes"
   ]
  },
  {
   "cell_type": "markdown",
   "id": "05e6c5e0-8ced-4b84-8869-d36950aa4328",
   "metadata": {},
   "source": [
    "### select operation"
   ]
  },
  {
   "cell_type": "code",
   "execution_count": 128,
   "id": "cc358b9a-394c-4d0a-b745-d3fd33317d55",
   "metadata": {},
   "outputs": [
    {
     "name": "stdout",
     "output_type": "stream",
     "text": [
      "+------+----+--------+\n",
      "|   sex| age|survived|\n",
      "+------+----+--------+\n",
      "|female|29.0|       1|\n",
      "|  male|0.92|       1|\n",
      "|female| 2.0|       0|\n",
      "|  male|30.0|       0|\n",
      "|female|25.0|       0|\n",
      "+------+----+--------+\n",
      "only showing top 5 rows\n",
      "\n"
     ]
    }
   ],
   "source": [
    "titanic_df.select(['sex', 'age', 'survived']).show(5)"
   ]
  },
  {
   "cell_type": "markdown",
   "id": "bac61fe7-33e5-44fa-84c5-6a9828809c5f",
   "metadata": {},
   "source": [
    "### filter operation"
   ]
  },
  {
   "cell_type": "code",
   "execution_count": 129,
   "id": "540717bf-c9e6-442e-86f5-470ce43077a6",
   "metadata": {},
   "outputs": [
    {
     "name": "stdout",
     "output_type": "stream",
     "text": [
      "+------+----+--------+\n",
      "|   sex| age|survived|\n",
      "+------+----+--------+\n",
      "|  male|0.92|       1|\n",
      "|female| 2.0|       0|\n",
      "|  male| 4.0|       1|\n",
      "|  male| 6.0|       1|\n",
      "|  male| 1.0|       1|\n",
      "+------+----+--------+\n",
      "only showing top 5 rows\n",
      "\n"
     ]
    }
   ],
   "source": [
    "titanic_df.select(['sex', 'age', 'survived']).filter(titanic_df.age < 10).show(5)"
   ]
  },
  {
   "cell_type": "markdown",
   "id": "9e9e366d-6e33-4da7-aa50-b690e314236c",
   "metadata": {},
   "source": [
    "### groupby and count operation"
   ]
  },
  {
   "cell_type": "code",
   "execution_count": 138,
   "id": "e121460a-54ca-48f3-9c8b-4d28f0d32ab9",
   "metadata": {},
   "outputs": [
    {
     "name": "stdout",
     "output_type": "stream",
     "text": [
      "+--------+-----+\n",
      "|survived|count|\n",
      "+--------+-----+\n",
      "|       0|  809|\n",
      "|       1|  500|\n",
      "+--------+-----+\n",
      "\n"
     ]
    }
   ],
   "source": [
    "titanic_df.groupby('survived').count().orderBy('survived').show()"
   ]
  },
  {
   "cell_type": "code",
   "execution_count": 149,
   "id": "e5b7bdc9-d43c-4725-99c5-47b21246ae6d",
   "metadata": {},
   "outputs": [
    {
     "name": "stdout",
     "output_type": "stream",
     "text": [
      "+---------------+\n",
      "|passenger_class|\n",
      "+---------------+\n",
      "|              1|\n",
      "|              2|\n",
      "|              3|\n",
      "+---------------+\n",
      "\n"
     ]
    }
   ],
   "source": [
    "titanic_df.select('pclass').dropDuplicates().orderBy('pclass').withColumnRenamed('pclass','passenger_class').show()"
   ]
  },
  {
   "cell_type": "markdown",
   "id": "b37af9c2-9452-4f85-8270-544028189cf9",
   "metadata": {},
   "source": [
    "## Exercise | Titanic dataset"
   ]
  },
  {
   "cell_type": "code",
   "execution_count": null,
   "id": "a0e5fc1a-e984-4e81-a2b1-3d86b516e1b9",
   "metadata": {},
   "outputs": [],
   "source": [
    "# Load the Dataframe\n",
    "titanic_df = spark.____(____, header=True, inferSchema=True)\n",
    "\n",
    "# Check the schema of columns\n",
    "titanic_df.____()\n",
    "\n",
    "# Show the first 10 observations\n",
    "titanic_df.____(____)\n",
    "\n",
    "# Print the total number of rows\n",
    "print(\"There are {} rows in the titanic_df DataFrame\".format(titanic_df.____()))"
   ]
  },
  {
   "cell_type": "code",
   "execution_count": null,
   "id": "b040d471-4bf6-458a-8f6e-1e8a66dc2eaf",
   "metadata": {},
   "outputs": [],
   "source": [
    "# Filter people_df to select females \n",
    "titanic_df_female = titanic_df._______(_______.sex == \"female\")\n",
    "\n",
    "# Filter people_df to select males\n",
    "titanic_df_male = titanic_df.________(________.sex == ______)\n",
    "\n",
    "# Count the number of rows \n",
    "print(\"There are {} rows in the titanic_df_female DataFrame and {} rows in the titanic_df_male DataFrame\".format(people_df_female.______, people_df_male._____))"
   ]
  },
  {
   "cell_type": "code",
   "execution_count": null,
   "id": "1c5acd3b-9e31-4fa7-90c4-3f157ae34ed0",
   "metadata": {},
   "outputs": [],
   "source": [
    "# Create a temporary view of titanic_df\n",
    "titanic_df.____('titanic_table')\n",
    "\n",
    "# Construct the \"query\" to show fares that are higher than $150\n",
    "query = '''SELECT ____ FROM ____ WHERE ______'''\n",
    "\n",
    "# Apply and show the results of the SQL \"query\"\n",
    "spark.____(____).show()"
   ]
  },
  {
   "cell_type": "markdown",
   "id": "a641e463-8b26-4e15-9069-e1235e495be0",
   "metadata": {},
   "source": [
    "## SQL query on titanic_df"
   ]
  },
  {
   "cell_type": "code",
   "execution_count": 171,
   "id": "6c30d1ab-4fe9-4d28-83d4-a61f9814cba4",
   "metadata": {},
   "outputs": [
    {
     "data": {
      "text/plain": [
       "843"
      ]
     },
     "execution_count": 171,
     "metadata": {},
     "output_type": "execute_result"
    }
   ],
   "source": [
    "titanic_df.createOrReplaceTempView(\"table1\")\n",
    "df2 = spark.sql(\"SELECT sex FROM table1 WHERE sex == 'male'\")\n",
    "df2.count()"
   ]
  },
  {
   "cell_type": "code",
   "execution_count": 172,
   "id": "8f5c9a28-3b34-426d-a02d-ab2728f29854",
   "metadata": {},
   "outputs": [
    {
     "name": "stdout",
     "output_type": "stream",
     "text": [
      "+----+\n",
      "| sex|\n",
      "+----+\n",
      "|male|\n",
      "|male|\n",
      "|male|\n",
      "|male|\n",
      "|male|\n",
      "+----+\n",
      "only showing top 5 rows\n",
      "\n"
     ]
    }
   ],
   "source": [
    "df2.show(5)"
   ]
  },
  {
   "cell_type": "markdown",
   "id": "d4860fc0-fcb7-400f-babf-c87419531c5a",
   "metadata": {},
   "source": [
    "### Data Visualization in Spark"
   ]
  },
  {
   "cell_type": "code",
   "execution_count": 243,
   "id": "966b7b6c-e74c-41ba-a5d3-1ec5328d2051",
   "metadata": {},
   "outputs": [
    {
     "data": {
      "image/png": "[encoded data removed]",
      "text/plain": [
       "<Figure size 432x288 with 1 Axes>"
      ]
     },
     "metadata": {
      "needs_background": "light"
     },
     "output_type": "display_data"
    }
   ],
   "source": [
    "from pyspark_dist_explore import hist\n",
    "fig, ax = plt.subplots()\n",
    "hist(ax, titanic_df.select(\"survived\"))"
   ]
  },
  {
   "cell_type": "markdown",
   "id": "24a55dc1-8c2a-4c68-ac76-b65af791429a",
   "metadata": {},
   "source": [
    "### Using Pandas for Plotting DataFrames"
   ]
  },
  {
   "cell_type": "code",
   "execution_count": 220,
   "id": "cfbdd266-d0d2-483a-be92-bc00958070f0",
   "metadata": {},
   "outputs": [
    {
     "data": {
      "image/png": "[encoded data removed]",
      "text/plain": [
       "<Figure size 432x288 with 1 Axes>"
      ]
     },
     "metadata": {
      "needs_background": "light"
     },
     "output_type": "display_data"
    }
   ],
   "source": [
    "titanic_df_pandas = titanic_df.toPandas()\n",
    "titanic_df_pandas.hist('pclass')\n",
    "plt.grid(visible=None)\n",
    "plt.show()"
   ]
  },
  {
   "cell_type": "code",
   "execution_count": 213,
   "id": "afcbde19-3198-405b-9abc-de2ad220d567",
   "metadata": {},
   "outputs": [
    {
     "data": {
      "image/png": "[encoded data removed]",
      "text/plain": [
       "<Figure size 432x288 with 1 Axes>"
      ]
     },
     "metadata": {
      "needs_background": "light"
     },
     "output_type": "display_data"
    }
   ],
   "source": [
    "import matplotlib.pyplot as plt\n",
    "titanic_df_pandas['age'].plot(kind = 'density')\n",
    "plt.show()"
   ]
  },
  {
   "cell_type": "code",
   "execution_count": null,
   "id": "53276486-7989-47f3-854b-ef2557c4b1e2",
   "metadata": {},
   "outputs": [],
   "source": []
  }
 ],
 "metadata": {
  "kernelspec": {
   "display_name": "Python 3 (ipykernel)",
   "language": "python",
   "name": "python3"
  },
  "language_info": {
   "codemirror_mode": {
    "name": "ipython",
    "version": 3
   },
   "file_extension": ".py",
   "mimetype": "text/x-python",
   "name": "python",
   "nbconvert_exporter": "python",
   "pygments_lexer": "ipython3",
   "version": "3.10.0"
  }
 },
 "nbformat": 4,
 "nbformat_minor": 5
}
