{
 "cells": [
  {
   "cell_type": "code",
   "execution_count": 1,
   "id": "41954719",
   "metadata": {},
   "outputs": [],
   "source": [
    "import gurobipy as gp\n",
    "from gurobipy import *"
   ]
  },
  {
   "cell_type": "code",
   "execution_count": 2,
   "id": "d56861db",
   "metadata": {},
   "outputs": [
    {
     "name": "stdout",
     "output_type": "stream",
     "text": [
      "Academic license - for non-commercial use only - expires 2022-09-19\n",
      "Using license file C:\\Users\\mengt\\gurobi.lic\n",
      "Gurobi Optimizer version 9.1.2 build v9.1.2rc0 (win64)\n",
      "Thread count: 4 physical cores, 8 logical processors, using up to 8 threads\n",
      "Optimize a model with 3 rows, 9 columns and 11 nonzeros\n",
      "Model fingerprint: 0x5d803fe6\n",
      "Variable types: 0 continuous, 9 integer (0 binary)\n",
      "Coefficient statistics:\n",
      "  Matrix range     [8e-01, 1e+00]\n",
      "  Objective range  [2e+01, 6e+01]\n",
      "  Bounds range     [3e+01, 3e+01]\n",
      "  RHS range        [1e+01, 4e+01]\n",
      "Found heuristic solution: objective 5280.0000000\n",
      "Presolve removed 0 rows and 1 columns\n",
      "Presolve time: 0.00s\n",
      "Presolved: 3 rows, 8 columns, 10 nonzeros\n",
      "Variable types: 0 continuous, 8 integer (0 binary)\n",
      "\n",
      "Root relaxation: objective 3.956000e+03, 3 iterations, 0.00 seconds\n",
      "\n",
      "    Nodes    |    Current Node    |     Objective Bounds      |     Work\n",
      " Expl Unexpl |  Obj  Depth IntInf | Incumbent    BestBd   Gap | It/Node Time\n",
      "\n",
      "     0     0 3956.00000    0    3 5280.00000 3956.00000  25.1%     -    0s\n",
      "H    0     0                    4015.0000000 3956.00000  1.47%     -    0s\n",
      "H    0     0                    3980.0000000 3957.50000  0.57%     -    0s\n",
      "     0     0          -    0      3980.00000 3980.00000  0.00%     -    0s\n",
      "\n",
      "Cutting planes:\n",
      "  MIR: 3\n",
      "  StrongCG: 1\n",
      "\n",
      "Explored 1 nodes (5 simplex iterations) in 0.02 seconds\n",
      "Thread count was 8 (of 8 available processors)\n",
      "\n",
      "Solution count 3: 3980 4015 5280 \n",
      "\n",
      "Optimal solution found (tolerance 1.00e-04)\n",
      "Best objective 3.980000000000e+03, best bound 3.980000000000e+03, gap 0.0000%\n"
     ]
    },
    {
     "data": {
      "text/plain": [
       "[<gurobi.Var prod_q1_reg (value 13.0)>,\n",
       " <gurobi.Var prod_q2_reg (value 25.0)>,\n",
       " <gurobi.Var prod_q3_reg (value 27.0)>,\n",
       " <gurobi.Var prod_q1_overtime (value -0.0)>,\n",
       " <gurobi.Var prod_q2_overtime (value -0.0)>,\n",
       " <gurobi.Var prod_q3_overtime (value 23.0)>,\n",
       " <gurobi.Var Inv_q1 (value -0.0)>,\n",
       " <gurobi.Var Inv_q2 (value 0.0)>,\n",
       " <gurobi.Var Inv_q3 (value -0.0)>]"
      ]
     },
     "execution_count": 2,
     "metadata": {},
     "output_type": "execute_result"
    }
   ],
   "source": [
    "m1 = gp.Model()\n",
    "\n",
    "#variables\n",
    "x1 = m1.addVar(0, 27, obj = 40, vtype = GRB.INTEGER, name = 'prod_q1_reg')\n",
    "x2 = m1.addVar(0, 27, obj = 40, vtype = GRB.INTEGER, name = 'prod_q2_reg')\n",
    "x3 = m1.addVar(0, 27, obj = 40, vtype = GRB.INTEGER, name = 'prod_q3_reg')\n",
    "y1 = m1.addVar(0, obj = 60, vtype = GRB.INTEGER, name = 'prod_q1_overtime')\n",
    "y2 = m1.addVar(0, obj = 60, vtype = GRB.INTEGER, name = 'prod_q2_overtime')\n",
    "y3 = m1.addVar(0, obj = 60, vtype = GRB.INTEGER, name = 'prod_q3_overtime')\n",
    "z1 = m1.addVar(0, obj = 15, vtype = GRB.INTEGER, name = 'Inv_q1')\n",
    "z2 = m1.addVar(0, obj = 15, vtype = GRB.INTEGER, name = 'Inv_q2')\n",
    "z3 = m1.addVar(0, obj = 15, vtype = GRB.INTEGER, name = 'Inv_q3')\n",
    "\n",
    "#objectives\n",
    "m1.ModelSense = GRB.MINIMIZE\n",
    "#constraints\n",
    "m1.addConstr(0.8*(x1+y1)+20-z1>=30)\n",
    "m1.addConstr(0.8*(x2+y2)+0.9*z1-z2>=20)\n",
    "m1.addConstr(0.8*(x3+y3)+0.9*z2-z3>=40)\n",
    "\n",
    "m1.optimize()\n",
    "m1.getVars()"
   ]
  },
  {
   "cell_type": "markdown",
   "id": "e2c8ca33",
   "metadata": {},
   "source": [
    "## Question 2"
   ]
  },
  {
   "cell_type": "code",
   "execution_count": 8,
   "id": "2797a63d",
   "metadata": {},
   "outputs": [
    {
     "name": "stdout",
     "output_type": "stream",
     "text": [
      "Gurobi Optimizer version 9.1.2 build v9.1.2rc0 (win64)\n",
      "Thread count: 4 physical cores, 8 logical processors, using up to 8 threads\n",
      "Optimize a model with 8 rows, 6 columns and 27 nonzeros\n",
      "Model fingerprint: 0x4d34eec9\n",
      "Variable types: 0 continuous, 6 integer (0 binary)\n",
      "Coefficient statistics:\n",
      "  Matrix range     [1e+00, 4e+01]\n",
      "  Objective range  [6e+00, 1e+01]\n",
      "  Bounds range     [3e+00, 5e+00]\n",
      "  RHS range        [1e+01, 4e+02]\n",
      "Presolve removed 8 rows and 6 columns\n",
      "Presolve time: 0.00s\n",
      "Presolve: All rows and columns removed\n",
      "\n",
      "Explored 0 nodes (0 simplex iterations) in 0.00 seconds\n",
      "Thread count was 1 (of 8 available processors)\n",
      "\n",
      "Solution count 1: 210 \n",
      "\n",
      "Optimal solution found (tolerance 1.00e-04)\n",
      "Best objective 2.100000000000e+02, best bound 2.100000000000e+02, gap 0.0000%\n"
     ]
    },
    {
     "data": {
      "text/plain": [
       "[<gurobi.Var product 1 (value 35.0)>,\n",
       " <gurobi.Var product 2 (value 0.0)>,\n",
       " <gurobi.Var product 3 (value 0.0)>,\n",
       " <gurobi.Var number of machine 1 (value 3.0)>,\n",
       " <gurobi.Var number of machine 2 (value 3.0)>,\n",
       " <gurobi.Var number of machine 3 (value 4.0)>]"
      ]
     },
     "execution_count": 8,
     "metadata": {},
     "output_type": "execute_result"
    }
   ],
   "source": [
    "m2 = gp.Model()\n",
    "\n",
    "x1=m2.addVar(0,obj=6,vtype = GRB.INTEGER, name = 'product 1')\n",
    "x2=m2.addVar(0,obj=8,vtype = GRB.INTEGER, name = 'product 2')\n",
    "x3=m2.addVar(0,obj=10,vtype = GRB.INTEGER,name = 'product 3')\n",
    "\n",
    "y1 = m2.addVar(0, 5, vtype=GRB.INTEGER, name=\"number of machine 1\")\n",
    "y2 = m2.addVar(0, 3, vtype=GRB.INTEGER, name=\"number of machine 2\")\n",
    "y3 = m2.addVar(0, 4, vtype=GRB.INTEGER, name=\"number of machine 3\")\n",
    "\n",
    "m2.ModelSense = GRB.MAXIMIZE\n",
    "\n",
    "#constraints\n",
    "m2.addConstr(2*x1+3*x2+4*x3 <= 5*40)\n",
    "m2.addConstr(3*x1+5*x2+6*x3 <= 3*40)\n",
    "m2.addConstr(4*x1+7*x2+9*x3 <= 4*40)\n",
    "\n",
    "m2.addConstr(2*x1+3*x2+4*x3 <= 35*y1)\n",
    "m2.addConstr(3*x1+5*x2+6*x3 <= 35*y2)\n",
    "m2.addConstr(4*x1+7*x2+9*x3 <= 35*y3)\n",
    "m2.addConstr(y1+y2+y3 == 10)\n",
    "m2.addConstr(9*x1+15*x2+19*x3 <= 10*35)\n",
    "\n",
    "m2.optimize()\n",
    "m2.getVars()"
   ]
  },
  {
   "cell_type": "code",
   "execution_count": null,
   "id": "042614c3",
   "metadata": {},
   "outputs": [],
   "source": []
  }
 ],
 "metadata": {
  "kernelspec": {
   "display_name": "Python 3",
   "language": "python",
   "name": "python3"
  },
  "language_info": {
   "codemirror_mode": {
    "name": "ipython",
    "version": 3
   },
   "file_extension": ".py",
   "mimetype": "text/x-python",
   "name": "python",
   "nbconvert_exporter": "python",
   "pygments_lexer": "ipython3",
   "version": "3.8.8"
  }
 },
 "nbformat": 4,
 "nbformat_minor": 5
}
