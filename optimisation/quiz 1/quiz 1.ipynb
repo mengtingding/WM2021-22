{
 "cells": [
  {
   "cell_type": "code",
   "execution_count": 2,
   "id": "5ad6b466",
   "metadata": {},
   "outputs": [],
   "source": [
    "import gurobipy as gp\n",
    "from gurobipy import *"
   ]
  },
  {
   "cell_type": "code",
   "execution_count": 2,
   "id": "2b34859d",
   "metadata": {},
   "outputs": [
    {
     "name": "stdout",
     "output_type": "stream",
     "text": [
      "Academic license - for non-commercial use only - expires 2022-09-19\n",
      "Using license file C:\\Users\\mengt\\gurobi.lic\n",
      "Gurobi Optimizer version 9.1.2 build v9.1.2rc0 (win64)\n",
      "Thread count: 4 physical cores, 8 logical processors, using up to 8 threads\n",
      "Optimize a model with 5 rows, 6 columns and 12 nonzeros\n",
      "Model fingerprint: 0x68915ec4\n",
      "Coefficient statistics:\n",
      "  Matrix range     [1e+00, 9e+01]\n",
      "  Objective range  [3e+00, 3e+00]\n",
      "  Bounds range     [0e+00, 0e+00]\n",
      "  RHS range        [2e+03, 1e+05]\n",
      "Presolve removed 4 rows and 4 columns\n",
      "Presolve time: 0.00s\n",
      "Presolved: 1 rows, 2 columns, 2 nonzeros\n",
      "\n",
      "Iteration    Objective       Primal Inf.    Dual Inf.      Time\n",
      "       0    0.0000000e+00   9.953125e+02   0.000000e+00      0s\n",
      "       1    4.1002299e+03   0.000000e+00   0.000000e+00      0s\n",
      "\n",
      "Solved in 1 iterations and 0.01 seconds\n",
      "Optimal objective  4.100229885e+03\n"
     ]
    },
    {
     "data": {
      "text/plain": [
       "[<gurobi.Var C0 (value 1464.367816091954)>,\n",
       " <gurobi.Var C1 (value 0.0)>,\n",
       " <gurobi.Var C2 (value 0.0)>,\n",
       " <gurobi.Var C3 (value 0.0)>,\n",
       " <gurobi.Var C4 (value 0.0)>,\n",
       " <gurobi.Var C5 (value 0.0)>]"
      ]
     },
     "execution_count": 2,
     "metadata": {},
     "output_type": "execute_result"
    }
   ],
   "source": [
    "gas = gp.Model()\n",
    "x_11 = gas.addVar(0,obj=2.8,vtype = GRB.CONTINUOUS)\n",
    "x_12 = gas.addVar(0,obj=2.8,vtype = GRB.CONTINUOUS)\n",
    "x_13 = gas.addVar(0,obj=2.8,vtype = GRB.CONTINUOUS)\n",
    "x_21 = gas.addVar(0,obj=3.2,vtype = GRB.CONTINUOUS)\n",
    "x_22 = gas.addVar(0,obj=3.2,vtype = GRB.CONTINUOUS)\n",
    "x_23 = gas.addVar(0,obj=3.2,vtype = GRB.CONTINUOUS)\n",
    "\n",
    "gas.ModelSense = GRB.MINIMIZE\n",
    "\n",
    "gas.addConstr(87*x_11+93*x_21 >= 800*88)\n",
    "gas.addConstr(87*x_11+93*x_21 >= 900*89)\n",
    "gas.addConstr(87*x_11+93*x_21 >= 1400*91)\n",
    "gas.addConstr(x_11+x_12+x_13 <= 1500)\n",
    "gas.addConstr(x_21+x_22+x_23 <= 6000)\n",
    "\n",
    "gas.optimize()\n",
    "gas.getVars()"
   ]
  },
  {
   "cell_type": "code",
   "execution_count": 4,
   "id": "29800d1a",
   "metadata": {},
   "outputs": [
    {
     "name": "stdout",
     "output_type": "stream",
     "text": [
      "Gurobi Optimizer version 9.1.2 build v9.1.2rc0 (win64)\n",
      "Thread count: 4 physical cores, 8 logical processors, using up to 8 threads\n",
      "Optimize a model with 8 rows, 6 columns and 22 nonzeros\n",
      "Model fingerprint: 0x15fc3e10\n",
      "Variable types: 0 continuous, 6 integer (0 binary)\n",
      "Coefficient statistics:\n",
      "  Matrix range     [1e+00, 9e+01]\n",
      "  Objective range  [3e+00, 3e+00]\n",
      "  Bounds range     [0e+00, 0e+00]\n",
      "  RHS range        [8e+02, 6e+03]\n",
      "Presolve removed 0 rows and 1 columns\n",
      "Presolve time: 0.00s\n",
      "Presolved: 8 rows, 5 columns, 20 nonzeros\n",
      "Variable types: 0 continuous, 5 integer (0 binary)\n",
      "Found heuristic solution: objective 7720.0000000\n",
      "\n",
      "Root relaxation: objective 7.245455e+03, 5 iterations, 0.00 seconds\n",
      "\n",
      "    Nodes    |    Current Node    |     Objective Bounds      |     Work\n",
      " Expl Unexpl |  Obj  Depth IntInf | Incumbent    BestBd   Gap | It/Node Time\n",
      "\n",
      "     0     0 7245.45455    0    5 7720.00000 7245.45455  6.15%     -    0s\n",
      "H    0     0                    7246.4000000 7245.45455  0.01%     -    0s\n",
      "\n",
      "Cutting planes:\n",
      "  Gomory: 1\n",
      "\n",
      "Explored 1 nodes (5 simplex iterations) in 0.01 seconds\n",
      "Thread count was 8 (of 8 available processors)\n",
      "\n",
      "Solution count 2: 7246.4 7720 \n",
      "\n",
      "Optimal solution found (tolerance 1.00e-04)\n",
      "Best objective 7.246400000000e+03, best bound 7.246400000000e+03, gap 0.0000%\n"
     ]
    },
    {
     "data": {
      "text/plain": [
       "[<gurobi.Var x11 (value 759.0)>,\n",
       " <gurobi.Var x12 (value 741.0)>,\n",
       " <gurobi.Var x13 (value -0.0)>,\n",
       " <gurobi.Var x21 (value 152.0)>,\n",
       " <gurobi.Var x22 (value 159.0)>,\n",
       " <gurobi.Var x23 (value 641.0)>]"
      ]
     },
     "execution_count": 4,
     "metadata": {},
     "output_type": "execute_result"
    }
   ],
   "source": [
    "gas = gp.Model()\n",
    "x_11 = gas.addVar(0,obj=2.8,vtype = GRB.INTEGER,name = 'x11')\n",
    "x_12 = gas.addVar(0,obj=2.8,vtype = GRB.INTEGER,name = 'x12')\n",
    "x_13 = gas.addVar(0,obj=2.8,vtype = GRB.INTEGER,name = 'x13')\n",
    "x_21 = gas.addVar(0,obj=3.2,vtype = GRB.INTEGER,name = 'x21')\n",
    "x_22 = gas.addVar(0,obj=3.2,vtype = GRB.INTEGER,name = 'x22')\n",
    "x_23 = gas.addVar(0,obj=3.2,vtype = GRB.INTEGER,name = 'x23')\n",
    "\n",
    "gas.ModelSense = GRB.MINIMIZE\n",
    "gas.addConstr(x_11+x_21 >= 800)\n",
    "gas.addConstr(x_12+x_22 >= 900)\n",
    "gas.addConstr(x_11+x_23 >= 1400)\n",
    "\n",
    "gas.addConstr(87*x_11+93*x_21 >= (x_11+x_21)*88)\n",
    "gas.addConstr(87*x_11+93*x_21 >= (x_12+x_22)*89)\n",
    "gas.addConstr(87*x_11+93*x_21 >= (x_13+x_23)*91)\n",
    "gas.addConstr(x_11+x_12+x_13 <= 1500)\n",
    "gas.addConstr(x_21+x_22+x_23 <= 6000)\n",
    "\n",
    "gas.optimize()\n",
    "gas.getVars()"
   ]
  },
  {
   "cell_type": "code",
   "execution_count": null,
   "id": "0bfb96d9",
   "metadata": {},
   "outputs": [],
   "source": []
  }
 ],
 "metadata": {
  "kernelspec": {
   "display_name": "Python 3",
   "language": "python",
   "name": "python3"
  },
  "language_info": {
   "codemirror_mode": {
    "name": "ipython",
    "version": 3
   },
   "file_extension": ".py",
   "mimetype": "text/x-python",
   "name": "python",
   "nbconvert_exporter": "python",
   "pygments_lexer": "ipython3",
   "version": "3.8.8"
  }
 },
 "nbformat": 4,
 "nbformat_minor": 5
}
