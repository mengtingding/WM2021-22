{
 "cells": [
  {
   "cell_type": "code",
   "execution_count": 24,
   "id": "6bcdbef7",
   "metadata": {},
   "outputs": [],
   "source": [
    "from gurobipy import *\n",
    "import math\n",
    "Arcs= {(1,2):400,(1,3):950,(1,4):800,\n",
    "    (2,5):1800,(2,6):900,\n",
    "    (3,5):1100,(3,6):600,\n",
    "    (4,6):600,(4,7):1200,\n",
    "    (6,5):900,(6,7):1000,(5,8):400,(6,8):1300,(7,8):600}\n",
    "Nodes = [1,2,3,4,5,6,7,8]\n",
    "visited = []\n",
    "\n",
    "shortest = [math.inf]*len(Nodes); prev_node = shortest.copy()\n"
   ]
  },
  {
   "cell_type": "code",
   "execution_count": 27,
   "id": "fede03a6",
   "metadata": {},
   "outputs": [
    {
     "data": {
      "text/plain": [
       "{1: 0, 2: 400, 3: 950, 4: 800, 5: 2050, 6: 1300, 7: 2000, 8: 2450}"
      ]
     },
     "execution_count": 27,
     "metadata": {},
     "output_type": "execute_result"
    }
   ],
   "source": [
    "def dijkstra(nodes,edges, source_index=1):\n",
    "    path_lengths={v: float('inf') for v in nodes}\n",
    "    path_lengths[source_index] = 0\n",
    "    \n",
    "    adjacent_nodes = {v: {} for v in nodes}\n",
    "    for (u,v), w_uv in edges.items():\n",
    "        adjacent_nodes[u][v] = w_uv\n",
    "        adjacent_nodes[v][u] = w_uv\n",
    "        \n",
    "    temporary_nodes = [v for v in nodes]\n",
    "    while len(temporary_nodes)>0:\n",
    "        upper_bounds = {v: path_lengths[v] for v in temporary_nodes}\n",
    "        u = min(upper_bounds,key=upper_bounds.get)\n",
    "        \n",
    "        temporary_nodes.remove(u)\n",
    "        for v, w_uv in adjacent_nodes[u].items():\n",
    "            path_lengths[v]=min(path_lengths[v],path_lengths[u]+w_uv)\n",
    "            \n",
    "            \n",
    "    return path_lengths\n",
    "\n",
    "dijkstra(Nodes,Arcs,1)"
   ]
  },
  {
   "cell_type": "code",
   "execution_count": null,
   "id": "46b2a95d",
   "metadata": {},
   "outputs": [],
   "source": [
    "while len(Nodes) != 0:\n",
    "    "
   ]
  },
  {
   "cell_type": "code",
   "execution_count": 18,
   "id": "e87d84d4",
   "metadata": {},
   "outputs": [],
   "source": [
    "from gurobipy import *\n",
    "import math\n",
    "Arcs= {'1':{'2':400,\"3\":950,\"4\":800},\n",
    "    \"2\":{\"5\":1800,\"6\":900},\n",
    "    \"3\":{\"5\":1100,\"6\":600},\n",
    "    \"4\":{\"6\":600,\"7\":1200},\n",
    "    \"5\":{\"8\":400},\n",
    "    \"6\":{\"5\":900,\"7\":1000,\"8\":1300},\n",
    "    \"7\":{\"8\":600}\n",
    "      }\n",
    "Nodes = [\"1\",\"2\",\"3\",\"4\",\"5\",\"6\",\"7\",\"8\"]\n",
    "visited = []"
   ]
  },
  {
   "cell_type": "code",
   "execution_count": 20,
   "id": "d7f97615",
   "metadata": {},
   "outputs": [
    {
     "data": {
      "text/plain": [
       "400"
      ]
     },
     "execution_count": 20,
     "metadata": {},
     "output_type": "execute_result"
    }
   ],
   "source": [
    "Arcs[\"1\"][\"2\"]"
   ]
  },
  {
   "cell_type": "code",
   "execution_count": null,
   "id": "75de9e92",
   "metadata": {},
   "outputs": [],
   "source": [
    "s"
   ]
  }
 ],
 "metadata": {
  "kernelspec": {
   "display_name": "Python 3",
   "language": "python",
   "name": "python3"
  },
  "language_info": {
   "codemirror_mode": {
    "name": "ipython",
    "version": 3
   },
   "file_extension": ".py",
   "mimetype": "text/x-python",
   "name": "python",
   "nbconvert_exporter": "python",
   "pygments_lexer": "ipython3",
   "version": "3.8.8"
  }
 },
 "nbformat": 4,
 "nbformat_minor": 5
}
