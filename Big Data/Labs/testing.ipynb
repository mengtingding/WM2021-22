{
 "cells": [
  {
   "cell_type": "code",
   "execution_count": 4,
   "id": "e4051ba4",
   "metadata": {},
   "outputs": [],
   "source": [
    "from mrjob.job import MRJob \n",
    "from mrjob.protocol import RawValueProtocol\n",
    "import re"
   ]
  },
  {
   "cell_type": "code",
   "execution_count": 15,
   "id": "b6338891",
   "metadata": {},
   "outputs": [],
   "source": [
    "sentiment_analysis = 'in24.inetnebr.com - - [01/Aug/1995:00:00:01 -0400] \"GET /shuttle/missions/sts-68/news/sts-68-mcc-05.txt HTTP/1.0\" 200 1839; uplherc.upl.com - - [01/Aug/1995:00:00:07 -0400] \"GET / HTTP/1.0\" 304 0'\n"
   ]
  },
  {
   "cell_type": "code",
   "execution_count": 19,
   "id": "ab41b25c",
   "metadata": {},
   "outputs": [],
   "source": [
    "regex = re.compile(r\"(^\\S+)\\s(-)\\s(-)\\s(\\[.+])\\s(\\\".+\\\")\\s(\\d+)\\s(\\S+)\")\n"
   ]
  },
  {
   "cell_type": "code",
   "execution_count": 33,
   "id": "6da52d64",
   "metadata": {},
   "outputs": [
    {
     "name": "stdout",
     "output_type": "stream",
     "text": [
      "in24.inetnebr.com\n",
      "in24.inetnebr.com 1\n"
     ]
    }
   ],
   "source": [
    "lst = regex.findall(sentiment_analysis)\n",
    "for item in lst:\n",
    "    print(item[0])\n",
    "    if item[0] ==\"in24.inetnebr.com\":\n",
    "        print(item[0],1)"
   ]
  },
  {
   "cell_type": "code",
   "execution_count": 41,
   "id": "c5cafb8e",
   "metadata": {},
   "outputs": [],
   "source": [
    "def mapper(line):\n",
    "    data = regex.findall(line)\n",
    "    for item in data:\n",
    "        ip = item[0]\n",
    "        user_identifier = item[1]\n",
    "        userid = item[2]\n",
    "        datetime = item[3]\n",
    "        requested_line = item[4]\n",
    "        status_code = item[5]\n",
    "        size = item[6]\n",
    "        if ip==\"in24.inetnebr.com\":\n",
    "            return (ip, 1)\n",
    "        \n",
    "def combiner_count_words(word, counts):\n",
    "    # optimization: sum the words we've seen so far\n",
    "    return (word, sum(counts))"
   ]
  },
  {
   "cell_type": "code",
   "execution_count": 43,
   "id": "4ac4655e",
   "metadata": {},
   "outputs": [
    {
     "name": "stdout",
     "output_type": "stream",
     "text": [
      "('in24.inetnebr.com', 1)\n"
     ]
    },
    {
     "ename": "TypeError",
     "evalue": "combiner_count_words() missing 1 required positional argument: 'counts'",
     "output_type": "error",
     "traceback": [
      "\u001b[1;31m---------------------------------------------------------------------------\u001b[0m",
      "\u001b[1;31mTypeError\u001b[0m                                 Traceback (most recent call last)",
      "\u001b[1;32m<ipython-input-43-14fafe3854b9>\u001b[0m in \u001b[0;36m<module>\u001b[1;34m\u001b[0m\n\u001b[0;32m      1\u001b[0m \u001b[0mresult\u001b[0m \u001b[1;33m=\u001b[0m \u001b[0mmapper\u001b[0m\u001b[1;33m(\u001b[0m\u001b[0msentiment_analysis\u001b[0m\u001b[1;33m)\u001b[0m\u001b[1;33m\u001b[0m\u001b[1;33m\u001b[0m\u001b[0m\n\u001b[0;32m      2\u001b[0m \u001b[0mprint\u001b[0m\u001b[1;33m(\u001b[0m\u001b[0mresult\u001b[0m\u001b[1;33m)\u001b[0m\u001b[1;33m\u001b[0m\u001b[1;33m\u001b[0m\u001b[0m\n\u001b[1;32m----> 3\u001b[1;33m \u001b[0mcombiner_count_words\u001b[0m\u001b[1;33m(\u001b[0m\u001b[0mresult\u001b[0m\u001b[1;33m)\u001b[0m\u001b[1;33m\u001b[0m\u001b[1;33m\u001b[0m\u001b[0m\n\u001b[0m",
      "\u001b[1;31mTypeError\u001b[0m: combiner_count_words() missing 1 required positional argument: 'counts'"
     ]
    }
   ],
   "source": [
    "result = mapper(sentiment_analysis)\n",
    "print(result)\n",
    "combiner_count_words()"
   ]
  },
  {
   "cell_type": "code",
   "execution_count": null,
   "id": "339a6d27",
   "metadata": {},
   "outputs": [],
   "source": []
  }
 ],
 "metadata": {
  "kernelspec": {
   "display_name": "Python 3",
   "language": "python",
   "name": "python3"
  },
  "language_info": {
   "codemirror_mode": {
    "name": "ipython",
    "version": 3
   },
   "file_extension": ".py",
   "mimetype": "text/x-python",
   "name": "python",
   "nbconvert_exporter": "python",
   "pygments_lexer": "ipython3",
   "version": "3.8.8"
  }
 },
 "nbformat": 4,
 "nbformat_minor": 5
}
