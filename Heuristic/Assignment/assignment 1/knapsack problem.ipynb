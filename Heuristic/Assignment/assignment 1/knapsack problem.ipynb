{
 "cells": [
  {
   "cell_type": "code",
   "execution_count": 1,
   "id": "9324e162",
   "metadata": {},
   "outputs": [],
   "source": [
    "import time\n",
    "import numpy as np\n",
    "value = []\n",
    "weight = []\n",
    "#dataset 10\n",
    "items = (\n",
    "    (\"Item 1\", 382745, 825594), (\"Item 2\", 799601, 1677009), (\"Item 3\", 909247, 1676628), (\"Item 4\", 729069, 1523970), (\"Item 5\", 467902, 943972), (\"Item 6\", 44328, 97426), (\"Item 7\", 34610, 69666), (\"Item 8\", 698150, 1296457), (\"Item 9\", 823460, 1679693), (\"Item 10\", 903959, 1902996), (\"Item 11\", 853665, 1844992), (\"Item 12\", 551830, 1049289), (\"Item 13\", 610856, 1252836), (\"Item 14\", 670702, 1319836), (\"Item 15\", 488960, 953277), (\"Item 16\", 951111, 2067538), (\"Item 17\", 323046, 675367), (\"Item 18\", 446298, 853655), (\"Item 19\", 931161, 1826027), (\"Item 20\", 31385, 65731), (\"Item 21\", 496951, 901489), (\"Item 22\", 264724, 577243), (\"Item 23\", 224916, 466257), (\"Item 24\", 169684, 369261),\n",
    "    )\n",
    "cap = 6404180\n",
    "\n",
    "for i in range(len(items)):\n",
    "    value.append(items[i][2])\n",
    "    weight.append(items[i][1])\n",
    "    \n",
    "W = cap"
   ]
  },
  {
   "cell_type": "code",
   "execution_count": 14,
   "id": "2b7f9282",
   "metadata": {},
   "outputs": [
    {
     "name": "stdout",
     "output_type": "stream",
     "text": [
      "6 27\n",
      "Knapsack value is [[ 0  0  0  0  0  0  0  0  0  0  0  0  0  0  0  0  0  0  0  0  0  0  0  0\n",
      "   0  0  0]\n",
      " [ 0  0  0  0  0  0  0  0  0  0  0  0 24 24 24 24 24 24 24 24 24 24 24 24\n",
      "  24 24 24]\n",
      " [ 0  0  0  0  0  0  0 13 13 13 13 13 24 24 24 24 24 24 24 37 37 37 37 37\n",
      "  37 37 37]\n",
      " [ 0  0  0  0  0  0  0 13 13 13 13 23 24 24 24 24 24 24 36 37 37 37 37 47\n",
      "  47 47 47]\n",
      " [ 0  0  0  0  0  0  0 13 15 15 15 23 24 24 24 28 28 28 36 38 39 39 39 47\n",
      "  47 47 51]\n",
      " [ 0  0  0  0  0  0  0 13 15 16 16 23 24 24 24 28 29 31 36 38 39 40 40 47\n",
      "  47 47 51]]\n",
      "running time is: 0.0009982585906982422\n"
     ]
    }
   ],
   "source": [
    "#Bottom up method\n",
    "start = time.time()\n",
    "def knapsack(v, w, W):\n",
    " \n",
    "    # `T[i][j]` stores the maximum value of knapsack having weight less\n",
    "    # than equal to `j` with only first `i` items considered.\n",
    "    T = [[0 for x in range(W + 1)] for y in range(len(v) + 1)]\n",
    "    print(len(T),len(T[0]))\n",
    " \n",
    "    # do for i'th item\n",
    "    for i in range(1, len(v) + 1):\n",
    " \n",
    "        # consider all weights from 0 to maximum capacity `W`\n",
    "        for j in range(W + 1):\n",
    " \n",
    "            # don't include the i'th element if `j-w[i-1]` is negative\n",
    "            if w[i - 1] > j:\n",
    "                T[i][j] = T[i - 1][j]\n",
    "            else:\n",
    "                # find the maximum value we get by excluding or including the i'th item\n",
    "                T[i][j] = max(T[i - 1][j], T[i - 1][j - w[i - 1]] + v[i - 1])\n",
    " \n",
    "    # return maximum value\n",
    "    #return T[len(v)][W]\n",
    "    return np.array(T)\n",
    " \n",
    "if __name__ == '__main__':\n",
    " \n",
    "    # input: a set of items, each with a weight and a value\n",
    "    v = value\n",
    "    w = weight\n",
    " \n",
    "    # knapsack capacity\n",
    "    W = W\n",
    " \n",
    "    print('Knapsack value is', knapsack(v, w, W))\n",
    "end=time.time()\n",
    "print(\"running time is:\",end-start)"
   ]
  },
  {
   "cell_type": "code",
   "execution_count": 3,
   "id": "d148ccd6",
   "metadata": {},
   "outputs": [
    {
     "name": "stdout",
     "output_type": "stream",
     "text": [
      "51\n",
      "running time is : 0.0\n"
     ]
    }
   ],
   "source": [
    "# Top down method\n",
    "start = time.time()\n",
    "def solve_knapsack(profits, weights, capacity):\n",
    "    # create a two dimensional array for Memoization, each element is initialized to '-1'\n",
    "    dp = [[-1 for x in range(capacity+1)] for y in range(len(profits))]\n",
    "    return knapsack_recursive(dp, profits, weights, capacity, 0)\n",
    "\n",
    "def knapsack_recursive(dp, profits, weights, capacity, currentIndex):\n",
    "    # base checks\n",
    "    if capacity <= 0 or currentIndex >= len(profits):\n",
    "        return 0\n",
    "    # if we have already solved a similar problem, return the result from memory\n",
    "    if dp[currentIndex][capacity] != -1:\n",
    "        return dp[currentIndex][capacity]\n",
    "\n",
    "    # recursive call after choosing the element at the currentIndex\n",
    "    # if the weight of the element at currentIndex exceeds the capacity, we\n",
    "    # shouldn't process this\n",
    "    profit1 = 0\n",
    "    if weights[currentIndex] <= capacity:\n",
    "        profit1 = profits[currentIndex] + knapsack_recursive(dp, profits, weights, capacity - weights[currentIndex], currentIndex + 1)\n",
    "\n",
    "    # recursive call after excluding the element at the currentIndex\n",
    "    profit2 = knapsack_recursive(dp, profits, weights, capacity, currentIndex + 1)\n",
    "\n",
    "    dp[currentIndex][capacity] = max(profit1, profit2)\n",
    "    return dp[currentIndex][capacity]\n",
    "\n",
    "print(solve_knapsack(value,weight, cap))\n",
    "end = time.time()\n",
    "print(\"running time is :\",end-start)"
   ]
  },
  {
   "cell_type": "code",
   "execution_count": null,
   "id": "b7482d6c",
   "metadata": {},
   "outputs": [],
   "source": [
    "#Bottom up method\n",
    "start = time.time()\n",
    "v = value\n",
    "w = weight\n",
    "W = W\n",
    "# `T[i][j]` stores the maximum value of knapsack having weight less\n",
    "# than equal to `j` with only first `i` items considered.\n",
    "T = np.array([[0 for x in range(W + 1)] for y in range(len(v))])\n",
    "knapsack_item = []\n",
    "\n",
    "\n",
    "# do for i'th item\n",
    "for i in range(len(v)):\n",
    " \n",
    "    # consider all weights from 0 to maximum capacity `W`\n",
    "    for j in range(W + 1):\n",
    " \n",
    "        # don't include the i'th element if `j-w[i-1]` is negative\n",
    "        if i == 0:\n",
    "            if w[i] > j:\n",
    "                T[i][j] = T[i][j]\n",
    "            else:\n",
    "                # find the maximum value we get by excluding or including the i'th item\n",
    "                T[i][j] = v[i]\n",
    "        else:\n",
    "            if w[i] > j:\n",
    "                T[i][j] = T[i-1][j]\n",
    "            else:\n",
    "                T[i][j] = max(T[i-1][j],T[i-1][j-w[i]]+v[i])\n",
    "result = []\n",
    "m = max(T[-1])\n",
    "\n",
    "for i in range(len(T)-2,-1,-1):\n",
    "    if m not in T[i]:\n",
    "        result.append(i+1)\n",
    "        m = m-v[i+1]\n",
    "if m != 0:\n",
    "    result.append(0)\n",
    "    m=m-v[0]\n",
    "\n",
    "weight_total = 0\n",
    "for i in range(len(result)-1,-1,-1):\n",
    "    print(items[result[i]][0])\n",
    "    weight_total += w[result[i]]\n",
    "    \n",
    "print(\"knapsack total weight,\",weight_total)\n",
    "print('Knapsack value is', T[len(v)-1][W])\n",
    "\n",
    "end=time.time()\n",
    "print(\"running time is:\",end-start)"
   ]
  },
  {
   "cell_type": "code",
   "execution_count": 49,
   "id": "4a59d4f5",
   "metadata": {},
   "outputs": [
    {
     "data": {
      "text/plain": [
       "190"
      ]
     },
     "execution_count": 49,
     "metadata": {},
     "output_type": "execute_result"
    }
   ],
   "source": []
  },
  {
   "cell_type": "markdown",
   "id": "41c51256",
   "metadata": {},
   "source": [
    "https://www.educative.io/courses/grokking-dynamic-programming-patterns-for-coding-interviews/RM1BDv71V60#Top-down-Dynamic-Programming-with-Memoization\n"
   ]
  }
 ],
 "metadata": {
  "kernelspec": {
   "display_name": "Python 3",
   "language": "python",
   "name": "python3"
  },
  "language_info": {
   "codemirror_mode": {
    "name": "ipython",
    "version": 3
   },
   "file_extension": ".py",
   "mimetype": "text/x-python",
   "name": "python",
   "nbconvert_exporter": "python",
   "pygments_lexer": "ipython3",
   "version": "3.8.8"
  }
 },
 "nbformat": 4,
 "nbformat_minor": 5
}
