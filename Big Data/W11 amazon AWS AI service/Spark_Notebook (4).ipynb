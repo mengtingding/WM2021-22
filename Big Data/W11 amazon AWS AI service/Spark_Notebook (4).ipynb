{
 "cells": [
  {
   "cell_type": "markdown",
   "id": "d7db3203-48ca-4411-a2ed-4d57a2c7642d",
   "metadata": {
    "id": "d7db3203-48ca-4411-a2ed-4d57a2c7642d"
   },
   "source": [
    "# PySpark"
   ]
  },
  {
   "cell_type": "markdown",
   "id": "739e8ce6-71bd-4df2-a44e-27e6e85b4ae1",
   "metadata": {
    "id": "739e8ce6-71bd-4df2-a44e-27e6e85b4ae1"
   },
   "source": [
    "Installation: open anaconda navigator (terminal) in admin mode and run: **conda install pyspark**"
   ]
  },
  {
   "cell_type": "code",
   "execution_count": null,
   "id": "VfEZJKn8H3mA",
   "metadata": {
    "colab": {
     "base_uri": "https://localhost:8080/"
    },
    "id": "VfEZJKn8H3mA",
    "outputId": "83a83c8e-be7b-4a15-998b-8a0e58d3cee7"
   },
   "outputs": [
    {
     "name": "stdout",
     "output_type": "stream",
     "text": [
      "Collecting pyspark\n",
      "  Downloading pyspark-3.2.1.tar.gz (281.4 MB)\n",
      "\u001b[K     |████████████████████████████████| 281.4 MB 34 kB/s \n",
      "\u001b[?25hCollecting py4j==0.10.9.3\n",
      "  Downloading py4j-0.10.9.3-py2.py3-none-any.whl (198 kB)\n",
      "\u001b[K     |████████████████████████████████| 198 kB 54.1 MB/s \n",
      "\u001b[?25hBuilding wheels for collected packages: pyspark\n",
      "  Building wheel for pyspark (setup.py) ... \u001b[?25l\u001b[?25hdone\n",
      "  Created wheel for pyspark: filename=pyspark-3.2.1-py2.py3-none-any.whl size=281853642 sha256=7fa55a155cc9a9e320b9e174d42252fa6f5db11a00aad66d6e62fbd7a92ba131\n",
      "  Stored in directory: /root/.cache/pip/wheels/9f/f5/07/7cd8017084dce4e93e84e92efd1e1d5334db05f2e83bcef74f\n",
      "Successfully built pyspark\n",
      "Installing collected packages: py4j, pyspark\n",
      "Successfully installed py4j-0.10.9.3 pyspark-3.2.1\n"
     ]
    }
   ],
   "source": [
    "!pip install pyspark"
   ]
  },
  {
   "cell_type": "code",
   "execution_count": 1,
   "id": "8108290f-1db5-4a81-a99c-e90be7e7dd57",
   "metadata": {
    "id": "8108290f-1db5-4a81-a99c-e90be7e7dd57"
   },
   "outputs": [],
   "source": [
    "from pyspark.sql import SQLContext\n",
    "from pyspark.sql.types import *\n",
    "from pyspark.sql import Row\n",
    "from pyspark import SparkContext"
   ]
  },
  {
   "cell_type": "code",
   "execution_count": null,
   "id": "1ece81ad-e752-4877-bda4-dbc7ebbc5d40",
   "metadata": {
    "colab": {
     "base_uri": "https://localhost:8080/"
    },
    "id": "1ece81ad-e752-4877-bda4-dbc7ebbc5d40",
    "outputId": "8e2f5336-0a36-4724-c91d-d681a52cdaa8"
   },
   "outputs": [
    {
     "name": "stdout",
     "output_type": "stream",
     "text": [
      "Collecting findspark\n",
      "  Downloading findspark-2.0.1-py2.py3-none-any.whl (4.4 kB)\n",
      "Installing collected packages: findspark\n",
      "Successfully installed findspark-2.0.1\n"
     ]
    }
   ],
   "source": [
    "!pip install findspark"
   ]
  },
  {
   "cell_type": "code",
   "execution_count": 2,
   "id": "f35c139a-9bba-48d5-9626-761484cee291",
   "metadata": {
    "id": "f35c139a-9bba-48d5-9626-761484cee291"
   },
   "outputs": [],
   "source": [
    "import findspark\n",
    "findspark.init()"
   ]
  },
  {
   "cell_type": "code",
   "execution_count": 3,
   "id": "597ec0fc-1a3d-4d46-be89-bad14dee67a7",
   "metadata": {
    "id": "597ec0fc-1a3d-4d46-be89-bad14dee67a7"
   },
   "outputs": [],
   "source": [
    "sc =SparkContext()"
   ]
  },
  {
   "cell_type": "code",
   "execution_count": 4,
   "id": "27554d52-d053-45d7-936f-21595b7467d5",
   "metadata": {
    "colab": {
     "base_uri": "https://localhost:8080/",
     "height": 70
    },
    "id": "27554d52-d053-45d7-936f-21595b7467d5",
    "outputId": "82e1f257-c00b-4ef2-f50e-02b0e8d3cd7b"
   },
   "outputs": [
    {
     "name": "stderr",
     "output_type": "stream",
     "text": [
      "C:\\ProgramData\\Anaconda3\\envs\\pyspark\\lib\\site-packages\\pyspark\\sql\\context.py:77: FutureWarning: Deprecated in 3.0.0. Use SparkSession.builder.getOrCreate() instead.\n",
      "  warnings.warn(\n"
     ]
    },
    {
     "data": {
      "text/plain": [
       "'3.2.1'"
      ]
     },
     "execution_count": 4,
     "metadata": {},
     "output_type": "execute_result"
    }
   ],
   "source": [
    "sqlContext = SQLContext(sc)\n",
    "sc.version"
   ]
  },
  {
   "cell_type": "code",
   "execution_count": 5,
   "id": "92d11858-2314-4478-a960-9ff9b236efbb",
   "metadata": {
    "id": "92d11858-2314-4478-a960-9ff9b236efbb"
   },
   "outputs": [],
   "source": [
    "#SparkContext version\n",
    "sc.version\n",
    "\n",
    "#Python version of SparkContext\n",
    "sc.pythonVer\n",
    "\n",
    "#master is the URL of the cluster or \"local\" string to run in local mode\n",
    "sc.master\n",
    "\n",
    "#loading data in PySpark\n",
    "\n",
    "#method 1: parallelize() method\n",
    "rdd = sc.parallelize([1,2,3,4,5])\n",
    "\n",
    "#method 2: textfile() method\n",
    "rdd2 = sc.textFile(\"text.txt\")\n",
    "\n",
    "\n",
    "#parallelize() method with partitions\n",
    "rdd = sc.parallelize([1,2,3,4,5], 6)\n",
    "\n",
    "#textfile() method with partitions\n",
    "rdd2 = sc.textFile(\"text.txt\")\n"
   ]
  },
  {
   "cell_type": "code",
   "execution_count": 6,
   "id": "f10d6140-076a-42c5-bdb8-9e7c86982c81",
   "metadata": {
    "colab": {
     "base_uri": "https://localhost:8080/"
    },
    "id": "f10d6140-076a-42c5-bdb8-9e7c86982c81",
    "outputId": "06b1719a-b753-4317-bf59-439af67062a3"
   },
   "outputs": [
    {
     "data": {
      "text/plain": [
       "ParallelCollectionRDD[3] at readRDDFromFile at PythonRDD.scala:274"
      ]
     },
     "execution_count": 6,
     "metadata": {},
     "output_type": "execute_result"
    }
   ],
   "source": [
    "rdd"
   ]
  },
  {
   "cell_type": "code",
   "execution_count": 7,
   "id": "2fe17404-0340-446e-b144-6a5c94d0cdc8",
   "metadata": {
    "colab": {
     "base_uri": "https://localhost:8080/"
    },
    "id": "2fe17404-0340-446e-b144-6a5c94d0cdc8",
    "outputId": "b0dece96-c70f-4514-d9c5-77929e0c6cfc"
   },
   "outputs": [
    {
     "data": {
      "text/plain": [
       "[1, 2, 3, 4, 5]"
      ]
     },
     "execution_count": 7,
     "metadata": {},
     "output_type": "execute_result"
    }
   ],
   "source": [
    "rdd.collect()"
   ]
  },
  {
   "cell_type": "code",
   "execution_count": 8,
   "id": "41b3aba1-9fe0-48a4-aa6f-a13bfbea884e",
   "metadata": {
    "colab": {
     "base_uri": "https://localhost:8080/"
    },
    "id": "41b3aba1-9fe0-48a4-aa6f-a13bfbea884e",
    "outputId": "a33d9987-80e5-486a-82d6-3cc7a3ab83dd"
   },
   "outputs": [
    {
     "data": {
      "text/plain": [
       "['Spark', 'Spark framework']"
      ]
     },
     "execution_count": 8,
     "metadata": {},
     "output_type": "execute_result"
    }
   ],
   "source": [
    "# Create an RDD from a list of words\n",
    "RDD = sc.parallelize([\"Spark\", \"is\", \"a\", \"Spark framework\", \"for\", \"Big Data processing\"])\n",
    "\n",
    "RDD.filter(lambda x: \"Spark\" in x).collect()"
   ]
  },
  {
   "cell_type": "code",
   "execution_count": 9,
   "id": "9ccdc89d-eb2b-43de-9b3b-18b7d8bbdddb",
   "metadata": {
    "id": "9ccdc89d-eb2b-43de-9b3b-18b7d8bbdddb"
   },
   "outputs": [],
   "source": [
    "# Create a Python list of numbers from 1 to 100 \n",
    "numb = range(1, 100)\n",
    "\n",
    "# Load the list into PySpark  \n",
    "spark_data = sc.parallelize(numb)"
   ]
  },
  {
   "cell_type": "markdown",
   "id": "2ac01dd3-10fb-4d38-aff0-498a2d597b2a",
   "metadata": {
    "id": "2ac01dd3-10fb-4d38-aff0-498a2d597b2a"
   },
   "source": [
    "# Functional Programming in Python"
   ]
  },
  {
   "cell_type": "markdown",
   "id": "514ae8cd-82c6-4459-88db-480db78eb3ad",
   "metadata": {
    "id": "514ae8cd-82c6-4459-88db-480db78eb3ad"
   },
   "source": [
    "PySpark becomes a lot easier if we understand functional programming principles in Python. \n",
    "\n",
    "A lambda function creates a function to be called later in the program. However, it returns the function instead of assigning it to a name. This is why lambdas are known as anonymous functions. In practice, they are used as a way to inline a function definition, or to defer execution of a code. Lambda functions can be used whenever function objects are required. They can have any number of arguments but only one expression and the expression is evaluated and returned."
   ]
  },
  {
   "cell_type": "code",
   "execution_count": 10,
   "id": "4498b183-d76c-4641-809b-84b40179f777",
   "metadata": {
    "id": "4498b183-d76c-4641-809b-84b40179f777",
    "outputId": "71e2d411-6853-4e8a-fe9e-4c511d40797f"
   },
   "outputs": [
    {
     "data": {
      "text/plain": [
       "4"
      ]
     },
     "execution_count": 10,
     "metadata": {},
     "output_type": "execute_result"
    }
   ],
   "source": [
    "#Example. Create a function that doubles the input it receives\n",
    "def double(x):\n",
    "    return 2*x\n",
    "\n",
    "double(2)"
   ]
  },
  {
   "cell_type": "code",
   "execution_count": 11,
   "id": "0ecd3385-22f8-4d84-855e-04cef1e51cd5",
   "metadata": {
    "id": "0ecd3385-22f8-4d84-855e-04cef1e51cd5",
    "outputId": "9383abca-f74f-41d3-9cef-e60dfefdde54"
   },
   "outputs": [
    {
     "name": "stdout",
     "output_type": "stream",
     "text": [
      "4\n"
     ]
    }
   ],
   "source": [
    "#with a lambda function\n",
    "double = lambda x: x*2\n",
    "print(double(2))"
   ]
  },
  {
   "cell_type": "markdown",
   "id": "0b156033-b41c-4454-aafd-3d8fbe340ffe",
   "metadata": {
    "id": "0b156033-b41c-4454-aafd-3d8fbe340ffe"
   },
   "source": [
    "#Note that they both do the same. \n",
    "#Note that the lambda function does not include a return statement. \n",
    "#You do not have to assign it to a varible\n",
    "#Used when a function is required for a short period of time\n",
    "map() function takes a function and a list and returns a new list which contains items returned by that function for each item."
   ]
  },
  {
   "cell_type": "markdown",
   "id": "82684972-4b9e-4ebe-847a-9a940b2484de",
   "metadata": {
    "id": "82684972-4b9e-4ebe-847a-9a940b2484de"
   },
   "source": [
    "## General syntax of map():"
   ]
  },
  {
   "cell_type": "raw",
   "id": "aeb9cb6c-313a-4bfd-a0d1-72a2978bbc0c",
   "metadata": {
    "id": "aeb9cb6c-313a-4bfd-a0d1-72a2978bbc0c"
   },
   "source": [
    "The map() function in Python returns a list of the results after applying the given function to each item of a given iterable (list, tuple etc.). The general syntax of map() function is map(fun, iter). We can also use lambda functions with map(). The general syntax of map() function with lambda() is map(lambda <argument>:<expression>, iter).\n",
    "\n",
    "In this exercise, you'll be using lambda function inside the map() built-in function to square all numbers in the list."
   ]
  },
  {
   "cell_type": "code",
   "execution_count": 12,
   "id": "a790f3e2-2359-42ee-bdd9-35c528bfea58",
   "metadata": {
    "colab": {
     "base_uri": "https://localhost:8080/"
    },
    "id": "a790f3e2-2359-42ee-bdd9-35c528bfea58",
    "outputId": "d9a2f23a-d300-4208-d4b5-41393c51168f"
   },
   "outputs": [
    {
     "data": {
      "text/plain": [
       "[1, 4, 9, 16, 25, 36, 49, 64, 81, 100]"
      ]
     },
     "execution_count": 12,
     "metadata": {},
     "output_type": "execute_result"
    }
   ],
   "source": [
    "#Example of map() with a lambda function as an inline function:\n",
    "my_list = [1, 2, 3, 4, 5, 6, 7, 8, 9, 10]\n",
    "list(map(lambda x: x*x, my_list))"
   ]
  },
  {
   "cell_type": "markdown",
   "id": "d4c94af5-dbdb-4984-b532-6b94acf317f3",
   "metadata": {
    "id": "d4c94af5-dbdb-4984-b532-6b94acf317f3"
   },
   "source": [
    "## General syntax of filter():"
   ]
  },
  {
   "cell_type": "raw",
   "id": "e058d48a-8f2e-4c17-8be1-28e980279ce3",
   "metadata": {
    "id": "e058d48a-8f2e-4c17-8be1-28e980279ce3"
   },
   "source": [
    "Another function that is used extensively in Python is the filter() function. The filter() function in Python takes in a function and a list as arguments. The general syntax of the filter() function is filter(function, list_of_input). Similar to the map(), filter() can be used with lambda function. The general syntax of the filter() function with lambda() is filter(lambda <argument>:<expression>, list). \n",
    "\n",
    "Filter() function takes in a function and a list as an argument, and returns a new list for which the function evaluates as true."
   ]
  },
  {
   "cell_type": "code",
   "execution_count": 13,
   "id": "c6f2a26d-a719-42b8-ba11-010be2b23d36",
   "metadata": {
    "colab": {
     "base_uri": "https://localhost:8080/"
    },
    "id": "c6f2a26d-a719-42b8-ba11-010be2b23d36",
    "outputId": "51bb4482-aa0d-4a24-fcd0-df4d9b638dfe"
   },
   "outputs": [
    {
     "data": {
      "text/plain": [
       "[1, 3]"
      ]
     },
     "execution_count": 13,
     "metadata": {},
     "output_type": "execute_result"
    }
   ],
   "source": [
    "#filter(function, list)\n",
    "items = [1, 2, 3, 4]\n",
    "list(filter(lambda x: x%2 != 0, items))"
   ]
  },
  {
   "cell_type": "code",
   "execution_count": 14,
   "id": "f7a433ed-122a-4bc7-aaf5-a7c7b71b6141",
   "metadata": {
    "colab": {
     "base_uri": "https://localhost:8080/"
    },
    "id": "f7a433ed-122a-4bc7-aaf5-a7c7b71b6141",
    "outputId": "bf17a338-2c9e-45f3-86fc-943ed1d1babf"
   },
   "outputs": [
    {
     "data": {
      "text/plain": [
       "[10, 40, 60, 80]"
      ]
     },
     "execution_count": 14,
     "metadata": {},
     "output_type": "execute_result"
    }
   ],
   "source": [
    "#filter numbers divisible by 10\n",
    "my_list = [10, 21, 31, 40, 51, 60, 72, 80, 93, 101]\n",
    "list(filter(lambda x: x%10 == 0, my_list))"
   ]
  },
  {
   "cell_type": "markdown",
   "id": "280f0405-28a0-4cde-a49b-6238dada58e0",
   "metadata": {
    "id": "280f0405-28a0-4cde-a49b-6238dada58e0"
   },
   "source": [
    "## Transformations"
   ]
  },
  {
   "cell_type": "raw",
   "id": "76793ddc-43ce-491e-81fd-ba6ecfe9d959",
   "metadata": {
    "id": "76793ddc-43ce-491e-81fd-ba6ecfe9d959"
   },
   "source": [
    "Transformations are lazy and not computed till an action requires a result to be returned to the driver program. By computing transformations in a lazy manner, Spark is able to perform operations in a more efficient manner as the operations can be grouped together. Spark API allows chaining together transformations and actions."
   ]
  },
  {
   "cell_type": "markdown",
   "id": "0b1ca5f5-99bb-47b8-a71f-41ec243f3366",
   "metadata": {
    "id": "0b1ca5f5-99bb-47b8-a71f-41ec243f3366"
   },
   "source": [
    "### Map"
   ]
  },
  {
   "cell_type": "raw",
   "id": "9da54035-76fa-4383-b7b7-a0fa23a160e7",
   "metadata": {
    "id": "9da54035-76fa-4383-b7b7-a0fa23a160e7"
   },
   "source": [
    "The map transformation takes as input a function which is applied to each element of the dataset \\\n",
    "and maps each input item to another item."
   ]
  },
  {
   "cell_type": "code",
   "execution_count": 15,
   "id": "bf4efdab-e7be-4621-9f89-c14e3218a827",
   "metadata": {
    "id": "bf4efdab-e7be-4621-9f89-c14e3218a827"
   },
   "outputs": [],
   "source": [
    "text = ['This is some random text about learning Spark', 'This is also some random text no Spark', 'more random text', 'even more', 'that is it', 'no more']\n",
    "RDD = sc.parallelize(text)"
   ]
  },
  {
   "cell_type": "code",
   "execution_count": 16,
   "id": "49891b6b-00fe-48e7-8556-07778b018f15",
   "metadata": {
    "id": "49891b6b-00fe-48e7-8556-07778b018f15"
   },
   "outputs": [],
   "source": [
    "### Filter"
   ]
  },
  {
   "cell_type": "code",
   "execution_count": 19,
   "id": "3828a68e-6446-4c7e-9778-15144ce9172c",
   "metadata": {
    "colab": {
     "base_uri": "https://localhost:8080/"
    },
    "id": "3828a68e-6446-4c7e-9778-15144ce9172c",
    "outputId": "12d08da8-9c68-4bea-b869-37d80067a3a5"
   },
   "outputs": [
    {
     "data": {
      "text/plain": [
       "['This', 'is', 'some']"
      ]
     },
     "execution_count": 19,
     "metadata": {},
     "output_type": "execute_result"
    }
   ],
   "source": [
    "RDD.flatMap(lambda s: s.split(\" \")).take(3)"
   ]
  },
  {
   "cell_type": "code",
   "execution_count": null,
   "id": "u1bPg8Wuq108",
   "metadata": {
    "id": "u1bPg8Wuq108"
   },
   "outputs": [],
   "source": []
  },
  {
   "cell_type": "raw",
   "id": "6f51f06e-b0b9-4e59-be4e-dd109736efd1",
   "metadata": {
    "id": "6f51f06e-b0b9-4e59-be4e-dd109736efd1"
   },
   "source": [
    "The filter transformation generates a new dataset by filtering the source dataset using the specified function."
   ]
  },
  {
   "cell_type": "code",
   "execution_count": null,
   "id": "b6d2dcb9-d308-481d-9dc1-4b5f0dbb4081",
   "metadata": {
    "colab": {
     "base_uri": "https://localhost:8080/"
    },
    "id": "b6d2dcb9-d308-481d-9dc1-4b5f0dbb4081",
    "outputId": "753e9b9f-f6a8-4904-deb3-c9a51e8c6fac"
   },
   "outputs": [
    {
     "data": {
      "text/plain": [
       "['This is some random text about learning Spark',\n",
       " 'This is also some random text no Spark']"
      ]
     },
     "execution_count": 78,
     "metadata": {},
     "output_type": "execute_result"
    }
   ],
   "source": [
    "filteredLines = RDD.filter(lambda line: line.find('Spark')>0)\n",
    "filteredLines.take(5)"
   ]
  },
  {
   "cell_type": "markdown",
   "id": "f74fc51f-fb6b-47e7-90e0-756f443db7a3",
   "metadata": {
    "id": "f74fc51f-fb6b-47e7-90e0-756f443db7a3"
   },
   "source": [
    "### ReduceByKey"
   ]
  },
  {
   "cell_type": "raw",
   "id": "9c1beb13-d860-41d3-a640-a670ee9a0548",
   "metadata": {
    "id": "9c1beb13-d860-41d3-a640-a670ee9a0548"
   },
   "source": [
    "The reduceByKey transformation when applied on dataset containing key-value pairs, aggregates values of each key using the function specified"
   ]
  },
  {
   "cell_type": "code",
   "execution_count": 20,
   "id": "452d10c7-9346-49ca-be29-8199c9d5c8fb",
   "metadata": {
    "colab": {
     "base_uri": "https://localhost:8080/"
    },
    "id": "452d10c7-9346-49ca-be29-8199c9d5c8fb",
    "outputId": "48767911-14d4-4b49-e873-70ee3b3c6b16"
   },
   "outputs": [
    {
     "data": {
      "text/plain": [
       "['This', 'is', 'some', 'random', 'text']"
      ]
     },
     "execution_count": 20,
     "metadata": {},
     "output_type": "execute_result"
    }
   ],
   "source": [
    "splitLines = RDD.flatMap(lambda line: line.split())\n",
    "splitLines.take(5)"
   ]
  },
  {
   "cell_type": "code",
   "execution_count": 21,
   "id": "ee62c9bd-3cab-4080-8056-3fb110b12b48",
   "metadata": {
    "colab": {
     "base_uri": "https://localhost:8080/"
    },
    "id": "ee62c9bd-3cab-4080-8056-3fb110b12b48",
    "outputId": "d7925b9e-5d67-4c6d-dccd-02f131f1a4d8"
   },
   "outputs": [
    {
     "data": {
      "text/plain": [
       "[('This', 1), ('is', 1), ('some', 1), ('random', 1), ('text', 1)]"
      ]
     },
     "execution_count": 21,
     "metadata": {},
     "output_type": "execute_result"
    }
   ],
   "source": [
    "words = splitLines.map(lambda word: (word, 1))\n",
    "words.take(5)"
   ]
  },
  {
   "cell_type": "code",
   "execution_count": 22,
   "id": "7ae63d22-b212-4d58-b6dc-4733f7187dea",
   "metadata": {
    "colab": {
     "base_uri": "https://localhost:8080/"
    },
    "id": "7ae63d22-b212-4d58-b6dc-4733f7187dea",
    "outputId": "8cee521e-536d-4ee2-caf9-cc6770faf033"
   },
   "outputs": [
    {
     "data": {
      "text/plain": [
       "[('learning', 1),\n",
       " ('random', 3),\n",
       " ('that', 1),\n",
       " ('also', 1),\n",
       " ('it', 1),\n",
       " ('some', 2),\n",
       " ('This', 2),\n",
       " ('no', 2),\n",
       " ('even', 1),\n",
       " ('more', 3)]"
      ]
     },
     "execution_count": 22,
     "metadata": {},
     "output_type": "execute_result"
    }
   ],
   "source": [
    "counts = words.reduceByKey(lambda a, b: a+b)\n",
    "counts.take(10)"
   ]
  },
  {
   "cell_type": "markdown",
   "id": "cd3e4ec1-18ee-4717-807e-86da0ff9f683",
   "metadata": {
    "id": "cd3e4ec1-18ee-4717-807e-86da0ff9f683"
   },
   "source": [
    "### flatMap"
   ]
  },
  {
   "cell_type": "raw",
   "id": "c7768a17-05b3-4836-a7d0-b9d27cf15883",
   "metadata": {
    "id": "c7768a17-05b3-4836-a7d0-b9d27cf15883"
   },
   "source": [
    "The flatMap transformation takes as input a function which is applied to each element of the dataset. The flatMap transformation can map each input item to zero or more output items"
   ]
  },
  {
   "cell_type": "code",
   "execution_count": 23,
   "id": "3eb59af9-d4b0-4711-92c9-d68946623e26",
   "metadata": {
    "colab": {
     "base_uri": "https://localhost:8080/"
    },
    "id": "3eb59af9-d4b0-4711-92c9-d68946623e26",
    "outputId": "8ad03259-bc7d-4523-80dc-43906674fb2e"
   },
   "outputs": [
    {
     "data": {
      "text/plain": [
       "['This',\n",
       " 'is',\n",
       " 'some',\n",
       " 'random',\n",
       " 'text',\n",
       " 'about',\n",
       " 'learning',\n",
       " 'Spark',\n",
       " 'This',\n",
       " 'is',\n",
       " 'also',\n",
       " 'some',\n",
       " 'random',\n",
       " 'text',\n",
       " 'no',\n",
       " 'Spark',\n",
       " 'more',\n",
       " 'random',\n",
       " 'text',\n",
       " 'even',\n",
       " 'more',\n",
       " 'that',\n",
       " 'is',\n",
       " 'it',\n",
       " 'no',\n",
       " 'more']"
      ]
     },
     "execution_count": 23,
     "metadata": {},
     "output_type": "execute_result"
    }
   ],
   "source": [
    "splitLines = RDD.flatMap(lambda line: line.split())\n",
    "splitLines.collect()"
   ]
  },
  {
   "cell_type": "markdown",
   "id": "b1eeab65-e785-4e30-9742-60bf42f4a3b9",
   "metadata": {
    "id": "b1eeab65-e785-4e30-9742-60bf42f4a3b9"
   },
   "source": [
    "### union"
   ]
  },
  {
   "cell_type": "raw",
   "id": "398981b8-a37c-497f-a958-2e3134fd6054",
   "metadata": {
    "id": "398981b8-a37c-497f-a958-2e3134fd6054"
   },
   "source": [
    "The union transformation generates a new dataset from the union of two datasets"
   ]
  },
  {
   "cell_type": "code",
   "execution_count": 24,
   "id": "21bd76c2-a8af-4c58-881b-3221154c7f4c",
   "metadata": {
    "id": "21bd76c2-a8af-4c58-881b-3221154c7f4c"
   },
   "outputs": [],
   "source": [
    "data1 = sc.parallelize([1, 2, 3, 4, 5])\n",
    "data2 = sc.parallelize([6, 7, 8, 9, 10])"
   ]
  },
  {
   "cell_type": "code",
   "execution_count": 25,
   "id": "f223f86c-4c2b-480b-b95f-ced51bf21104",
   "metadata": {
    "id": "f223f86c-4c2b-480b-b95f-ced51bf21104"
   },
   "outputs": [],
   "source": [
    "data = data1.union(data2)"
   ]
  },
  {
   "cell_type": "code",
   "execution_count": 26,
   "id": "ef184209-888b-4c31-8214-9cf88984450e",
   "metadata": {
    "colab": {
     "base_uri": "https://localhost:8080/"
    },
    "id": "ef184209-888b-4c31-8214-9cf88984450e",
    "outputId": "8ac7b6ba-1723-4118-cd3f-c0a0901db495"
   },
   "outputs": [
    {
     "data": {
      "text/plain": [
       "[1, 2, 3, 4, 5, 6, 7, 8, 9, 10]"
      ]
     },
     "execution_count": 26,
     "metadata": {},
     "output_type": "execute_result"
    }
   ],
   "source": [
    "data.collect()"
   ]
  },
  {
   "cell_type": "markdown",
   "id": "8136bf37-0d53-41db-9bca-5a6f11f52dc4",
   "metadata": {
    "id": "8136bf37-0d53-41db-9bca-5a6f11f52dc4"
   },
   "source": [
    "### sample"
   ]
  },
  {
   "cell_type": "raw",
   "id": "333233ea-037d-4c70-b91c-a5d3e22ca9e7",
   "metadata": {
    "id": "333233ea-037d-4c70-b91c-a5d3e22ca9e7"
   },
   "source": [
    "The sample transformation samples the data with or without replacement"
   ]
  },
  {
   "cell_type": "code",
   "execution_count": 27,
   "id": "3d405914-2159-417e-8849-daa75847b5c7",
   "metadata": {
    "colab": {
     "base_uri": "https://localhost:8080/"
    },
    "id": "3d405914-2159-417e-8849-daa75847b5c7",
    "outputId": "ab505089-fe89-4cf6-ced5-3610aed68c88"
   },
   "outputs": [
    {
     "data": {
      "text/plain": [
       "[4, 7, 10]"
      ]
     },
     "execution_count": 27,
     "metadata": {},
     "output_type": "execute_result"
    }
   ],
   "source": [
    "datasample = data.sample(False, 0.5)\n",
    "datasample.collect()"
   ]
  },
  {
   "cell_type": "markdown",
   "id": "afbe047c-5ecb-4934-977e-8b353be64f40",
   "metadata": {
    "id": "afbe047c-5ecb-4934-977e-8b353be64f40"
   },
   "source": [
    "## intersection"
   ]
  },
  {
   "cell_type": "raw",
   "id": "555d3471-d249-4046-84d3-3e39da57a6f9",
   "metadata": {
    "id": "555d3471-d249-4046-84d3-3e39da57a6f9"
   },
   "source": [
    "The intersection transformation generates a new dataset from the intersection of two datasets"
   ]
  },
  {
   "cell_type": "code",
   "execution_count": 28,
   "id": "3713b98a-8620-4cde-8671-d1895d891ebf",
   "metadata": {
    "colab": {
     "base_uri": "https://localhost:8080/"
    },
    "id": "3713b98a-8620-4cde-8671-d1895d891ebf",
    "outputId": "58e21425-21ca-45a2-9a10-a24d81d19470"
   },
   "outputs": [
    {
     "data": {
      "text/plain": [
       "[1, 2, 3, 4, 5]"
      ]
     },
     "execution_count": 28,
     "metadata": {},
     "output_type": "execute_result"
    }
   ],
   "source": [
    "intersection = data1.intersection(data)\n",
    "intersection.collect()"
   ]
  },
  {
   "cell_type": "markdown",
   "id": "f5729081-3cfc-45c9-96db-1c3554c11a61",
   "metadata": {
    "id": "f5729081-3cfc-45c9-96db-1c3554c11a61"
   },
   "source": [
    "## join"
   ]
  },
  {
   "cell_type": "raw",
   "id": "71bb02d5-5a4f-4411-b652-8bebf40fec1f",
   "metadata": {
    "id": "71bb02d5-5a4f-4411-b652-8bebf40fec1f"
   },
   "source": [
    "The join transformation generates a new dataset by joining two datasets containing key-value pairs"
   ]
  },
  {
   "cell_type": "code",
   "execution_count": 29,
   "id": "41c70d72-2786-44d4-b1d8-4bb2b45efbe0",
   "metadata": {
    "id": "41c70d72-2786-44d4-b1d8-4bb2b45efbe0"
   },
   "outputs": [],
   "source": [
    "a = sc.parallelize([('John', 1), ('Tom', 2), ('Ben', 3)])\n",
    "b = sc.parallelize([('John', 'CA'), ('Tom', 'GA'), ('Ben', 'VA')])"
   ]
  },
  {
   "cell_type": "code",
   "execution_count": 31,
   "id": "678fd6c1-602e-4938-8a27-f8a8afdd3c0b",
   "metadata": {
    "colab": {
     "base_uri": "https://localhost:8080/"
    },
    "id": "678fd6c1-602e-4938-8a27-f8a8afdd3c0b",
    "outputId": "c56222c4-54c9-4d2a-a885-548fbf010af8"
   },
   "outputs": [],
   "source": [
    "c = a.join(b)"
   ]
  },
  {
   "cell_type": "code",
   "execution_count": 32,
   "id": "5a7fee34-b5e9-414d-8f25-12c8f5de7171",
   "metadata": {},
   "outputs": [
    {
     "data": {
      "text/plain": [
       "[('John', (1, 'CA')), ('Tom', (2, 'GA')), ('Ben', (3, 'VA'))]"
      ]
     },
     "execution_count": 32,
     "metadata": {},
     "output_type": "execute_result"
    }
   ],
   "source": [
    "c.collect()"
   ]
  },
  {
   "cell_type": "markdown",
   "id": "7168ca94-6137-427a-b811-a592f0a1dbbb",
   "metadata": {
    "id": "7168ca94-6137-427a-b811-a592f0a1dbbb"
   },
   "source": [
    "### groupByKey()"
   ]
  },
  {
   "cell_type": "markdown",
   "id": "5f5de44e-6a64-45c8-aca8-c3ad706c1f8d",
   "metadata": {
    "id": "5f5de44e-6a64-45c8-aca8-c3ad706c1f8d"
   },
   "source": [
    "groups all the values with the same key"
   ]
  },
  {
   "cell_type": "code",
   "execution_count": null,
   "id": "4a4cc36e-a907-48ef-b94f-098be77ec09d",
   "metadata": {
    "id": "4a4cc36e-a907-48ef-b94f-098be77ec09d"
   },
   "outputs": [],
   "source": [
    "airports = [('US', 'JFK'), ('UK', 'LHR'), ('FR', 'CDG'), ('US', 'SFO')]\n",
    "RDD_airports = sc.parallelize(airports)"
   ]
  },
  {
   "cell_type": "code",
   "execution_count": null,
   "id": "44d5ea82-4f7c-4d85-beb1-db37349f58da",
   "metadata": {
    "colab": {
     "base_uri": "https://localhost:8080/"
    },
    "id": "44d5ea82-4f7c-4d85-beb1-db37349f58da",
    "outputId": "2215f488-bc50-4d74-84b0-cc07c17a4da2"
   },
   "outputs": [],
   "source": [
    "RDD_airports.collect()"
   ]
  },
  {
   "cell_type": "code",
   "execution_count": null,
   "id": "f744afbe-0703-49ea-947d-65ef941aed92",
   "metadata": {
    "colab": {
     "base_uri": "https://localhost:8080/"
    },
    "id": "f744afbe-0703-49ea-947d-65ef941aed92",
    "outputId": "dd7a30be-8fc9-42d3-db02-ad6a9a290fc4"
   },
   "outputs": [],
   "source": [
    "RDD_airports_group = RDD_airports.groupByKey().collect()\n",
    "for country, airport in RDD_airports_group:\n",
    "    print(country, list(airport))"
   ]
  },
  {
   "cell_type": "markdown",
   "id": "73a35200-f317-4aaf-a0a5-d34f5eec47d6",
   "metadata": {
    "id": "73a35200-f317-4aaf-a0a5-d34f5eec47d6"
   },
   "source": [
    "## Actions"
   ]
  },
  {
   "cell_type": "markdown",
   "id": "a9263ac1-0a7f-4a0d-8d6a-8c05f7bb6a43",
   "metadata": {
    "id": "a9263ac1-0a7f-4a0d-8d6a-8c05f7bb6a43"
   },
   "source": [
    "## reduce"
   ]
  },
  {
   "cell_type": "raw",
   "id": "05dd06dc-a1c6-4842-84f9-80c3fd464713",
   "metadata": {
    "id": "05dd06dc-a1c6-4842-84f9-80c3fd464713"
   },
   "source": [
    "The reduce action aggregates the elements in a dataset using the specified function. The function should be commutative (changing the order of the operands does not change the result)."
   ]
  },
  {
   "cell_type": "code",
   "execution_count": null,
   "id": "0639ffb2-5297-4da5-bbb0-0a40f95bb620",
   "metadata": {
    "colab": {
     "base_uri": "https://localhost:8080/"
    },
    "id": "0639ffb2-5297-4da5-bbb0-0a40f95bb620",
    "outputId": "7315158b-f52c-4ea5-f557-0a710f44646a"
   },
   "outputs": [],
   "source": [
    "lineLengths = RDD.map(lambda s: len(s))\n",
    "totalLength = lineLengths.reduce(lambda a, b: a+b)\n",
    "print(totalLength)"
   ]
  },
  {
   "cell_type": "markdown",
   "id": "caa27cc2-89d8-4e3e-b4f4-51089ab4b8c5",
   "metadata": {
    "id": "caa27cc2-89d8-4e3e-b4f4-51089ab4b8c5"
   },
   "source": [
    "## collect"
   ]
  },
  {
   "cell_type": "raw",
   "id": "ca59dcf7-9629-44c9-9898-6ab0892890ba",
   "metadata": {
    "id": "ca59dcf7-9629-44c9-9898-6ab0892890ba"
   },
   "source": [
    "The collect action is used to return all the elements of the result as an array"
   ]
  },
  {
   "cell_type": "code",
   "execution_count": null,
   "id": "23a90213-f9bd-43fc-9079-422faa441270",
   "metadata": {
    "colab": {
     "base_uri": "https://localhost:8080/"
    },
    "id": "23a90213-f9bd-43fc-9079-422faa441270",
    "outputId": "52d5d5ae-76f5-45c6-cb29-7d960f6f44a8"
   },
   "outputs": [
    {
     "data": {
      "text/plain": [
       "['This is some random text about learning Spark',\n",
       " 'This is also some random text no Spark',\n",
       " 'more random text',\n",
       " 'even more',\n",
       " 'that is it',\n",
       " 'no more']"
      ]
     },
     "execution_count": 94,
     "metadata": {},
     "output_type": "execute_result"
    }
   ],
   "source": [
    "RDD.collect()"
   ]
  },
  {
   "cell_type": "code",
   "execution_count": null,
   "id": "7f55de83-612c-41c5-af08-8f96a25056f0",
   "metadata": {
    "colab": {
     "base_uri": "https://localhost:8080/"
    },
    "id": "7f55de83-612c-41c5-af08-8f96a25056f0",
    "outputId": "bb46796a-7107-4b24-9f17-bbab69583e0f"
   },
   "outputs": [
    {
     "data": {
      "text/plain": [
       "45"
      ]
     },
     "execution_count": 95,
     "metadata": {},
     "output_type": "execute_result"
    }
   ],
   "source": [
    "lineLengths = RDD.map(lambda s: len(s))\n",
    "lineLengths.first()"
   ]
  },
  {
   "cell_type": "markdown",
   "id": "7c375706-2103-48a9-bbc1-75110fee5283",
   "metadata": {
    "id": "7c375706-2103-48a9-bbc1-75110fee5283"
   },
   "source": [
    "## count"
   ]
  },
  {
   "cell_type": "raw",
   "id": "e6a69477-9b92-4465-b8f4-70d120c0f83e",
   "metadata": {
    "id": "e6a69477-9b92-4465-b8f4-70d120c0f83e"
   },
   "source": [
    "The count action returns the number of elements in a dataset"
   ]
  },
  {
   "cell_type": "code",
   "execution_count": null,
   "id": "8c5192f5-0a1d-4937-bb2e-87f66375eed8",
   "metadata": {
    "colab": {
     "base_uri": "https://localhost:8080/"
    },
    "id": "8c5192f5-0a1d-4937-bb2e-87f66375eed8",
    "outputId": "dad4f18b-7d0d-4e90-d725-0b810fed94ed"
   },
   "outputs": [
    {
     "data": {
      "text/plain": [
       "6"
      ]
     },
     "execution_count": 96,
     "metadata": {},
     "output_type": "execute_result"
    }
   ],
   "source": [
    "RDD.count()"
   ]
  },
  {
   "cell_type": "markdown",
   "id": "601861b5-e98e-4655-987f-2a17e7d3598e",
   "metadata": {
    "id": "601861b5-e98e-4655-987f-2a17e7d3598e"
   },
   "source": [
    "## first"
   ]
  },
  {
   "cell_type": "raw",
   "id": "ae9239e6-f54b-44a0-bdd2-b8594f464617",
   "metadata": {
    "id": "ae9239e6-f54b-44a0-bdd2-b8594f464617"
   },
   "source": [
    "The first action returns the first element in a dataset"
   ]
  },
  {
   "cell_type": "code",
   "execution_count": null,
   "id": "daaba12c-b200-4329-bb6d-f26b545eff2f",
   "metadata": {
    "colab": {
     "base_uri": "https://localhost:8080/",
     "height": 35
    },
    "id": "daaba12c-b200-4329-bb6d-f26b545eff2f",
    "outputId": "7485921e-89db-452d-a8ac-cb9e06b41fce"
   },
   "outputs": [
    {
     "data": {
      "application/vnd.google.colaboratory.intrinsic+json": {
       "type": "string"
      },
      "text/plain": [
       "'This is some random text about learning Spark'"
      ]
     },
     "execution_count": 97,
     "metadata": {},
     "output_type": "execute_result"
    }
   ],
   "source": [
    "RDD.first()"
   ]
  },
  {
   "cell_type": "markdown",
   "id": "7992e944-30e5-4496-9c04-789b12c4619c",
   "metadata": {
    "id": "7992e944-30e5-4496-9c04-789b12c4619c"
   },
   "source": [
    "## take"
   ]
  },
  {
   "cell_type": "markdown",
   "id": "91a3439d-fb8a-45ab-bbef-fed6043cde66",
   "metadata": {
    "id": "91a3439d-fb8a-45ab-bbef-fed6043cde66"
   },
   "source": [
    "The *take* action returns the first *n* elements in a dataset"
   ]
  },
  {
   "cell_type": "code",
   "execution_count": null,
   "id": "bf9c0967-aabd-4f73-b647-298d19f87eae",
   "metadata": {
    "colab": {
     "base_uri": "https://localhost:8080/"
    },
    "id": "bf9c0967-aabd-4f73-b647-298d19f87eae",
    "outputId": "a2c4cda3-a49c-4109-ef24-d6c99541d8cf"
   },
   "outputs": [
    {
     "data": {
      "text/plain": [
       "[45, 38, 16]"
      ]
     },
     "execution_count": 98,
     "metadata": {},
     "output_type": "execute_result"
    }
   ],
   "source": [
    "RDD.map(lambda s: len(s)).take(3)"
   ]
  },
  {
   "cell_type": "markdown",
   "id": "b43bfa06-ad11-4100-8473-d76e49be33c4",
   "metadata": {
    "id": "b43bfa06-ad11-4100-8473-d76e49be33c4"
   },
   "source": [
    "## takeSample"
   ]
  },
  {
   "cell_type": "markdown",
   "id": "360d4050-3cb8-47c5-a0f5-8684631ef868",
   "metadata": {
    "id": "360d4050-3cb8-47c5-a0f5-8684631ef868"
   },
   "source": [
    "The *takeSample* action returns a sample containing a specified number of elements from a dataset with or without replacement"
   ]
  },
  {
   "cell_type": "code",
   "execution_count": null,
   "id": "ad032686-081b-4f18-85bb-681c01abcb57",
   "metadata": {
    "colab": {
     "base_uri": "https://localhost:8080/"
    },
    "id": "ad032686-081b-4f18-85bb-681c01abcb57",
    "outputId": "500f134d-c943-430f-e20e-28e91f75cd55"
   },
   "outputs": [
    {
     "data": {
      "text/plain": [
       "[1, 3, 8, 6, 5]"
      ]
     },
     "execution_count": 99,
     "metadata": {},
     "output_type": "execute_result"
    }
   ],
   "source": [
    "data.takeSample(True, 5)"
   ]
  },
  {
   "cell_type": "markdown",
   "id": "9018e0e6-c108-4292-a6ab-d36d5a5cf9c4",
   "metadata": {
    "id": "9018e0e6-c108-4292-a6ab-d36d5a5cf9c4"
   },
   "source": [
    "## saveAsTextFile"
   ]
  },
  {
   "cell_type": "markdown",
   "id": "b9d721f0-3d04-4eb7-a6d3-707009bb27f9",
   "metadata": {
    "id": "b9d721f0-3d04-4eb7-a6d3-707009bb27f9"
   },
   "source": [
    "The *saveAsTextFile* action writes the elements in a dataset to a text file either on the local filesystem or HDFS.\n",
    "\n",
    "In many cases, it is not advisable to run collect action on RDDs because of the huge size of the data. In these cases, it’s common to write data out to a distributed storage systems such as HDFS or Amazon S3. saveAsTextFile action can be used to save RDD as a text file inside a particular directory. By default, saveAsTextFile saves RDD with each partition as a separate file inside a directory.You can change it to return a new RDD that is reduced into a single partition using the coalesce method."
   ]
  },
  {
   "cell_type": "code",
   "execution_count": null,
   "id": "8c730683-97d2-4a4e-b998-a3acf3135349",
   "metadata": {
    "id": "8c730683-97d2-4a4e-b998-a3acf3135349"
   },
   "outputs": [],
   "source": [
    "RDD.saveAsTextFile('/path/to/file')"
   ]
  },
  {
   "cell_type": "markdown",
   "id": "2ee2cfbb-f088-4ddc-9681-a8bb686c6d40",
   "metadata": {
    "id": "2ee2cfbb-f088-4ddc-9681-a8bb686c6d40"
   },
   "source": [
    "### Action Operations on Pair RDDs\n",
    "#### countByKey()\n",
    "#### collectAsMap()"
   ]
  },
  {
   "cell_type": "markdown",
   "id": "866e8a5c-8c42-418e-b689-1fa13f300f14",
   "metadata": {
    "id": "866e8a5c-8c42-418e-b689-1fa13f300f14"
   },
   "source": [
    "## countByKey()"
   ]
  },
  {
   "cell_type": "markdown",
   "id": "78db682a-e561-4e92-9740-88b955641876",
   "metadata": {
    "id": "78db682a-e561-4e92-9740-88b955641876"
   },
   "source": [
    "countByKey is only available on RDDs of type (Key, Value). With the countByKey operation, we can count the number of elements for each key. Here is an example of counting the number of values for each key in the dataset. In this example, we first create a pair RDD named rdd using SparkContext's parallelize method. Since countByKey generates a dictionary, next we iterate over the dictionary to print the each unique and number of values associated with each key as shown here. One thing to note is that countByKey should only be used on a dataset whose size is small enough to fit in memory. "
   ]
  },
  {
   "cell_type": "code",
   "execution_count": null,
   "id": "82d4502f-2aef-47fe-8710-41d0942c3eed",
   "metadata": {
    "colab": {
     "base_uri": "https://localhost:8080/"
    },
    "id": "82d4502f-2aef-47fe-8710-41d0942c3eed",
    "outputId": "8d757422-bbb5-4a27-a551-a65a5ba88366"
   },
   "outputs": [
    {
     "name": "stdout",
     "output_type": "stream",
     "text": [
      "a 2\n",
      "b 1\n"
     ]
    }
   ],
   "source": [
    "rdd = sc.parallelize([('a',1), ('b',1), ('a',1)])\n",
    "for key, val in rdd.countByKey().items():\n",
    "    print(key, val)"
   ]
  },
  {
   "cell_type": "code",
   "execution_count": null,
   "id": "40bbc990-e705-47d9-87c9-feb604e74f0b",
   "metadata": {
    "colab": {
     "base_uri": "https://localhost:8080/"
    },
    "id": "40bbc990-e705-47d9-87c9-feb604e74f0b",
    "outputId": "2690732e-2780-4cfc-b41b-c39339e2df91"
   },
   "outputs": [
    {
     "name": "stdout",
     "output_type": "stream",
     "text": [
      "The type of total is <class 'collections.defaultdict'>\n",
      "key 1 has 1 counts\n",
      "key 3 has 2 counts\n",
      "key 4 has 1 counts\n"
     ]
    }
   ],
   "source": [
    "#from Datacamp\n",
    "Rdd = sc.parallelize([(1, 2), (3, 4), (3, 6), (4, 5)])\n",
    "# Count the unique keys\n",
    "total = Rdd.countByKey()\n",
    "\n",
    "# What is the type of total?\n",
    "print(\"The type of total is\", type(total))\n",
    "\n",
    "# Iterate over the total and print the output\n",
    "for k, v in total.items(): \n",
    "  print(\"key\", k, \"has\", v, \"counts\")"
   ]
  },
  {
   "cell_type": "markdown",
   "id": "eac1abea-b654-4abb-9f1d-6c85e642854e",
   "metadata": {
    "id": "eac1abea-b654-4abb-9f1d-6c85e642854e"
   },
   "source": [
    "## collectAsMap()"
   ]
  },
  {
   "cell_type": "markdown",
   "id": "213b9107-4539-43a8-bd33-1d8331e597e0",
   "metadata": {
    "id": "213b9107-4539-43a8-bd33-1d8331e597e0"
   },
   "source": [
    "returns the key-value pairs in the RDD as a dictionary. collectAsMap produces the key-value pairs in the RDD as a dictionary which can be used for downstream analysis. Similar to countByKey, this action should only be used if the resulting data is expected to be small, as all the data is loaded into the memory."
   ]
  },
  {
   "cell_type": "code",
   "execution_count": null,
   "id": "fbefc7fc-0eb9-41dc-ba3a-92f01646c311",
   "metadata": {
    "colab": {
     "base_uri": "https://localhost:8080/"
    },
    "id": "fbefc7fc-0eb9-41dc-ba3a-92f01646c311",
    "outputId": "43dc9244-215c-4fab-d5ef-e270be06e4c1"
   },
   "outputs": [
    {
     "data": {
      "text/plain": [
       "{1: 2, 3: 4}"
      ]
     },
     "execution_count": 103,
     "metadata": {},
     "output_type": "execute_result"
    }
   ],
   "source": [
    "rdd = sc.parallelize([(1,2), (3,4)])\n",
    "rdd.collectAsMap()"
   ]
  },
  {
   "cell_type": "markdown",
   "id": "3e3bb4b4-ad9f-430b-afd5-aa7e546bc4f7",
   "metadata": {
    "id": "3e3bb4b4-ad9f-430b-afd5-aa7e546bc4f7"
   },
   "source": [
    "# Examples"
   ]
  },
  {
   "cell_type": "markdown",
   "id": "29eeda8e-f388-4f39-8ad8-92787b78d54b",
   "metadata": {
    "id": "29eeda8e-f388-4f39-8ad8-92787b78d54b"
   },
   "source": [
    "#### Apache Spark Python program for computing word count"
   ]
  },
  {
   "cell_type": "code",
   "execution_count": null,
   "id": "59b25580-ace6-4cda-b0ce-c90d38f105bd",
   "metadata": {
    "colab": {
     "base_uri": "https://localhost:8080/"
    },
    "id": "59b25580-ace6-4cda-b0ce-c90d38f105bd",
    "outputId": "85a86874-3bb5-4a05-cd8c-81c24340cf40"
   },
   "outputs": [
    {
     "name": "stdout",
     "output_type": "stream",
     "text": [
      "Key 4 has 5 Counts\n",
      "Key 3 has 10 Counts\n",
      "Key 1 has 2 Counts\n"
     ]
    }
   ],
   "source": [
    "# Create PairRDD Rdd with key value pairs\n",
    "Rdd = sc.parallelize([(1,2),(3,4),(3,6),(4,5)])\n",
    "\n",
    "# Apply reduceByKey() operation on Rdd\n",
    "Rdd_Reduced = Rdd.reduceByKey(lambda x, y: x+y).sortByKey(ascending = False)\n",
    "\n",
    "# Iterate over the result and print the output\n",
    "for num in Rdd_Reduced.collect(): \n",
    "  print(\"Key {} has {} Counts\".format(num[0], num[1]))"
   ]
  },
  {
   "cell_type": "markdown",
   "id": "cd171bf7-f23d-4dee-a18f-f4b3fff3ccf1",
   "metadata": {
    "id": "cd171bf7-f23d-4dee-a18f-f4b3fff3ccf1"
   },
   "source": [
    "#### Apache Spark Python program for computing word count"
   ]
  },
  {
   "cell_type": "code",
   "execution_count": null,
   "id": "f4d2d0fb-2897-481d-8e97-b6c65c5dd361",
   "metadata": {
    "id": "f4d2d0fb-2897-481d-8e97-b6c65c5dd361"
   },
   "outputs": [],
   "source": [
    "from pyspark import SparkContext"
   ]
  },
  {
   "cell_type": "code",
   "execution_count": 34,
   "id": "e5f9302d-40ca-4928-94be-a429a0ef4221",
   "metadata": {
    "colab": {
     "base_uri": "https://localhost:8080/"
    },
    "id": "e5f9302d-40ca-4928-94be-a429a0ef4221",
    "outputId": "65441c49-6142-40a2-995c-5bcffac933a7"
   },
   "outputs": [
    {
     "data": {
      "text/plain": [
       "1648"
      ]
     },
     "execution_count": 34,
     "metadata": {},
     "output_type": "execute_result"
    }
   ],
   "source": [
    "#Program 1: Count the number of words in a document\n",
    "\n",
    "file_path = 'question2_book_v1.txt'\n",
    "\n",
    "# Create a baseRDD from the file path\n",
    "RDD = sc.textFile(file_path)\n",
    "\n",
    "# Split the lines of baseRDD into words\n",
    "splitRDD = RDD.flatMap(lambda x: x.split())\n",
    "\n",
    "len(splitRDD.collect())"
   ]
  },
  {
   "cell_type": "code",
   "execution_count": 35,
   "id": "a43b4988-dc57-41f3-8a65-533a7d1bab39",
   "metadata": {
    "colab": {
     "base_uri": "https://localhost:8080/"
    },
    "id": "a43b4988-dc57-41f3-8a65-533a7d1bab39",
    "outputId": "637e03b4-6db2-445d-ed70-e71a051ea68a"
   },
   "outputs": [
    {
     "data": {
      "text/plain": [
       "[('single', 4),\n",
       " ('possession', 2),\n",
       " ('good', 4),\n",
       " ('must', 8),\n",
       " ('However', 1),\n",
       " ('known', 2),\n",
       " ('views', 1),\n",
       " ('may', 6),\n",
       " ('entering', 1),\n",
       " ('neighbourhood', 3),\n",
       " ('minds', 1),\n",
       " ('families', 1),\n",
       " ('considered', 1),\n",
       " ('rightful', 1),\n",
       " ('daughters', 5),\n",
       " ('Mr', 23),\n",
       " ('Bennet', 14),\n",
       " ('said', 10),\n",
       " ('lady', 2),\n",
       " ('heard', 2),\n",
       " ('let', 2),\n",
       " ('last', 3),\n",
       " ('Long', 6),\n",
       " ('told', 1),\n",
       " ('know', 10),\n",
       " ('tell', 3),\n",
       " ('hearing', 1),\n",
       " ('invitation', 1),\n",
       " ('says', 1),\n",
       " ('young', 3),\n",
       " ('large', 2),\n",
       " ('came', 1),\n",
       " ('Monday', 1),\n",
       " ('chaise', 1),\n",
       " ('four', 3),\n",
       " ('delighted', 1),\n",
       " ('Morris', 1),\n",
       " ('take', 3),\n",
       " ('house', 1),\n",
       " ('end', 2),\n",
       " ('week', 1),\n",
       " ('name', 1),\n",
       " ('Bingley', 11),\n",
       " ('married', 2),\n",
       " ('Oh', 2),\n",
       " ('sure', 3),\n",
       " ('thousand', 2),\n",
       " ('year', 2),\n",
       " ('fine', 1),\n",
       " ('girls', 7),\n",
       " ('tiresome', 1),\n",
       " ('design', 1),\n",
       " ('Design', 1),\n",
       " ('nonsense', 3),\n",
       " ('likely', 1),\n",
       " ('fall', 1),\n",
       " ('love', 2),\n",
       " ('visit', 10),\n",
       " ('occasion', 1),\n",
       " ('go', 5),\n",
       " ('send', 2),\n",
       " ('perhaps', 2),\n",
       " ('like', 3),\n",
       " ('best', 1),\n",
       " ('certainly', 3),\n",
       " ('share', 1),\n",
       " ('beauty', 3),\n",
       " ('anything', 2),\n",
       " ('grown-up', 1),\n",
       " ('ought', 1),\n",
       " ('give', 1),\n",
       " ('cases', 1),\n",
       " ('think', 3),\n",
       " ('indeed', 1),\n",
       " ('engage', 1),\n",
       " ('assure', 2),\n",
       " ('consider', 2),\n",
       " ('would', 4),\n",
       " ('Sir', 1),\n",
       " ('Lady', 1),\n",
       " ('Lucas', 1),\n",
       " ('determined', 1),\n",
       " ('account', 1),\n",
       " ('newcomers', 1),\n",
       " ('Indeed', 1),\n",
       " ('impossible', 3),\n",
       " ('us', 3),\n",
       " ('surely', 1),\n",
       " ('dare', 2),\n",
       " ('say', 4),\n",
       " ('though', 5),\n",
       " ('throw', 1),\n",
       " ('Lizzy', 5),\n",
       " ('others', 1),\n",
       " ('Jane', 1),\n",
       " ('Lydia', 3),\n",
       " ('always', 3),\n",
       " ('preference', 1),\n",
       " ('none', 1),\n",
       " ('recommend', 1),\n",
       " ('something', 2),\n",
       " ('quickness', 1),\n",
       " ('way', 2),\n",
       " ('delight', 1),\n",
       " ('vexing', 1),\n",
       " ('compassion', 2),\n",
       " ('poor', 1),\n",
       " ('mistake', 1),\n",
       " ('high', 1),\n",
       " ('mention', 1),\n",
       " ('consideration', 1),\n",
       " ('twenty', 3),\n",
       " ('years', 2),\n",
       " ('suffer', 1),\n",
       " ('live', 1),\n",
       " ('use', 1),\n",
       " ('Depend', 1),\n",
       " ('upon', 1),\n",
       " ('quick', 1),\n",
       " ('humour', 1),\n",
       " ('reserve', 1),\n",
       " ('caprice', 1),\n",
       " ('insufficient', 1),\n",
       " ('make', 4),\n",
       " ('understand', 1),\n",
       " ('mind', 1),\n",
       " ('mean', 1),\n",
       " ('uncertain', 1),\n",
       " ('temper', 1),\n",
       " ('fancied', 1),\n",
       " ('business', 1),\n",
       " ('solace', 1),\n",
       " ('news', 1),\n",
       " ('Chapter', 1),\n",
       " ('earliest', 1),\n",
       " ('assuring', 1),\n",
       " ('till', 3),\n",
       " ('paid', 2),\n",
       " ('knowledge', 1),\n",
       " ('disclosed', 1),\n",
       " ('following', 1),\n",
       " ('Observing', 1),\n",
       " ('daughter', 1),\n",
       " ('hat', 1),\n",
       " ('suddenly', 1),\n",
       " ('likes', 1),\n",
       " ('resentfully', 1),\n",
       " ('meet', 1),\n",
       " ('assemblies', 1),\n",
       " ('promised', 1),\n",
       " ('believe', 1),\n",
       " ('two', 1),\n",
       " ('nieces', 2),\n",
       " ('hypocritical', 1),\n",
       " ('opinion', 1),\n",
       " ('deigned', 1),\n",
       " ('coughing', 1),\n",
       " ('Kitty', 4),\n",
       " ('heavens', 1),\n",
       " ('father', 3),\n",
       " ('ill', 1),\n",
       " ('cough', 2),\n",
       " ('fretfully', 1),\n",
       " ('Aye', 1),\n",
       " ('Impossible', 1),\n",
       " ('acquainted', 1),\n",
       " ('honour', 1),\n",
       " ('circumspection', 1),\n",
       " ('One', 1),\n",
       " ('cannot', 3),\n",
       " ('really', 1),\n",
       " ('stand', 1),\n",
       " ('chance', 1),\n",
       " ('act', 1),\n",
       " ('decline', 1),\n",
       " ('stared', 1),\n",
       " ('meaning', 1),\n",
       " ('introduction', 1),\n",
       " ('stress', 1),\n",
       " ('quite', 1),\n",
       " ('Mary', 3),\n",
       " ('read', 1),\n",
       " ('books', 1),\n",
       " ('extracts', 1),\n",
       " ('sensible', 1),\n",
       " ('continued', 1),\n",
       " ('hear', 1),\n",
       " ('unlucky', 1),\n",
       " ('escape', 1),\n",
       " ('ladies', 1),\n",
       " ('rest', 2),\n",
       " ('declare', 1),\n",
       " ('loved', 1),\n",
       " ('neglect', 1),\n",
       " ('pleased', 1),\n",
       " ('joke', 1),\n",
       " ('never', 1),\n",
       " ('spoke', 1),\n",
       " ('room', 1),\n",
       " ('fatigued', 1),\n",
       " ('excellent', 1),\n",
       " ('ever', 1),\n",
       " ('amends', 1),\n",
       " ('matter', 1),\n",
       " ('making', 1),\n",
       " ('new', 1),\n",
       " ('tallest', 1),\n",
       " ('ask', 1),\n",
       " ('truth', 2),\n",
       " ('universally', 1),\n",
       " ('acknowledged', 1),\n",
       " ('man', 5),\n",
       " ('fortune', 3),\n",
       " ('want', 3),\n",
       " ('wife', 7),\n",
       " ('little', 5),\n",
       " ('feelings', 1),\n",
       " ('first', 2),\n",
       " ('well', 2),\n",
       " ('fixed', 1),\n",
       " ('surrounding', 1),\n",
       " ('property', 1),\n",
       " ('one', 6),\n",
       " ('dear', 10),\n",
       " ('day', 3),\n",
       " ('Netherfield', 2),\n",
       " ('Park', 1),\n",
       " ('replied', 4),\n",
       " ('returned', 1),\n",
       " ('Mrs', 9),\n",
       " ('made', 1),\n",
       " ('answer', 1),\n",
       " ('taken', 2),\n",
       " ('cried', 4),\n",
       " ('impatiently', 1),\n",
       " ('objection', 1),\n",
       " ('enough', 1),\n",
       " ('north', 1),\n",
       " ('England', 1),\n",
       " ('see', 5),\n",
       " ('place', 1),\n",
       " ('much', 5),\n",
       " ('agreed', 1),\n",
       " ('immediately', 1),\n",
       " ('Michaelmas', 1),\n",
       " ('servants', 1),\n",
       " ('next', 3),\n",
       " ('five', 2),\n",
       " ('thing', 3),\n",
       " ('affect', 1),\n",
       " ('thinking', 2),\n",
       " ('marrying', 2),\n",
       " ('settling', 1),\n",
       " ('talk', 1),\n",
       " ('therefore', 2),\n",
       " ('soon', 2),\n",
       " ('comes', 2),\n",
       " ('still', 1),\n",
       " ('better', 2),\n",
       " ('handsome', 2),\n",
       " ('might', 1),\n",
       " ('party', 1),\n",
       " ('flatter', 1),\n",
       " ('pretend', 1),\n",
       " ('extraordinary', 1),\n",
       " ('woman', 4),\n",
       " ('often', 1),\n",
       " ('establishment', 1),\n",
       " ('William', 1),\n",
       " ('merely', 1),\n",
       " ('general', 1),\n",
       " ('scrupulous', 1),\n",
       " ('glad', 2),\n",
       " ('lines', 1),\n",
       " ('hearty', 1),\n",
       " ('consent', 1),\n",
       " ('whichever', 1),\n",
       " ('chooses', 1),\n",
       " ('word', 2),\n",
       " ('desire', 1),\n",
       " ('bit', 1),\n",
       " ('half', 2),\n",
       " ('good-humoured', 1),\n",
       " ('giving', 1),\n",
       " ('silly', 1),\n",
       " ('ignorant', 1),\n",
       " ('sisters', 1),\n",
       " ('abuse', 1),\n",
       " ('children', 1),\n",
       " ('nerves', 3),\n",
       " ('respect', 1),\n",
       " ('old', 1),\n",
       " ('friends', 1),\n",
       " ('least', 1),\n",
       " ('Ah', 1),\n",
       " ('hope', 2),\n",
       " ('get', 2),\n",
       " ('many', 1),\n",
       " ('men', 1),\n",
       " ('come', 3),\n",
       " ('since', 2),\n",
       " ('odd', 1),\n",
       " ('mixture', 1),\n",
       " ('parts', 1),\n",
       " ('sarcastic', 1),\n",
       " ('experience', 1),\n",
       " ('three-and-twenty', 1),\n",
       " ('character', 1),\n",
       " ('less', 1),\n",
       " ('difficult', 1),\n",
       " ('develop', 1),\n",
       " ('understanding', 1),\n",
       " ('information', 1),\n",
       " ('discontented', 1),\n",
       " ('nervous', 1),\n",
       " ('life', 2),\n",
       " ('visiting', 1),\n",
       " ('2', 1),\n",
       " ('among', 1),\n",
       " ('waited', 1),\n",
       " ('intended', 1),\n",
       " ('evening', 2),\n",
       " ('manner', 1),\n",
       " ('second', 1),\n",
       " ('employed', 1),\n",
       " ('trimming', 1),\n",
       " ('addressed', 1),\n",
       " ('mother', 2),\n",
       " ('forget', 1),\n",
       " ('mamma', 1),\n",
       " ('Elizabeth', 1),\n",
       " ('shall', 1),\n",
       " ('introduce', 3),\n",
       " ('selfish', 1),\n",
       " ('find', 1),\n",
       " ('depend', 1),\n",
       " ('serving', 1),\n",
       " ('reply', 1),\n",
       " ('unable', 1),\n",
       " ('contain', 1),\n",
       " ('began', 2),\n",
       " ('scolding', 1),\n",
       " ('Dont', 1),\n",
       " ('keep', 1),\n",
       " ('sake', 1),\n",
       " ('tear', 1),\n",
       " ('pieces', 1),\n",
       " ('discretion', 1),\n",
       " ('coughs', 1),\n",
       " ('times', 1),\n",
       " ('amusement', 1),\n",
       " ('ball', 2),\n",
       " ('To-morrow', 1),\n",
       " ('fortnight', 2),\n",
       " ('back', 1),\n",
       " ('advantage', 1),\n",
       " ('friend', 1),\n",
       " ('teasing', 1),\n",
       " ('fortnights', 1),\n",
       " ('acquaintance', 4),\n",
       " ('venture', 1),\n",
       " ('somebody', 1),\n",
       " ('else', 1),\n",
       " ('kindness', 2),\n",
       " ('office', 1),\n",
       " ('Nonsense', 1),\n",
       " ('emphatic', 1),\n",
       " ('exclamation', 1),\n",
       " ('forms', 1),\n",
       " ('laid', 1),\n",
       " ('agree', 1),\n",
       " ('deep', 1),\n",
       " ('reflection', 1),\n",
       " ('great', 1),\n",
       " ('wished', 2),\n",
       " ('knew', 2),\n",
       " ('adjusting', 1),\n",
       " ('ideas', 1),\n",
       " ('return', 2),\n",
       " ('sick', 1),\n",
       " ('sorry', 1),\n",
       " ('morning', 2),\n",
       " ('called', 1),\n",
       " ('actually', 1),\n",
       " ('astonishment', 1),\n",
       " ('surpassing', 1),\n",
       " ('tumult', 1),\n",
       " ('joy', 1),\n",
       " ('expected', 1),\n",
       " ('persuade', 1),\n",
       " ('Well', 1),\n",
       " ('gone', 1),\n",
       " ('choose', 1),\n",
       " ('left', 1),\n",
       " ('raptures', 1),\n",
       " ('door', 1),\n",
       " ('shut', 1),\n",
       " ('either', 1),\n",
       " ('time', 1),\n",
       " ('pleasant', 1),\n",
       " ('every', 1),\n",
       " ('sakes', 1),\n",
       " ('youngest', 2),\n",
       " ('dance', 1),\n",
       " ('stoutly', 1),\n",
       " ('afraid', 1),\n",
       " ('Im', 1),\n",
       " ('spent', 1),\n",
       " ('conjecturing', 1),\n",
       " ('Bennets', 1),\n",
       " ('determining', 1),\n",
       " ('dinner', 1)]"
      ]
     },
     "execution_count": 35,
     "metadata": {},
     "output_type": "execute_result"
    }
   ],
   "source": [
    "#Program 2: Convert the words in lower case and remove stop words from the stop_words list\n",
    "stop_words = ['i', 'me', 'my', 'myself', 'we', 'our', 'ours', 'ourselves', 'you', 'your', 'yours', 'yourself', 'yourselves', 'he', 'him', 'his', 'himself', 'she', 'her', 'hers', 'herself', 'it', 'its', 'itself', 'they', 'them', 'their', 'theirs', 'themselves', 'what', 'which', 'who', 'whom', 'this', 'that', 'these', 'those', 'am', 'is', 'are', 'was', 'were', 'be', 'been', 'being', 'have', 'has', 'had', 'having', 'do', 'does', 'did', 'doing', 'a', 'an', 'the', 'and', 'but', 'if', 'or', 'because', 'as', 'until', 'while', 'of', 'at', 'by', 'for', 'with', 'about', 'against', 'between', 'into', 'through', 'during', 'before', 'after', 'above', 'below', 'to', 'from', 'up', 'down', 'in', 'out', 'on', 'off', 'over', 'under', 'again', 'further', 'then', 'once', 'here', 'there', 'when', 'where', 'why', 'how', 'all', 'any', 'both', 'each', 'few', 'more', 'most', 'other', 'some', 'such', 'no', 'nor', 'not', 'only', 'own', 'same', 'so', 'than', 'too', 'very', 'can', 'will', 'just', 'don', 'should', 'now']\n",
    "\n",
    "# Convert the words in lower case and remove stop words from the stop_words curated list\n",
    "splitRDD.filter(lambda x: x.lower() not in stop_words).map(lambda w: (w, 1)).reduceByKey(lambda x, y: x + y).collect()"
   ]
  },
  {
   "cell_type": "code",
   "execution_count": null,
   "id": "cc596630-0eb4-47d2-b5bc-7d22af8daf4d",
   "metadata": {
    "colab": {
     "base_uri": "https://localhost:8080/"
    },
    "id": "cc596630-0eb4-47d2-b5bc-7d22af8daf4d",
    "outputId": "eebc6545-af9e-4c80-adce-616cc3f16432"
   },
   "outputs": [
    {
     "name": "stdout",
     "output_type": "stream",
     "text": [
      "It 5\n",
      "is 22\n",
      "single 4\n",
      "in 17\n",
      "possession 2\n",
      "of 47\n",
      "good 4\n",
      "must 8\n",
      "However 1\n",
      "known 2\n"
     ]
    }
   ],
   "source": [
    "#Program 3: Word_count similar to what we did with map/reduce\n",
    "\n",
    "#sc = SparkContext(appName=\"WordCountApp\")\n",
    "text = sc.textFile('/content/pride_and_prejudice.txt')\n",
    "counts = text.flatMap(lambda x: x.split(' ')).map(lambda x: (x, 1)).reduceByKey(lambda x, y: x+y)\n",
    "\n",
    "output = counts.collect()\n",
    "\n",
    "for (word, count) in output[:10]:\n",
    "    print(word, count)"
   ]
  },
  {
   "cell_type": "code",
   "execution_count": null,
   "id": "3457ad39-d3cc-4d3a-b7eb-2b6d78d2896a",
   "metadata": {
    "colab": {
     "base_uri": "https://localhost:8080/"
    },
    "id": "3457ad39-d3cc-4d3a-b7eb-2b6d78d2896a",
    "outputId": "f24607e6-95a4-4c47-9e42-0031034eaac2"
   },
   "outputs": [
    {
     "data": {
      "text/plain": [
       "[('that', 1), ('text', 3), ('some', 2), ('random', 3), ('no', 2)]"
      ]
     },
     "execution_count": 58,
     "metadata": {},
     "output_type": "execute_result"
    }
   ],
   "source": [
    "#Sort by Key\n",
    "counts.sortByKey(ascending = False).collect()[:5]"
   ]
  },
  {
   "cell_type": "code",
   "execution_count": null,
   "id": "268a8a47-1fb1-4833-ad26-78514d34487b",
   "metadata": {
    "colab": {
     "base_uri": "https://localhost:8080/"
    },
    "id": "268a8a47-1fb1-4833-ad26-78514d34487b",
    "outputId": "063f25cf-2e92-4350-8bb0-0abbd3e036f6"
   },
   "outputs": [
    {
     "data": {
      "text/plain": [
       "[(3, 'is'), (3, 'more'), (3, 'random'), (3, 'text'), (2, 'Spark')]"
      ]
     },
     "execution_count": 59,
     "metadata": {},
     "output_type": "execute_result"
    }
   ],
   "source": [
    "#Sort by value, descending order\n",
    "counts.map(lambda x: (x[1], x[0])).sortByKey(ascending = False).collect()[:5]"
   ]
  },
  {
   "cell_type": "markdown",
   "id": "1cef8aaf-e3a4-46c7-8df2-db525ddb2655",
   "metadata": {
    "id": "1cef8aaf-e3a4-46c7-8df2-db525ddb2655"
   },
   "source": [
    "# Spark SQL"
   ]
  },
  {
   "cell_type": "markdown",
   "id": "85b4c3c0-07d4-4d64-b8b4-9dd38c4305df",
   "metadata": {
    "id": "85b4c3c0-07d4-4d64-b8b4-9dd38c4305df"
   },
   "source": [
    "### Create a DataFrame from RDD"
   ]
  },
  {
   "cell_type": "code",
   "execution_count": 36,
   "id": "c0e76eed-c347-4e6b-baed-b30ccea071ac",
   "metadata": {
    "id": "c0e76eed-c347-4e6b-baed-b30ccea071ac"
   },
   "outputs": [],
   "source": [
    "import pyspark\n",
    "from pyspark.sql import SparkSession\n",
    "spark = SparkSession.builder.master(\"local[*]\").appName('Spark').getOrCreate()"
   ]
  },
  {
   "cell_type": "code",
   "execution_count": 37,
   "id": "3edbfd13-e85b-4a68-a444-6b51a27b6b09",
   "metadata": {
    "colab": {
     "base_uri": "https://localhost:8080/"
    },
    "id": "3edbfd13-e85b-4a68-a444-6b51a27b6b09",
    "outputId": "7f694c40-3158-4274-a0f0-84a9f08e1fc4"
   },
   "outputs": [
    {
     "data": {
      "text/plain": [
       "pyspark.sql.dataframe.DataFrame"
      ]
     },
     "execution_count": 37,
     "metadata": {},
     "output_type": "execute_result"
    }
   ],
   "source": [
    "customers = sc.parallelize([(1201,  'satish', 25), (1202, \"krishna\", 28), (1203, \"mary\", 39), (1204, \"pablo\", 23)])\n",
    "names = ['id', 'name', 'age']\n",
    "\n",
    "data = spark.createDataFrame(customers, schema=names)\n",
    "type(data)"
   ]
  },
  {
   "cell_type": "code",
   "execution_count": 38,
   "id": "4221fa3a-6660-416c-b556-1b6be587396c",
   "metadata": {},
   "outputs": [
    {
     "name": "stdout",
     "output_type": "stream",
     "text": [
      "+----+-------+---+\n",
      "|  id|   name|age|\n",
      "+----+-------+---+\n",
      "|1201| satish| 25|\n",
      "|1202|krishna| 28|\n",
      "|1203|   mary| 39|\n",
      "|1204|  pablo| 23|\n",
      "+----+-------+---+\n",
      "\n"
     ]
    }
   ],
   "source": [
    "data.show(5)"
   ]
  },
  {
   "cell_type": "markdown",
   "id": "7e22de52-bf34-4ed3-86fd-1f9d33c44c68",
   "metadata": {
    "id": "7e22de52-bf34-4ed3-86fd-1f9d33c44c68"
   },
   "source": [
    "### Create a DataFrame from reading a CSV/JSON/TXT"
   ]
  },
  {
   "cell_type": "code",
   "execution_count": 39,
   "id": "627176e0-74a6-4ace-a623-c95427fbda53",
   "metadata": {
    "colab": {
     "base_uri": "https://localhost:8080/"
    },
    "id": "627176e0-74a6-4ace-a623-c95427fbda53",
    "outputId": "6211bc5c-68bf-448e-dcfd-50007d0a4272"
   },
   "outputs": [
    {
     "name": "stdout",
     "output_type": "stream",
     "text": [
      "The type of titanic_df is <class 'pyspark.sql.dataframe.DataFrame'>\n"
     ]
    }
   ],
   "source": [
    "# Create an DataFrame from file_path\n",
    "titanic_df = spark.read.csv(\"titanic.csv\", header=True, inferSchema=True)\n",
    "\n",
    "# Check the type of people_df\n",
    "print(\"The type of titanic_df is\", type(titanic_df))"
   ]
  },
  {
   "cell_type": "code",
   "execution_count": 40,
   "id": "6d688e3d-70ad-4e99-820d-7e816771e155",
   "metadata": {
    "colab": {
     "base_uri": "https://localhost:8080/"
    },
    "id": "6d688e3d-70ad-4e99-820d-7e816771e155",
    "outputId": "cc2700b5-0dc2-4907-b872-b608322f5d3f"
   },
   "outputs": [
    {
     "data": {
      "text/plain": [
       "['pclass',\n",
       " 'survived',\n",
       " 'name',\n",
       " 'sex',\n",
       " 'age',\n",
       " 'sibsp',\n",
       " 'parch',\n",
       " 'ticket',\n",
       " 'fare',\n",
       " 'cabin',\n",
       " 'embarked',\n",
       " 'boat',\n",
       " 'body',\n",
       " 'home.dest']"
      ]
     },
     "execution_count": 40,
     "metadata": {},
     "output_type": "execute_result"
    }
   ],
   "source": [
    "titanic_df.columns"
   ]
  },
  {
   "cell_type": "code",
   "execution_count": 41,
   "id": "c9f97507-0afd-4c79-be88-da34c5732b8c",
   "metadata": {
    "colab": {
     "base_uri": "https://localhost:8080/"
    },
    "id": "c9f97507-0afd-4c79-be88-da34c5732b8c",
    "outputId": "582675de-c0b3-4e90-fc37-47eba437a5e7"
   },
   "outputs": [
    {
     "name": "stdout",
     "output_type": "stream",
     "text": [
      "+-------+-----------------+\n",
      "|summary|             fare|\n",
      "+-------+-----------------+\n",
      "|  count|             1308|\n",
      "|   mean|33.29547928134572|\n",
      "| stddev|51.75866823917421|\n",
      "|    min|              0.0|\n",
      "|    max|         512.3292|\n",
      "+-------+-----------------+\n",
      "\n"
     ]
    }
   ],
   "source": [
    "titanic_df.select('fare').describe().show()"
   ]
  },
  {
   "cell_type": "code",
   "execution_count": 42,
   "id": "a5428d32-d982-46e4-8593-857bf527fad7",
   "metadata": {
    "colab": {
     "base_uri": "https://localhost:8080/"
    },
    "id": "a5428d32-d982-46e4-8593-857bf527fad7",
    "outputId": "0f16de05-50af-400e-db3d-a95c7fd81465"
   },
   "outputs": [
    {
     "name": "stdout",
     "output_type": "stream",
     "text": [
      "root\n",
      " |-- pclass: integer (nullable = true)\n",
      " |-- survived: integer (nullable = true)\n",
      " |-- name: string (nullable = true)\n",
      " |-- sex: string (nullable = true)\n",
      " |-- age: double (nullable = true)\n",
      " |-- sibsp: integer (nullable = true)\n",
      " |-- parch: integer (nullable = true)\n",
      " |-- ticket: string (nullable = true)\n",
      " |-- fare: double (nullable = true)\n",
      " |-- cabin: string (nullable = true)\n",
      " |-- embarked: string (nullable = true)\n",
      " |-- boat: string (nullable = true)\n",
      " |-- body: integer (nullable = true)\n",
      " |-- home.dest: string (nullable = true)\n",
      "\n"
     ]
    }
   ],
   "source": [
    "titanic_df.printSchema()"
   ]
  },
  {
   "cell_type": "code",
   "execution_count": 43,
   "id": "4620f66d-90df-4590-ba52-fe6fdc81784d",
   "metadata": {
    "colab": {
     "base_uri": "https://localhost:8080/"
    },
    "id": "4620f66d-90df-4590-ba52-fe6fdc81784d",
    "outputId": "dbd4b9da-daa9-4b05-9d99-0b319d80963c"
   },
   "outputs": [
    {
     "data": {
      "text/plain": [
       "[('pclass', 'int'),\n",
       " ('survived', 'int'),\n",
       " ('name', 'string'),\n",
       " ('sex', 'string'),\n",
       " ('age', 'double'),\n",
       " ('sibsp', 'int'),\n",
       " ('parch', 'int'),\n",
       " ('ticket', 'string'),\n",
       " ('fare', 'double'),\n",
       " ('cabin', 'string'),\n",
       " ('embarked', 'string'),\n",
       " ('boat', 'string'),\n",
       " ('body', 'int'),\n",
       " ('home.dest', 'string')]"
      ]
     },
     "execution_count": 43,
     "metadata": {},
     "output_type": "execute_result"
    }
   ],
   "source": [
    "titanic_df.dtypes"
   ]
  },
  {
   "cell_type": "markdown",
   "id": "98ab9b73-506a-4ec2-ada9-90efcd382dc4",
   "metadata": {
    "id": "98ab9b73-506a-4ec2-ada9-90efcd382dc4"
   },
   "source": [
    "### select operation"
   ]
  },
  {
   "cell_type": "code",
   "execution_count": 44,
   "id": "139f57af-e2c9-40d0-8225-157cbaa0d023",
   "metadata": {
    "colab": {
     "base_uri": "https://localhost:8080/"
    },
    "id": "139f57af-e2c9-40d0-8225-157cbaa0d023",
    "outputId": "32db1dee-ea96-4e28-f009-8039bb6ba9c3"
   },
   "outputs": [
    {
     "name": "stdout",
     "output_type": "stream",
     "text": [
      "+------+----+--------+\n",
      "|   sex| age|survived|\n",
      "+------+----+--------+\n",
      "|female|29.0|       1|\n",
      "|  male|0.92|       1|\n",
      "|female| 2.0|       0|\n",
      "|  male|30.0|       0|\n",
      "|female|25.0|       0|\n",
      "|  male|48.0|       1|\n",
      "|female|63.0|       1|\n",
      "|  male|39.0|       0|\n",
      "|female|53.0|       1|\n",
      "|  male|71.0|       0|\n",
      "+------+----+--------+\n",
      "only showing top 10 rows\n",
      "\n"
     ]
    }
   ],
   "source": [
    "titanic_df.select(['sex', 'age', 'survived']).show(10)"
   ]
  },
  {
   "cell_type": "markdown",
   "id": "b2d21875-7222-4433-9a93-677df8e27c72",
   "metadata": {
    "id": "b2d21875-7222-4433-9a93-677df8e27c72"
   },
   "source": [
    "### filter operation"
   ]
  },
  {
   "cell_type": "code",
   "execution_count": null,
   "id": "848ecdfc-0d82-45c2-9dcf-2f67d2b57a11",
   "metadata": {
    "colab": {
     "base_uri": "https://localhost:8080/"
    },
    "id": "848ecdfc-0d82-45c2-9dcf-2f67d2b57a11",
    "outputId": "9bc698ff-3ba1-489a-896a-7bac128ebaae"
   },
   "outputs": [
    {
     "name": "stdout",
     "output_type": "stream",
     "text": [
      "+------+----+--------+\n",
      "|   sex| age|survived|\n",
      "+------+----+--------+\n",
      "|  male|0.92|       1|\n",
      "|female| 2.0|       0|\n",
      "|  male| 4.0|       1|\n",
      "|  male| 6.0|       1|\n",
      "|  male| 1.0|       1|\n",
      "+------+----+--------+\n",
      "only showing top 5 rows\n",
      "\n"
     ]
    }
   ],
   "source": [
    "titanic_df.select(['sex', 'age', 'survived']).filter(titanic_df.age < 10).show(5)"
   ]
  },
  {
   "cell_type": "markdown",
   "id": "7f36384b-78af-46b5-a58a-306a310549dc",
   "metadata": {
    "id": "7f36384b-78af-46b5-a58a-306a310549dc"
   },
   "source": [
    "### groupby and count operation"
   ]
  },
  {
   "cell_type": "code",
   "execution_count": null,
   "id": "d3f0c5a2-0375-4018-85ef-53cc0c70fc3e",
   "metadata": {
    "colab": {
     "base_uri": "https://localhost:8080/"
    },
    "id": "d3f0c5a2-0375-4018-85ef-53cc0c70fc3e",
    "outputId": "6f650ab0-1c4f-419d-8f4d-b71655c8c626"
   },
   "outputs": [
    {
     "name": "stdout",
     "output_type": "stream",
     "text": [
      "+--------+-----+\n",
      "|survived|count|\n",
      "+--------+-----+\n",
      "|       0|  809|\n",
      "|       1|  500|\n",
      "+--------+-----+\n",
      "\n"
     ]
    }
   ],
   "source": [
    "titanic_df.groupby('survived').count().orderBy('survived').show()"
   ]
  },
  {
   "cell_type": "code",
   "execution_count": null,
   "id": "36613f16-303b-4157-b2dc-cb0ff0f1eedf",
   "metadata": {
    "colab": {
     "base_uri": "https://localhost:8080/"
    },
    "id": "36613f16-303b-4157-b2dc-cb0ff0f1eedf",
    "outputId": "6d14f670-6504-4da1-c110-c1c195b32194"
   },
   "outputs": [
    {
     "name": "stdout",
     "output_type": "stream",
     "text": [
      "+---------------+\n",
      "|passenger_class|\n",
      "+---------------+\n",
      "|              1|\n",
      "|              2|\n",
      "|              3|\n",
      "+---------------+\n",
      "\n"
     ]
    }
   ],
   "source": [
    "titanic_df.select('pclass').dropDuplicates().orderBy('pclass').withColumnRenamed('pclass','passenger_class').show()"
   ]
  },
  {
   "cell_type": "markdown",
   "id": "aeb2dace-5788-47ee-8041-1b9e5db21755",
   "metadata": {
    "id": "aeb2dace-5788-47ee-8041-1b9e5db21755"
   },
   "source": [
    "## Exercise | Titanic dataset"
   ]
  },
  {
   "cell_type": "code",
   "execution_count": null,
   "id": "3c2b2388-4e25-4108-8086-eb7978951819",
   "metadata": {
    "id": "3c2b2388-4e25-4108-8086-eb7978951819"
   },
   "outputs": [],
   "source": [
    "# Load the Dataframe\n",
    "titanic_df = spark.____(____, header=True, inferSchema=True)\n",
    "\n",
    "# Check the schema of columns\n",
    "titanic_df.____()\n",
    "\n",
    "# Show the first 10 observations\n",
    "titanic_df.____(____)\n",
    "\n",
    "# Print the total number of rows\n",
    "print(\"There are {} rows in the titanic_df DataFrame\".format(titanic_df.____()))"
   ]
  },
  {
   "cell_type": "code",
   "execution_count": null,
   "id": "a528ce11-890f-4142-8a9a-66f437109856",
   "metadata": {
    "id": "a528ce11-890f-4142-8a9a-66f437109856"
   },
   "outputs": [],
   "source": [
    "# Filter people_df to select females \n",
    "titanic_df_female = titanic_df._______(_______.sex == \"female\")\n",
    "\n",
    "# Filter people_df to select males\n",
    "titanic_df_male = titanic_df.________(________.sex == ______)\n",
    "\n",
    "# Count the number of rows \n",
    "print(\"There are {} rows in the titanic_df_female DataFrame and {} rows in the titanic_df_male DataFrame\".format(people_df_female.______, people_df_male._____))"
   ]
  },
  {
   "cell_type": "code",
   "execution_count": null,
   "id": "993561c7-e646-47e6-ae0c-55b8337eea1c",
   "metadata": {
    "id": "993561c7-e646-47e6-ae0c-55b8337eea1c"
   },
   "outputs": [],
   "source": [
    "# Create a temporary view of titanic_df\n",
    "titanic_df.____('titanic_table')\n",
    "\n",
    "# Construct the \"query\" to show fares that are higher than $150\n",
    "query = '''SELECT ____ FROM ____ WHERE ______'''\n",
    "\n",
    "# Apply and show the results of the SQL \"query\"\n",
    "spark.____(____).show()"
   ]
  },
  {
   "cell_type": "markdown",
   "id": "eadd56d5-fad5-4a3c-9516-2bf783a41f91",
   "metadata": {
    "id": "eadd56d5-fad5-4a3c-9516-2bf783a41f91"
   },
   "source": [
    "## SQL query on titanic_df"
   ]
  },
  {
   "cell_type": "code",
   "execution_count": 45,
   "id": "64dfa561-605b-4c19-a644-6a1032378065",
   "metadata": {
    "id": "64dfa561-605b-4c19-a644-6a1032378065",
    "outputId": "21ca0481-66eb-4098-e75c-728f6e7983ef"
   },
   "outputs": [
    {
     "data": {
      "text/plain": [
       "843"
      ]
     },
     "execution_count": 45,
     "metadata": {},
     "output_type": "execute_result"
    }
   ],
   "source": [
    "titanic_df.createOrReplaceTempView(\"table1\")\n",
    "df2 = spark.sql(\"SELECT sex FROM table1 WHERE sex == 'male'\")\n",
    "df2.count()"
   ]
  },
  {
   "cell_type": "code",
   "execution_count": 46,
   "id": "89218dd8-a956-4bbc-ac9e-81a6a2a251fe",
   "metadata": {
    "id": "89218dd8-a956-4bbc-ac9e-81a6a2a251fe",
    "outputId": "86de5ef4-1cd5-4b51-ee2e-de0ea332238b"
   },
   "outputs": [
    {
     "name": "stdout",
     "output_type": "stream",
     "text": [
      "+----+\n",
      "| sex|\n",
      "+----+\n",
      "|male|\n",
      "|male|\n",
      "|male|\n",
      "|male|\n",
      "|male|\n",
      "+----+\n",
      "only showing top 5 rows\n",
      "\n"
     ]
    }
   ],
   "source": [
    "df2.show(5)"
   ]
  },
  {
   "cell_type": "markdown",
   "id": "ea9dfca1-3cf4-43cf-80bb-b1cb6d0bc4c1",
   "metadata": {
    "id": "ea9dfca1-3cf4-43cf-80bb-b1cb6d0bc4c1"
   },
   "source": [
    "### Data Visualization in Spark"
   ]
  },
  {
   "cell_type": "code",
   "execution_count": 50,
   "id": "f09a2068-fe98-4a1e-9bc6-ecea590812da",
   "metadata": {
    "id": "f09a2068-fe98-4a1e-9bc6-ecea590812da",
    "outputId": "8a4e5e96-55be-4bb9-a6c6-96fbd1a445ee"
   },
   "outputs": [
    {
     "data": {
      "image/png": "[encoded data removed]",
      "text/plain": [
       "<Figure size 432x288 with 1 Axes>"
      ]
     },
     "metadata": {
      "needs_background": "light"
     },
     "output_type": "display_data"
    }
   ],
   "source": [
    "from matplotlib import pyplot as plt\n",
    "from pyspark_dist_explore import hist\n",
    "fig, ax = plt.subplots()\n",
    "hist(ax, titanic_df.select(\"survived\"))\n",
    "plt.show()"
   ]
  },
  {
   "cell_type": "markdown",
   "id": "e3405669-08f0-49ed-8b1e-61e2316ca1a7",
   "metadata": {
    "id": "e3405669-08f0-49ed-8b1e-61e2316ca1a7"
   },
   "source": [
    "### Using Pandas for Plotting DataFrames"
   ]
  },
  {
   "cell_type": "code",
   "execution_count": 51,
   "id": "35a0c740-9a21-4b97-8d24-9bf4c8a19d15",
   "metadata": {
    "id": "35a0c740-9a21-4b97-8d24-9bf4c8a19d15",
    "outputId": "974f6540-4b3f-42d9-fc61-781a02750ecc"
   },
   "outputs": [
    {
     "data": {
      "image/png": "[encoded data removed]",
      "text/plain": [
       "<Figure size 432x288 with 1 Axes>"
      ]
     },
     "metadata": {
      "needs_background": "light"
     },
     "output_type": "display_data"
    }
   ],
   "source": [
    "titanic_df_pandas = titanic_df.toPandas()\n",
    "titanic_df_pandas.hist('pclass')\n",
    "plt.grid(visible=None)\n",
    "plt.show()"
   ]
  },
  {
   "cell_type": "code",
   "execution_count": 52,
   "id": "d0ad5f3d-1c58-4dc7-9261-8c207e8418f7",
   "metadata": {
    "id": "d0ad5f3d-1c58-4dc7-9261-8c207e8418f7",
    "outputId": "086324c6-b4e2-42ac-f8d8-4477e309cb2d"
   },
   "outputs": [
    {
     "data": {
      "image/png": "[encoded data removed]",
      "text/plain": [
       "<Figure size 432x288 with 1 Axes>"
      ]
     },
     "metadata": {
      "needs_background": "light"
     },
     "output_type": "display_data"
    }
   ],
   "source": [
    "import matplotlib.pyplot as plt\n",
    "titanic_df_pandas['age'].plot(kind = 'density')\n",
    "plt.show()"
   ]
  },
  {
   "cell_type": "code",
   "execution_count": null,
   "id": "f0e8bbaa-2736-4517-96ea-e0e35b1101df",
   "metadata": {
    "id": "f0e8bbaa-2736-4517-96ea-e0e35b1101df"
   },
   "outputs": [],
   "source": [
    "# Spark Count Words in a Text"
   ]
  },
  {
   "cell_type": "code",
   "execution_count": null,
   "id": "jSfPyvg8qEq5",
   "metadata": {
    "colab": {
     "base_uri": "https://localhost:8080/",
     "height": 35
    },
    "id": "jSfPyvg8qEq5",
    "outputId": "907dfdef-eec2-411c-d3bd-abe10b885d30"
   },
   "outputs": [
    {
     "data": {
      "application/vnd.google.colaboratory.intrinsic+json": {
       "type": "string"
      },
      "text/plain": [
       "'/content'"
      ]
     },
     "execution_count": 3,
     "metadata": {},
     "output_type": "execute_result"
    }
   ],
   "source": [
    "pwd"
   ]
  },
  {
   "cell_type": "code",
   "execution_count": null,
   "id": "teN3GIDEqNVh",
   "metadata": {
    "id": "teN3GIDEqNVh"
   },
   "outputs": [],
   "source": []
  },
  {
   "cell_type": "markdown",
   "id": "ttb89w2dzrv4",
   "metadata": {
    "id": "ttb89w2dzrv4"
   },
   "source": [
    "Download the file Question1_v1.csv from Blackboard. The file is a csv file that is separated by semicolons (;) instead of a (,). This is a sample (for exam purposes) of a 2Gb file. You must write Map/Reduce jobs to answer the following questions:\n",
    "\n",
    "\n",
    "1.   What is the total number of transactions for the different payment types? \n",
    "2.   How many transactions were paid with a Credit card in 2017?\n",
    "3.   What is the total number of transactions (per city) for the top 5 cities?\n",
    "\n",
    "\n",
    "\n"
   ]
  },
  {
   "cell_type": "code",
   "execution_count": 53,
   "id": "LjPsUpdxz-un",
   "metadata": {
    "id": "LjPsUpdxz-un"
   },
   "outputs": [],
   "source": [
    "import pandas as pd\n",
    "titanic = pd.read_csv('question1_olist_v1.csv', sep =';')"
   ]
  },
  {
   "cell_type": "code",
   "execution_count": 54,
   "id": "mMXbYtU9Mfep",
   "metadata": {
    "colab": {
     "base_uri": "https://localhost:8080/",
     "height": 206
    },
    "id": "mMXbYtU9Mfep",
    "outputId": "914faa41-b61d-43e3-a40f-becaa499a8ee"
   },
   "outputs": [
    {
     "data": {
      "text/html": [
       "<div>\n",
       "<style scoped>\n",
       "    .dataframe tbody tr th:only-of-type {\n",
       "        vertical-align: middle;\n",
       "    }\n",
       "\n",
       "    .dataframe tbody tr th {\n",
       "        vertical-align: top;\n",
       "    }\n",
       "\n",
       "    .dataframe thead th {\n",
       "        text-align: right;\n",
       "    }\n",
       "</style>\n",
       "<table border=\"1\" class=\"dataframe\">\n",
       "  <thead>\n",
       "    <tr style=\"text-align: right;\">\n",
       "      <th></th>\n",
       "      <th>customer_id</th>\n",
       "      <th>customer_city</th>\n",
       "      <th>customer_state</th>\n",
       "      <th>payment_type</th>\n",
       "      <th>payment_value</th>\n",
       "      <th>order_purchase_timestamp</th>\n",
       "    </tr>\n",
       "  </thead>\n",
       "  <tbody>\n",
       "    <tr>\n",
       "      <th>0</th>\n",
       "      <td>00012a2ce6f8dcda20d059ce98491703</td>\n",
       "      <td>osasco</td>\n",
       "      <td>SP</td>\n",
       "      <td>credit_card</td>\n",
       "      <td>100.00</td>\n",
       "      <td>2017-11-14 16:08:26</td>\n",
       "    </tr>\n",
       "    <tr>\n",
       "      <th>1</th>\n",
       "      <td>000161a058600d5901f007fab4c27140</td>\n",
       "      <td>itapecerica</td>\n",
       "      <td>MG</td>\n",
       "      <td>credit_card</td>\n",
       "      <td>67.41</td>\n",
       "      <td>2017-07-16 09:40:32</td>\n",
       "    </tr>\n",
       "    <tr>\n",
       "      <th>2</th>\n",
       "      <td>0001fd6190edaaf884bcaf3d49edf079</td>\n",
       "      <td>nova venecia</td>\n",
       "      <td>ES</td>\n",
       "      <td>credit_card</td>\n",
       "      <td>195.42</td>\n",
       "      <td>2017-02-28 11:06:43</td>\n",
       "    </tr>\n",
       "    <tr>\n",
       "      <th>3</th>\n",
       "      <td>0002414f95344307404f0ace7a26f1d5</td>\n",
       "      <td>mendonca</td>\n",
       "      <td>MG</td>\n",
       "      <td>boleto</td>\n",
       "      <td>179.35</td>\n",
       "      <td>2017-08-16 13:09:20</td>\n",
       "    </tr>\n",
       "    <tr>\n",
       "      <th>4</th>\n",
       "      <td>000379cdec625522490c315e70c7a9fb</td>\n",
       "      <td>sao paulo</td>\n",
       "      <td>SP</td>\n",
       "      <td>boleto</td>\n",
       "      <td>107.01</td>\n",
       "      <td>2018-04-02 13:42:17</td>\n",
       "    </tr>\n",
       "  </tbody>\n",
       "</table>\n",
       "</div>"
      ],
      "text/plain": [
       "                        customer_id customer_city customer_state payment_type  \\\n",
       "0  00012a2ce6f8dcda20d059ce98491703        osasco             SP  credit_card   \n",
       "1  000161a058600d5901f007fab4c27140   itapecerica             MG  credit_card   \n",
       "2  0001fd6190edaaf884bcaf3d49edf079  nova venecia             ES  credit_card   \n",
       "3  0002414f95344307404f0ace7a26f1d5      mendonca             MG       boleto   \n",
       "4  000379cdec625522490c315e70c7a9fb     sao paulo             SP       boleto   \n",
       "\n",
       "   payment_value order_purchase_timestamp  \n",
       "0         100.00      2017-11-14 16:08:26  \n",
       "1          67.41      2017-07-16 09:40:32  \n",
       "2         195.42      2017-02-28 11:06:43  \n",
       "3         179.35      2017-08-16 13:09:20  \n",
       "4         107.01      2018-04-02 13:42:17  "
      ]
     },
     "execution_count": 54,
     "metadata": {},
     "output_type": "execute_result"
    }
   ],
   "source": [
    "titanic.head()"
   ]
  },
  {
   "cell_type": "code",
   "execution_count": 55,
   "id": "iaSKPkNLMkve",
   "metadata": {
    "colab": {
     "base_uri": "https://localhost:8080/"
    },
    "id": "iaSKPkNLMkve",
    "outputId": "0ede9d01-33a9-4dd0-de03-c8ec96f91a51"
   },
   "outputs": [
    {
     "data": {
      "text/plain": [
       "credit_card    773\n",
       "boleto         193\n",
       "voucher         25\n",
       "debit_card       9\n",
       "Name: payment_type, dtype: int64"
      ]
     },
     "execution_count": 55,
     "metadata": {},
     "output_type": "execute_result"
    }
   ],
   "source": [
    "titanic['payment_type'].value_counts()"
   ]
  },
  {
   "cell_type": "code",
   "execution_count": 63,
   "id": "h7HGTlpP2baK",
   "metadata": {
    "id": "h7HGTlpP2baK"
   },
   "outputs": [],
   "source": [
    "import pyspark\n",
    "from pyspark.sql import SparkSession\n",
    "  \n",
    "spark = SparkSession.builder.master('local[*]').appName(\"DataFrame\").getOrCreate() #in master * all cores 4 -> 4 cores"
   ]
  },
  {
   "cell_type": "code",
   "execution_count": 64,
   "id": "bUbD3Qhv0EqC",
   "metadata": {
    "id": "bUbD3Qhv0EqC"
   },
   "outputs": [],
   "source": [
    "olist_sdf = spark.read.csv(\"question1_olist_v1.csv\", header=True, sep=';')"
   ]
  },
  {
   "cell_type": "code",
   "execution_count": 65,
   "id": "9UmLi7KyLmpQ",
   "metadata": {
    "colab": {
     "base_uri": "https://localhost:8080/"
    },
    "id": "9UmLi7KyLmpQ",
    "outputId": "4ea2a870-faef-41b8-a905-cb28fe1ecfe5"
   },
   "outputs": [
    {
     "data": {
      "text/plain": [
       "DataFrame[customer_id: string, customer_city: string, customer_state: string, payment_type: string, payment_value: string, order_purchase_timestamp: string]"
      ]
     },
     "execution_count": 65,
     "metadata": {},
     "output_type": "execute_result"
    }
   ],
   "source": [
    "olist_sdf"
   ]
  },
  {
   "cell_type": "code",
   "execution_count": 66,
   "id": "Jd1xCT3c7OBs",
   "metadata": {
    "colab": {
     "base_uri": "https://localhost:8080/"
    },
    "id": "Jd1xCT3c7OBs",
    "outputId": "f39a136f-7fb1-4f40-e2c0-6b6957210d20"
   },
   "outputs": [
    {
     "name": "stdout",
     "output_type": "stream",
     "text": [
      "+--------------------+-------------+--------------+------------+-------------+------------------------+\n",
      "|         customer_id|customer_city|customer_state|payment_type|payment_value|order_purchase_timestamp|\n",
      "+--------------------+-------------+--------------+------------+-------------+------------------------+\n",
      "|00012a2ce6f8dcda2...|       osasco|            SP| credit_card|       100.00|     2017-11-14 16:08:26|\n",
      "|000161a058600d590...|  itapecerica|            MG| credit_card|        67.41|     2017-07-16 09:40:32|\n",
      "|0001fd6190edaaf88...| nova venecia|            ES| credit_card|       195.42|     2017-02-28 11:06:43|\n",
      "|0002414f953443074...|     mendonca|            MG|      boleto|       179.35|     2017-08-16 13:09:20|\n",
      "|000379cdec6255224...|    sao paulo|            SP|      boleto|       107.01|     2018-04-02 13:42:17|\n",
      "+--------------------+-------------+--------------+------------+-------------+------------------------+\n",
      "only showing top 5 rows\n",
      "\n"
     ]
    }
   ],
   "source": [
    "olist_sdf.show(5)"
   ]
  },
  {
   "cell_type": "code",
   "execution_count": 60,
   "id": "kEox8ict54C0",
   "metadata": {
    "id": "kEox8ict54C0"
   },
   "outputs": [],
   "source": [
    "## 1. What is the total number of transactions for the different payment types? "
   ]
  },
  {
   "cell_type": "code",
   "execution_count": 61,
   "id": "osseYiYv50vn",
   "metadata": {
    "colab": {
     "base_uri": "https://localhost:8080/"
    },
    "id": "osseYiYv50vn",
    "outputId": "4ef2490d-fea8-4692-9eba-e8857b33caf6"
   },
   "outputs": [
    {
     "name": "stdout",
     "output_type": "stream",
     "text": [
      "+------------+--------+\n",
      "|payment_type|count(1)|\n",
      "+------------+--------+\n",
      "|      boleto|     193|\n",
      "| credit_card|     773|\n",
      "|     voucher|      25|\n",
      "|  debit_card|       9|\n",
      "+------------+--------+\n",
      "\n"
     ]
    }
   ],
   "source": [
    "# Method 1: Spark SQL\n",
    "olist_sdf.createOrReplaceTempView(\"olist1\")\n",
    "df2 = spark.sql(\"SELECT payment_type, COUNT(*) FROM olist1 GROUP BY payment_type\")\n",
    "df2.show()"
   ]
  },
  {
   "cell_type": "code",
   "execution_count": null,
   "id": "IlUsJB1P3Vle",
   "metadata": {
    "id": "IlUsJB1P3Vle"
   },
   "outputs": [],
   "source": [
    "# Method 2: handyspark leverages on the recently released pandas UDFs in Spark to allow for an out-of-the-box usage of common pandas functions in a Spark dataframe.\n",
    "!pip install handyspark -qq\n",
    "from handyspark import *"
   ]
  },
  {
   "cell_type": "code",
   "execution_count": null,
   "id": "iJtsJvtR4CBa",
   "metadata": {
    "id": "iJtsJvtR4CBa"
   },
   "outputs": [],
   "source": [
    "hdf = olist_sdf.toHandy()"
   ]
  },
  {
   "cell_type": "code",
   "execution_count": null,
   "id": "a-KbivkR5NRq",
   "metadata": {
    "colab": {
     "base_uri": "https://localhost:8080/"
    },
    "id": "a-KbivkR5NRq",
    "outputId": "7e3a3fa9-964a-431e-94fb-76b822c68ed4"
   },
   "outputs": [
    {
     "data": {
      "text/plain": [
       "payment_type\n",
       "boleto         193\n",
       "credit_card    773\n",
       "debit_card       9\n",
       "voucher         25\n",
       "Name: value_counts, dtype: int64"
      ]
     },
     "execution_count": 105,
     "metadata": {},
     "output_type": "execute_result"
    }
   ],
   "source": [
    "hdf.cols['payment_type'].value_counts(dropna=False)\n"
   ]
  },
  {
   "cell_type": "code",
   "execution_count": null,
   "id": "q9U2LYfL5YLB",
   "metadata": {
    "id": "q9U2LYfL5YLB"
   },
   "outputs": [],
   "source": [
    "# 2. How many transactions were paid with a Credit card in 2017?"
   ]
  },
  {
   "cell_type": "code",
   "execution_count": null,
   "id": "ObvVJ5oUNYQT",
   "metadata": {
    "colab": {
     "base_uri": "https://localhost:8080/"
    },
    "id": "ObvVJ5oUNYQT",
    "outputId": "e5ebaf07-0d82-463a-9258-8c20f36fa8f7"
   },
   "outputs": [
    {
     "name": "stdout",
     "output_type": "stream",
     "text": [
      "+--------------------+-------------+--------------+------------+-------------+------------------------+\n",
      "|         customer_id|customer_city|customer_state|payment_type|payment_value|order_purchase_timestamp|\n",
      "+--------------------+-------------+--------------+------------+-------------+------------------------+\n",
      "|00012a2ce6f8dcda2...|       osasco|            SP| credit_card|       100.00|     2017-11-14 16:08:26|\n",
      "+--------------------+-------------+--------------+------------+-------------+------------------------+\n",
      "only showing top 1 row\n",
      "\n"
     ]
    }
   ],
   "source": [
    "olist_sdf.show(1)"
   ]
  },
  {
   "cell_type": "code",
   "execution_count": null,
   "id": "KA1vh_1f674e",
   "metadata": {
    "colab": {
     "base_uri": "https://localhost:8080/"
    },
    "id": "KA1vh_1f674e",
    "outputId": "6d2196f1-dd1c-42ed-8d76-9727f15206a8"
   },
   "outputs": [
    {
     "name": "stdout",
     "output_type": "stream",
     "text": [
      "+--------+\n",
      "|count(1)|\n",
      "+--------+\n",
      "|     339|\n",
      "+--------+\n",
      "\n"
     ]
    }
   ],
   "source": [
    "# Spark SQL\n",
    "olist_sdf.createOrReplaceTempView(\"olist2\")\n",
    "df2 = spark.sql(\"SELECT count(*) from olist2 where payment_type =='credit_card' and YEAR(order_purchase_timestamp)=='2017'\")\n",
    "df2.show()"
   ]
  },
  {
   "cell_type": "code",
   "execution_count": null,
   "id": "SShK98zM7XMA",
   "metadata": {
    "id": "SShK98zM7XMA"
   },
   "outputs": [],
   "source": [
    "# 3. What is the total number of transactions (per city) for the top 5 cities?"
   ]
  },
  {
   "cell_type": "code",
   "execution_count": null,
   "id": "aTmPm6qtOS3t",
   "metadata": {
    "colab": {
     "base_uri": "https://localhost:8080/"
    },
    "id": "aTmPm6qtOS3t",
    "outputId": "c6f7d853-6bd2-4e49-fdf7-c9543c507a5c"
   },
   "outputs": [
    {
     "name": "stdout",
     "output_type": "stream",
     "text": [
      "+--------------------+-------------+--------------+------------+-------------+------------------------+\n",
      "|         customer_id|customer_city|customer_state|payment_type|payment_value|order_purchase_timestamp|\n",
      "+--------------------+-------------+--------------+------------+-------------+------------------------+\n",
      "|00012a2ce6f8dcda2...|       osasco|            SP| credit_card|       100.00|     2017-11-14 16:08:26|\n",
      "+--------------------+-------------+--------------+------------+-------------+------------------------+\n",
      "only showing top 1 row\n",
      "\n"
     ]
    }
   ],
   "source": [
    "olist_sdf.show(1)"
   ]
  },
  {
   "cell_type": "code",
   "execution_count": null,
   "id": "TJSPoxA47i7Z",
   "metadata": {
    "colab": {
     "base_uri": "https://localhost:8080/"
    },
    "id": "TJSPoxA47i7Z",
    "outputId": "d65c1b36-57e9-4bc1-ec10-affc03fe96f1"
   },
   "outputs": [
    {
     "name": "stdout",
     "output_type": "stream",
     "text": [
      "+--------------+--------+\n",
      "| customer_city|count(1)|\n",
      "+--------------+--------+\n",
      "|     sao paulo|     165|\n",
      "|rio de janeiro|      68|\n",
      "|belo horizonte|      33|\n",
      "|      curitiba|      19|\n",
      "|      campinas|      19|\n",
      "+--------------+--------+\n",
      "only showing top 5 rows\n",
      "\n"
     ]
    }
   ],
   "source": [
    "# Spark SQL\n",
    "olist_sdf.createOrReplaceTempView(\"olist3\")\n",
    "df2 = spark.sql(\"SELECT customer_city, count(*) from olist3 group by customer_city order by count(*) desc\")\n",
    "df2.show(5)"
   ]
  },
  {
   "cell_type": "code",
   "execution_count": null,
   "id": "0Qtm6THV8Sym",
   "metadata": {
    "colab": {
     "base_uri": "https://localhost:8080/"
    },
    "id": "0Qtm6THV8Sym",
    "outputId": "d15894ca-9b4f-48d0-a8b9-1dd17212059f"
   },
   "outputs": [
    {
     "data": {
      "text/plain": [
       "1687"
      ]
     },
     "execution_count": 128,
     "metadata": {},
     "output_type": "execute_result"
    }
   ],
   "source": [
    "# 2a) How many times does the character Bennet appears in the text?\n",
    "# 2b) How many total words are there in the text?\n",
    "\n",
    "text = sc.textFile('question2_book_v1.txt')\n",
    "counts = text.flatMap(lambda x: x.split(' '))\n",
    "len(counts.collect())"
   ]
  },
  {
   "cell_type": "markdown",
   "id": "34941acf-ee3f-4143-9dbf-5208cd42ab67",
   "metadata": {
    "id": "kJ5huRNv8iZ0"
   },
   "source": [
    "# Machine learning with Spark"
   ]
  },
  {
   "cell_type": "code",
   "execution_count": 297,
   "id": "VsMsKLP98idN",
   "metadata": {
    "id": "VsMsKLP98idN"
   },
   "outputs": [],
   "source": [
    "import pyspark\n",
    "from pyspark.sql import SparkSession\n",
    "  \n",
    "spark = SparkSession.builder.master('local[*]').appName(\"DataFrame\").getOrCreate() #in master * all cores 4 -> 4 cores\n",
    "\n",
    "titanic_sdf = spark.read.csv(\"titanic.csv\", header=True, sep=',')"
   ]
  },
  {
   "cell_type": "code",
   "execution_count": 298,
   "id": "8c771897-1088-4a58-b4d6-eabec2f580eb",
   "metadata": {},
   "outputs": [
    {
     "name": "stdout",
     "output_type": "stream",
     "text": [
      "The data contain 1309 records.\n"
     ]
    }
   ],
   "source": [
    "# Get number of records\n",
    "print(\"The data contain %d records.\" % titanic.count())"
   ]
  },
  {
   "cell_type": "code",
   "execution_count": 299,
   "id": "mh0bd-OO8igJ",
   "metadata": {
    "id": "mh0bd-OO8igJ"
   },
   "outputs": [
    {
     "data": {
      "text/plain": [
       "['pclass',\n",
       " 'survived',\n",
       " 'name',\n",
       " 'sex',\n",
       " 'age',\n",
       " 'sibsp',\n",
       " 'parch',\n",
       " 'ticket',\n",
       " 'fare',\n",
       " 'cabin',\n",
       " 'embarked',\n",
       " 'boat',\n",
       " 'body',\n",
       " 'homedest']"
      ]
     },
     "execution_count": 299,
     "metadata": {},
     "output_type": "execute_result"
    }
   ],
   "source": [
    "titanic_sdf.columns"
   ]
  },
  {
   "cell_type": "code",
   "execution_count": 300,
   "id": "uvJ1Hn0_8ii0",
   "metadata": {
    "id": "uvJ1Hn0_8ii0"
   },
   "outputs": [
    {
     "name": "stdout",
     "output_type": "stream",
     "text": [
      "root\n",
      " |-- pclass: string (nullable = true)\n",
      " |-- survived: string (nullable = true)\n",
      " |-- name: string (nullable = true)\n",
      " |-- sex: string (nullable = true)\n",
      " |-- age: string (nullable = true)\n",
      " |-- sibsp: string (nullable = true)\n",
      " |-- parch: string (nullable = true)\n",
      " |-- ticket: string (nullable = true)\n",
      " |-- fare: string (nullable = true)\n",
      " |-- cabin: string (nullable = true)\n",
      " |-- embarked: string (nullable = true)\n",
      " |-- boat: string (nullable = true)\n",
      " |-- body: string (nullable = true)\n",
      " |-- homedest: string (nullable = true)\n",
      "\n"
     ]
    }
   ],
   "source": [
    "titanic_sdf.printSchema()"
   ]
  },
  {
   "cell_type": "code",
   "execution_count": 301,
   "id": "833f1f72-61a5-4329-9cfa-1e24962e5ffb",
   "metadata": {},
   "outputs": [
    {
     "data": {
      "text/plain": [
       "[('pclass', 'string'),\n",
       " ('survived', 'string'),\n",
       " ('name', 'string'),\n",
       " ('sex', 'string'),\n",
       " ('age', 'string'),\n",
       " ('sibsp', 'string'),\n",
       " ('parch', 'string'),\n",
       " ('ticket', 'string'),\n",
       " ('fare', 'string'),\n",
       " ('cabin', 'string'),\n",
       " ('embarked', 'string'),\n",
       " ('boat', 'string'),\n",
       " ('body', 'string'),\n",
       " ('homedest', 'string')]"
      ]
     },
     "execution_count": 301,
     "metadata": {},
     "output_type": "execute_result"
    }
   ],
   "source": [
    "titanic_sdf.dtypes"
   ]
  },
  {
   "cell_type": "code",
   "execution_count": 302,
   "id": "yQdq3biF8ioD",
   "metadata": {
    "id": "yQdq3biF8ioD"
   },
   "outputs": [],
   "source": [
    "titanic_sdf = spark.read.csv(\"titanic.csv\", header=True, sep=',', inferSchema = True, nullValue = 'NA')"
   ]
  },
  {
   "cell_type": "code",
   "execution_count": 303,
   "id": "dDC8e-5W8irM",
   "metadata": {
    "id": "dDC8e-5W8irM"
   },
   "outputs": [
    {
     "name": "stdout",
     "output_type": "stream",
     "text": [
      "root\n",
      " |-- pclass: integer (nullable = true)\n",
      " |-- survived: integer (nullable = true)\n",
      " |-- name: string (nullable = true)\n",
      " |-- sex: string (nullable = true)\n",
      " |-- age: double (nullable = true)\n",
      " |-- sibsp: integer (nullable = true)\n",
      " |-- parch: integer (nullable = true)\n",
      " |-- ticket: string (nullable = true)\n",
      " |-- fare: double (nullable = true)\n",
      " |-- cabin: string (nullable = true)\n",
      " |-- embarked: string (nullable = true)\n",
      " |-- boat: string (nullable = true)\n",
      " |-- body: integer (nullable = true)\n",
      " |-- homedest: string (nullable = true)\n",
      "\n"
     ]
    }
   ],
   "source": [
    "titanic_sdf.printSchema()"
   ]
  },
  {
   "cell_type": "markdown",
   "id": "e26bdf8d-415f-46b2-993b-1278e44198c4",
   "metadata": {},
   "source": [
    "## Select columns"
   ]
  },
  {
   "cell_type": "code",
   "execution_count": 304,
   "id": "CvfW8qfe8it1",
   "metadata": {
    "id": "CvfW8qfe8it1"
   },
   "outputs": [
    {
     "data": {
      "text/plain": [
       "[('pclass', 'int'),\n",
       " ('survived', 'int'),\n",
       " ('name', 'string'),\n",
       " ('sex', 'string'),\n",
       " ('age', 'double'),\n",
       " ('sibsp', 'int'),\n",
       " ('parch', 'int'),\n",
       " ('ticket', 'string'),\n",
       " ('fare', 'double'),\n",
       " ('cabin', 'string'),\n",
       " ('embarked', 'string'),\n",
       " ('boat', 'string'),\n",
       " ('body', 'int'),\n",
       " ('homedest', 'string')]"
      ]
     },
     "execution_count": 304,
     "metadata": {},
     "output_type": "execute_result"
    }
   ],
   "source": [
    "titanic_sdf.dtypes"
   ]
  },
  {
   "cell_type": "code",
   "execution_count": 305,
   "id": "1b403027-4fea-4b4c-bf62-94e2a612a7a3",
   "metadata": {},
   "outputs": [
    {
     "name": "stdout",
     "output_type": "stream",
     "text": [
      "+------+--------+--------------------+------+----+-----+-----+------+--------+-------+--------+----+----+--------------------+\n",
      "|pclass|survived|                name|   sex| age|sibsp|parch|ticket|    fare|  cabin|embarked|boat|body|            homedest|\n",
      "+------+--------+--------------------+------+----+-----+-----+------+--------+-------+--------+----+----+--------------------+\n",
      "|     1|       1|Allen, Miss. Elis...|female|29.0|    0|    0| 24160|211.3375|     B5|       S|   2|null|        St Louis, MO|\n",
      "|     1|       1|Allison, Master. ...|  male|0.92|    1|    2|113781|  151.55|C22 C26|       S|  11|null|Montreal, PQ / Ch...|\n",
      "|     1|       0|Allison, Miss. He...|female| 2.0|    1|    2|113781|  151.55|C22 C26|       S|null|null|Montreal, PQ / Ch...|\n",
      "|     1|       0|Allison, Mr. Huds...|  male|30.0|    1|    2|113781|  151.55|C22 C26|       S|null| 135|Montreal, PQ / Ch...|\n",
      "|     1|       0|Allison, Mrs. Hud...|female|25.0|    1|    2|113781|  151.55|C22 C26|       S|null|null|Montreal, PQ / Ch...|\n",
      "+------+--------+--------------------+------+----+-----+-----+------+--------+-------+--------+----+----+--------------------+\n",
      "only showing top 5 rows\n",
      "\n"
     ]
    }
   ],
   "source": [
    "titanic_sdf.show(5)"
   ]
  },
  {
   "cell_type": "code",
   "execution_count": 306,
   "id": "7f1151d5-7b71-4856-9234-cfe8e5f3f0f3",
   "metadata": {},
   "outputs": [
    {
     "name": "stdout",
     "output_type": "stream",
     "text": [
      "+--------------------+--------+\n",
      "|            homedest|count(1)|\n",
      "+--------------------+--------+\n",
      "|                null|     564|\n",
      "|        New York, NY|      64|\n",
      "|              London|      14|\n",
      "|        Montreal, PQ|      10|\n",
      "|Cornwall / Akron, OH|       9|\n",
      "+--------------------+--------+\n",
      "only showing top 5 rows\n",
      "\n"
     ]
    }
   ],
   "source": [
    "titanic_sdf.createOrReplaceTempView(\"titanic\")\n",
    "spark.sql(\"SELECT homedest, COUNT(*) FROM titanic GROUP BY homedest order by count(*) desc\").show(5)"
   ]
  },
  {
   "cell_type": "code",
   "execution_count": 307,
   "id": "44a7be17-512a-438f-bba5-fe5664215e7d",
   "metadata": {},
   "outputs": [
    {
     "name": "stdout",
     "output_type": "stream",
     "text": [
      "+------+-----------------+\n",
      "|   sex|         avg(age)|\n",
      "+------+-----------------+\n",
      "|female|28.68708762886598|\n",
      "|  male|30.58522796352583|\n",
      "+------+-----------------+\n",
      "\n"
     ]
    }
   ],
   "source": [
    "titanic_sdf.groupBy('sex').agg(mean('age')).show()"
   ]
  },
  {
   "cell_type": "code",
   "execution_count": 308,
   "id": "50e356fa-6a04-4693-8585-032b2b89d74a",
   "metadata": {},
   "outputs": [
    {
     "name": "stdout",
     "output_type": "stream",
     "text": [
      "+------+-------------------+\n",
      "|   sex|      avg(survived)|\n",
      "+------+-------------------+\n",
      "|female| 0.7274678111587983|\n",
      "|  male|0.19098457888493475|\n",
      "+------+-------------------+\n",
      "\n"
     ]
    }
   ],
   "source": [
    "titanic_sdf.groupBy('sex').agg(mean('survived')).show()"
   ]
  },
  {
   "cell_type": "code",
   "execution_count": 309,
   "id": "zwilzDEe8iwi",
   "metadata": {
    "id": "zwilzDEe8iwi"
   },
   "outputs": [],
   "source": [
    "titanic_sdf=titanic_sdf.select('pclass', 'sex', 'age', 'sibsp', 'fare', 'cabin', 'homedest','survived')"
   ]
  },
  {
   "cell_type": "markdown",
   "id": "2cc811be-1a7a-4d67-85f0-6e80efd55fe8",
   "metadata": {
    "id": "iJy4TTx98i3W"
   },
   "source": [
    "## Check for missing values in the target variable"
   ]
  },
  {
   "cell_type": "code",
   "execution_count": 310,
   "id": "fghFZSw48i6a",
   "metadata": {
    "id": "fghFZSw48i6a"
   },
   "outputs": [
    {
     "data": {
      "text/plain": [
       "0"
      ]
     },
     "execution_count": 310,
     "metadata": {},
     "output_type": "execute_result"
    }
   ],
   "source": [
    "titanic_sdf.filter('survived is NULL').count()"
   ]
  },
  {
   "cell_type": "markdown",
   "id": "1e126fbc-28a2-4014-9607-928ccf730275",
   "metadata": {},
   "source": [
    "## Creating a new column in Spark based on a condition"
   ]
  },
  {
   "cell_type": "code",
   "execution_count": 311,
   "id": "F222gwqC8i9F",
   "metadata": {
    "id": "F222gwqC8i9F"
   },
   "outputs": [],
   "source": [
    "from pyspark.sql.functions import when, col\n",
    "#create a new 'child' column, assign a 1 if child <= 10 years old\n",
    "conditions = when((col(\"age\")<=10),1).otherwise(0)\n",
    "titanic_sdf = titanic_sdf.withColumn('child', conditions)"
   ]
  },
  {
   "cell_type": "code",
   "execution_count": 312,
   "id": "a7e262ee-f960-4e98-ac5d-6340cf570e98",
   "metadata": {},
   "outputs": [
    {
     "name": "stdout",
     "output_type": "stream",
     "text": [
      "+------+------+----+-----+--------+-------+--------------------+--------+-----+\n",
      "|pclass|   sex| age|sibsp|    fare|  cabin|            homedest|survived|child|\n",
      "+------+------+----+-----+--------+-------+--------------------+--------+-----+\n",
      "|     1|female|29.0|    0|211.3375|     B5|        St Louis, MO|       1|    0|\n",
      "|     1|  male|0.92|    1|  151.55|C22 C26|Montreal, PQ / Ch...|       1|    1|\n",
      "+------+------+----+-----+--------+-------+--------------------+--------+-----+\n",
      "only showing top 2 rows\n",
      "\n"
     ]
    }
   ],
   "source": [
    "titanic_sdf.show(2)"
   ]
  },
  {
   "cell_type": "code",
   "execution_count": 313,
   "id": "00e35c9b-77bf-4ce2-ab00-633d017a9127",
   "metadata": {},
   "outputs": [],
   "source": [
    "#create a variable called 'new_fare', round the price."
   ]
  },
  {
   "cell_type": "code",
   "execution_count": 314,
   "id": "4cc60a8d-d8ef-4ed1-80b7-72a3b1fdfb0b",
   "metadata": {},
   "outputs": [],
   "source": [
    "titanic_sdf = titanic_sdf.withColumn('rounded_fare', round(titanic_sdf['fare'],0))"
   ]
  },
  {
   "cell_type": "code",
   "execution_count": 315,
   "id": "edd19b1b-a3d2-41c3-80d5-9b07bcd7b9c7",
   "metadata": {},
   "outputs": [
    {
     "name": "stdout",
     "output_type": "stream",
     "text": [
      "+------+------+----+-----+--------+-------+--------------------+--------+-----+------------+\n",
      "|pclass|   sex| age|sibsp|    fare|  cabin|            homedest|survived|child|rounded_fare|\n",
      "+------+------+----+-----+--------+-------+--------------------+--------+-----+------------+\n",
      "|     1|female|29.0|    0|211.3375|     B5|        St Louis, MO|       1|    0|       211.0|\n",
      "|     1|  male|0.92|    1|  151.55|C22 C26|Montreal, PQ / Ch...|       1|    1|       152.0|\n",
      "+------+------+----+-----+--------+-------+--------------------+--------+-----+------------+\n",
      "only showing top 2 rows\n",
      "\n"
     ]
    }
   ],
   "source": [
    "titanic_sdf.show(2)"
   ]
  },
  {
   "cell_type": "code",
   "execution_count": 316,
   "id": "f7087c66-a98c-4bf4-a003-293544eee189",
   "metadata": {},
   "outputs": [],
   "source": [
    "titanic_sdf=titanic_sdf.select('pclass', 'sex', 'age', 'sibsp', 'fare', 'cabin', 'homedest','child','rounded_fare','survived')"
   ]
  },
  {
   "cell_type": "code",
   "execution_count": 317,
   "id": "be1acca8-6740-4db7-858a-e4ffaa8b43a4",
   "metadata": {},
   "outputs": [
    {
     "data": {
      "text/plain": [
       "1309"
      ]
     },
     "execution_count": 317,
     "metadata": {},
     "output_type": "execute_result"
    }
   ],
   "source": [
    "len(titanic_sdf.collect())"
   ]
  },
  {
   "cell_type": "code",
   "execution_count": 318,
   "id": "8430dd14-fd06-41b6-8bcc-6017d293275a",
   "metadata": {},
   "outputs": [],
   "source": [
    "#drop the homedest column\n",
    "titanic_sdf = titanic_sdf.drop('homedest')"
   ]
  },
  {
   "cell_type": "code",
   "execution_count": 319,
   "id": "28f0e6e6-7741-4e88-9d7a-b33e22292016",
   "metadata": {},
   "outputs": [
    {
     "name": "stdout",
     "output_type": "stream",
     "text": [
      "+------+------+----+-----+--------+-------+-----+------------+--------+\n",
      "|pclass|   sex| age|sibsp|    fare|  cabin|child|rounded_fare|survived|\n",
      "+------+------+----+-----+--------+-------+-----+------------+--------+\n",
      "|     1|female|29.0|    0|211.3375|     B5|    0|       211.0|       1|\n",
      "|     1|  male|0.92|    1|  151.55|C22 C26|    1|       152.0|       1|\n",
      "+------+------+----+-----+--------+-------+-----+------------+--------+\n",
      "only showing top 2 rows\n",
      "\n"
     ]
    }
   ],
   "source": [
    "titanic_sdf.show(2)"
   ]
  },
  {
   "cell_type": "markdown",
   "id": "fe6fe472-0e36-47be-982a-a8f9e0a8cdba",
   "metadata": {},
   "source": [
    "## Assembling Columns: consolidating all of the predictor columns into a single column"
   ]
  },
  {
   "cell_type": "code",
   "execution_count": 320,
   "id": "8d588a56-ff2f-4cb7-8e41-108fa1f081d5",
   "metadata": {},
   "outputs": [],
   "source": [
    "# Import the necessary class\n",
    "from pyspark.ml.feature import VectorAssembler\n",
    "from pyspark.ml import Pipeline\n",
    "from pyspark.ml.classification import RandomForestClassifier\n",
    "from pyspark.ml.feature import IndexToString, StringIndexer, VectorIndexer\n",
    "from pyspark.ml.evaluation import MulticlassClassificationEvaluator"
   ]
  },
  {
   "cell_type": "code",
   "execution_count": 321,
   "id": "294ae05d-81ef-4ccd-879b-90a85e591185",
   "metadata": {},
   "outputs": [],
   "source": [
    "#replace null values\n",
    "titanic_sdf = titanic_sdf.fillna(0, subset=titanic_sdf.columns)"
   ]
  },
  {
   "cell_type": "code",
   "execution_count": 322,
   "id": "721bf79e-5abc-4f9e-8d7a-4dbacb4643cd",
   "metadata": {},
   "outputs": [],
   "source": [
    "#convert all categorical columns to string index\n",
    "categoricalColumns = [item[0] for item in titanic_sdf.dtypes if item[1].startswith('string') ]"
   ]
  },
  {
   "cell_type": "code",
   "execution_count": 323,
   "id": "d6e8254b-76a0-4abb-b777-92596da6b774",
   "metadata": {},
   "outputs": [
    {
     "data": {
      "text/plain": [
       "['sex', 'cabin']"
      ]
     },
     "execution_count": 323,
     "metadata": {},
     "output_type": "execute_result"
    }
   ],
   "source": [
    "categoricalColumns"
   ]
  },
  {
   "cell_type": "code",
   "execution_count": 324,
   "id": "67216908-8318-444c-85ed-369eaa0e6c73",
   "metadata": {},
   "outputs": [],
   "source": [
    "#create an indexer for sex\n",
    "indexer = StringIndexer(inputCol='sex', outputCol='sex_idx')\n",
    "\n",
    "#indexer identifies categories in the data\n",
    "indexer_model = indexer.fit(titanic_sdf)\n",
    "\n",
    "#indexer creates a new column with numeric index values\n",
    "titanic_sdf = indexer_model.transform(titanic_sdf)"
   ]
  },
  {
   "cell_type": "code",
   "execution_count": 325,
   "id": "d1c2a9a4-5f63-4663-8c76-01e8661af8cc",
   "metadata": {},
   "outputs": [
    {
     "name": "stdout",
     "output_type": "stream",
     "text": [
      "+------+------+----+-----+--------+-------+-----+------------+--------+-------+\n",
      "|pclass|   sex| age|sibsp|    fare|  cabin|child|rounded_fare|survived|sex_idx|\n",
      "+------+------+----+-----+--------+-------+-----+------------+--------+-------+\n",
      "|     1|female|29.0|    0|211.3375|     B5|    0|       211.0|       1|    1.0|\n",
      "|     1|  male|0.92|    1|  151.55|C22 C26|    1|       152.0|       1|    0.0|\n",
      "|     1|female| 2.0|    1|  151.55|C22 C26|    1|       152.0|       0|    1.0|\n",
      "|     1|  male|30.0|    1|  151.55|C22 C26|    0|       152.0|       0|    0.0|\n",
      "|     1|female|25.0|    1|  151.55|C22 C26|    0|       152.0|       0|    1.0|\n",
      "+------+------+----+-----+--------+-------+-----+------------+--------+-------+\n",
      "only showing top 5 rows\n",
      "\n"
     ]
    }
   ],
   "source": [
    "titanic_sdf.show(5)\n",
    "#drop the sex column\n",
    "titanic_sdf = titanic_sdf.drop('sex')\n",
    "titanic_sdf = titanic_sdf.drop('cabin')"
   ]
  },
  {
   "cell_type": "code",
   "execution_count": 326,
   "id": "f7c80802-7706-4dc0-af12-05df7aea80f6",
   "metadata": {},
   "outputs": [],
   "source": [
    "#create a list of numerical columns\n",
    "numericalColumns = [item[0] for item in titanic_sdf.dtypes if ~item[1].startswith('string') ]"
   ]
  },
  {
   "cell_type": "code",
   "execution_count": 327,
   "id": "55715acc-2511-420e-b191-608807b70416",
   "metadata": {},
   "outputs": [],
   "source": [
    "# Create an assembler object. Problem can be caused by null values in the columns being assembled\n",
    "assembler = VectorAssembler(inputCols=['pclass', 'sex_idx', 'age', 'sibsp', 'fare', 'child', 'rounded_fare', 'survived'], outputCol='features')"
   ]
  },
  {
   "cell_type": "code",
   "execution_count": 328,
   "id": "c8dc8190-c19a-4ddd-9ee4-1c3aa7f67738",
   "metadata": {},
   "outputs": [],
   "source": [
    "predictors_assembled = assembler.setHandleInvalid(\"skip\").transform(titanic_sdf)"
   ]
  },
  {
   "cell_type": "code",
   "execution_count": 359,
   "id": "30652122-c150-4a46-afd8-7fd89084f15d",
   "metadata": {},
   "outputs": [
    {
     "name": "stdout",
     "output_type": "stream",
     "text": [
      "+------+----+-----+--------+-----+------------+--------+-------+--------------------+\n",
      "|pclass| age|sibsp|    fare|child|rounded_fare|survived|sex_idx|            features|\n",
      "+------+----+-----+--------+-----+------------+--------+-------+--------------------+\n",
      "|     1|29.0|    0|211.3375|    0|       211.0|       1|    1.0|[1.0,1.0,29.0,0.0...|\n",
      "|     1|0.92|    1|  151.55|    1|       152.0|       1|    0.0|[1.0,0.0,0.92,1.0...|\n",
      "|     1| 2.0|    1|  151.55|    1|       152.0|       0|    1.0|[1.0,1.0,2.0,1.0,...|\n",
      "|     1|30.0|    1|  151.55|    0|       152.0|       0|    0.0|[1.0,0.0,30.0,1.0...|\n",
      "|     1|25.0|    1|  151.55|    0|       152.0|       0|    1.0|[1.0,1.0,25.0,1.0...|\n",
      "|     1|48.0|    0|   26.55|    0|        27.0|       1|    0.0|[1.0,0.0,48.0,0.0...|\n",
      "|     1|63.0|    1| 77.9583|    0|        78.0|       1|    1.0|[1.0,1.0,63.0,1.0...|\n",
      "|     1|39.0|    0|     0.0|    0|         0.0|       0|    0.0|(8,[0,2],[1.0,39.0])|\n",
      "|     1|53.0|    2| 51.4792|    0|        51.0|       1|    1.0|[1.0,1.0,53.0,2.0...|\n",
      "|     1|71.0|    0| 49.5042|    0|        50.0|       0|    0.0|(8,[0,2,4,6],[1.0...|\n",
      "|     1|47.0|    1| 227.525|    0|       228.0|       0|    0.0|[1.0,0.0,47.0,1.0...|\n",
      "|     1|18.0|    1| 227.525|    0|       228.0|       1|    1.0|[1.0,1.0,18.0,1.0...|\n",
      "|     1|24.0|    0|    69.3|    0|        69.0|       1|    1.0|[1.0,1.0,24.0,0.0...|\n",
      "|     1|26.0|    0|   78.85|    0|        79.0|       1|    1.0|[1.0,1.0,26.0,0.0...|\n",
      "|     1|80.0|    0|    30.0|    0|        30.0|       1|    0.0|[1.0,0.0,80.0,0.0...|\n",
      "|     1| 0.0|    0|  25.925|    0|        26.0|       0|    0.0|(8,[0,4,6],[1.0,2...|\n",
      "|     1|24.0|    0|247.5208|    0|       248.0|       0|    0.0|(8,[0,2,4,6],[1.0...|\n",
      "|     1|50.0|    0|247.5208|    0|       248.0|       1|    1.0|[1.0,1.0,50.0,0.0...|\n",
      "|     1|32.0|    0| 76.2917|    0|        76.0|       1|    1.0|[1.0,1.0,32.0,0.0...|\n",
      "|     1|36.0|    0| 75.2417|    0|        75.0|       0|    0.0|(8,[0,2,4,6],[1.0...|\n",
      "+------+----+-----+--------+-----+------------+--------+-------+--------------------+\n",
      "only showing top 20 rows\n",
      "\n"
     ]
    }
   ],
   "source": [
    "predictors_assembled.show()"
   ]
  },
  {
   "cell_type": "markdown",
   "id": "65b3e2ce-f168-4526-bb7b-71e85f777291",
   "metadata": {},
   "source": [
    "The final step in preparing the titanic data is to consolidate the various predictors into a single column. This is necessary because the Machine Learning algorithms in Spark operate on a single vector of predictors, although each element in that vector may consist of multiple values. "
   ]
  },
  {
   "cell_type": "code",
   "execution_count": 330,
   "id": "4d2e5db3-c2e5-47a9-91db-26631f9f15fb",
   "metadata": {},
   "outputs": [
    {
     "name": "stdout",
     "output_type": "stream",
     "text": [
      "+--------------------+--------+\n",
      "|            features|survived|\n",
      "+--------------------+--------+\n",
      "|[1.0,1.0,29.0,0.0...|       1|\n",
      "|[1.0,0.0,0.92,1.0...|       1|\n",
      "|[1.0,1.0,2.0,1.0,...|       0|\n",
      "|[1.0,0.0,30.0,1.0...|       0|\n",
      "|[1.0,1.0,25.0,1.0...|       0|\n",
      "+--------------------+--------+\n",
      "only showing top 5 rows\n",
      "\n"
     ]
    }
   ],
   "source": [
    "# Check the resulting column\n",
    "titanic_ml = predictors_assembled.select('features', 'survived')\n",
    "titanic_ml.show(5)"
   ]
  },
  {
   "cell_type": "code",
   "execution_count": 366,
   "id": "691548a2-c101-4d3e-b2d9-3ee45820a1e0",
   "metadata": {},
   "outputs": [],
   "source": [
    "# Split into training and testing sets in a 80:20 ratio\n",
    "(trainingData, testData) = titanic_ml.randomSplit([0.8, 0.2])"
   ]
  },
  {
   "cell_type": "code",
   "execution_count": 367,
   "id": "638ce70a-b76c-4832-a4ed-49d45a2c8e9f",
   "metadata": {},
   "outputs": [
    {
     "name": "stdout",
     "output_type": "stream",
     "text": [
      "+--------------------+--------+\n",
      "|            features|survived|\n",
      "+--------------------+--------+\n",
      "|       (8,[0],[1.0])|       0|\n",
      "|       (8,[0],[2.0])|       0|\n",
      "|       (8,[0],[2.0])|       0|\n",
      "|       (8,[0],[2.0])|       0|\n",
      "|       (8,[0],[2.0])|       0|\n",
      "|       (8,[0],[2.0])|       0|\n",
      "|(8,[0,1,4,6],[3.0...|       0|\n",
      "|(8,[0,1,4,6],[3.0...|       0|\n",
      "|(8,[0,1,4,6],[3.0...|       0|\n",
      "|(8,[0,1,4,6],[3.0...|       0|\n",
      "|(8,[0,1,4,6],[3.0...|       0|\n",
      "|(8,[0,1,4,6],[3.0...|       0|\n",
      "|(8,[0,1,4,6],[3.0...|       0|\n",
      "|(8,[0,1,4,6],[3.0...|       0|\n",
      "|(8,[0,1,4,6],[3.0...|       0|\n",
      "|(8,[0,1,4,6],[3.0...|       0|\n",
      "|(8,[0,1,4,6],[3.0...|       0|\n",
      "|(8,[0,1,4,6],[3.0...|       0|\n",
      "|(8,[0,1,4,6],[3.0...|       0|\n",
      "|(8,[0,1,4,6],[3.0...|       0|\n",
      "+--------------------+--------+\n",
      "only showing top 20 rows\n",
      "\n"
     ]
    }
   ],
   "source": [
    "trainingData.show()"
   ]
  },
  {
   "cell_type": "code",
   "execution_count": 368,
   "id": "fd06aae1-3d13-4f80-ae5a-097eb6d4e6d1",
   "metadata": {},
   "outputs": [
    {
     "name": "stdout",
     "output_type": "stream",
     "text": [
      "+--------+----------+-----------+\n",
      "|survived|prediction|probability|\n",
      "+--------+----------+-----------+\n",
      "|0       |0.0       |[1.0,0.0]  |\n",
      "|0       |0.0       |[1.0,0.0]  |\n",
      "|0       |0.0       |[1.0,0.0]  |\n",
      "|0       |0.0       |[1.0,0.0]  |\n",
      "|0       |0.0       |[1.0,0.0]  |\n",
      "+--------+----------+-----------+\n",
      "only showing top 5 rows\n",
      "\n"
     ]
    }
   ],
   "source": [
    "# Import the Decision Tree Classifier class\n",
    "from pyspark.ml.classification import DecisionTreeClassifier\n",
    "\n",
    "# Create a classifier object and fit to the training data\n",
    "tree = DecisionTreeClassifier(maxDepth=3, labelCol=\"survived\")\n",
    "tree_model = tree.fit(trainingData)\n",
    "\n",
    "# Create predictions for the testing data and take a look at the predictions\n",
    "prediction = tree_model.transform(testData)\n",
    "prediction.select('survived', 'prediction', 'probability').show(5, False)"
   ]
  },
  {
   "cell_type": "code",
   "execution_count": 369,
   "id": "413de51b-d7ce-4a11-b85d-6962f71191c1",
   "metadata": {},
   "outputs": [
    {
     "name": "stdout",
     "output_type": "stream",
     "text": [
      "+--------+----------+-----+\n",
      "|survived|prediction|count|\n",
      "+--------+----------+-----+\n",
      "|       0|       0.0|  145|\n",
      "|       1|       1.0|  100|\n",
      "+--------+----------+-----+\n",
      "\n",
      "1.0\n"
     ]
    }
   ],
   "source": [
    "# Create a confusion matrix\n",
    "prediction.groupBy('survived', 'prediction').count().show()\n",
    "\n",
    "# Calculate the elements of the confusion matrix\n",
    "TN = prediction.filter('prediction = 0 AND survived = prediction').count()\n",
    "TP = prediction.filter('prediction = 1 AND survived = prediction').count()\n",
    "FN = prediction.filter('prediction = 0 AND survived != prediction').count()\n",
    "FP = prediction.filter('prediction = 1 AND survived != prediction').count()\n",
    "\n",
    "# Accuracy measures the proportion of correct predictions\n",
    "accuracy = (TN + TP) / (TN + TP + FN + FP)\n",
    "print(accuracy)"
   ]
  },
  {
   "cell_type": "code",
   "execution_count": 370,
   "id": "1349231f-1f5c-4b1e-bbfd-11ea196ecac0",
   "metadata": {},
   "outputs": [
    {
     "name": "stdout",
     "output_type": "stream",
     "text": [
      "+--------+----------+-----+\n",
      "|survived|prediction|count|\n",
      "+--------+----------+-----+\n",
      "|       0|       0.0|  145|\n",
      "|       1|       1.0|  100|\n",
      "+--------+----------+-----+\n",
      "\n"
     ]
    }
   ],
   "source": [
    "# Import the logistic regression class\n",
    "from pyspark.ml.classification import LogisticRegression\n",
    "\n",
    "# Create a classifier object and train on training data\n",
    "logistic = LogisticRegression(labelCol=\"survived\").fit(trainingData)\n",
    "\n",
    "# Create predictions for the testing data and show confusion matrix\n",
    "prediction = logistic.transform(testData)\n",
    "prediction.groupBy('survived', 'prediction').count().show()"
   ]
  },
  {
   "cell_type": "code",
   "execution_count": 371,
   "id": "24384eef-be3c-4b5d-abd6-201874f8aecb",
   "metadata": {},
   "outputs": [
    {
     "name": "stdout",
     "output_type": "stream",
     "text": [
      "precision = 1.00\n",
      "recall    = 1.00\n"
     ]
    }
   ],
   "source": [
    "from pyspark.ml.evaluation import MulticlassClassificationEvaluator, BinaryClassificationEvaluator\n",
    "\n",
    "# Calculate precision and recall\n",
    "precision = TP / (TP + FP)\n",
    "recall = TP / (TP + FN)\n",
    "print('precision = {:.2f}\\nrecall    = {:.2f}'.format(precision, recall))\n",
    "\n",
    "# Find weighted precision\n",
    "multi_evaluator = MulticlassClassificationEvaluator(labelCol=\"survived\")\n",
    "weighted_precision = multi_evaluator.evaluate(prediction, {multi_evaluator.metricName: \"weightedPrecision\"})\n",
    "\n",
    "# Find AUC\n",
    "binary_evaluator = BinaryClassificationEvaluator(labelCol=\"survived\")\n",
    "auc = binary_evaluator.evaluate(prediction, {binary_evaluator.metricName: \"areaUnderROC\"})"
   ]
  },
  {
   "cell_type": "code",
   "execution_count": null,
   "id": "jBb_mCbE8i_l",
   "metadata": {
    "id": "jBb_mCbE8i_l"
   },
   "outputs": [],
   "source": [
    "#stops the Spark session once we are done\n",
    "spark.stop()"
   ]
  },
  {
   "cell_type": "code",
   "execution_count": null,
   "id": "4i9yQfvS8jCW",
   "metadata": {
    "id": "4i9yQfvS8jCW"
   },
   "outputs": [],
   "source": []
  },
  {
   "cell_type": "code",
   "execution_count": null,
   "id": "rwzjb3M38jFV",
   "metadata": {
    "id": "rwzjb3M38jFV"
   },
   "outputs": [],
   "source": []
  },
  {
   "cell_type": "code",
   "execution_count": null,
   "id": "eD1Hc8pn8jIY",
   "metadata": {
    "id": "eD1Hc8pn8jIY"
   },
   "outputs": [],
   "source": []
  },
  {
   "cell_type": "code",
   "execution_count": null,
   "id": "h2bEy09M8jLL",
   "metadata": {
    "id": "h2bEy09M8jLL"
   },
   "outputs": [],
   "source": []
  },
  {
   "cell_type": "code",
   "execution_count": null,
   "id": "w-GmIkmm8jNs",
   "metadata": {
    "id": "w-GmIkmm8jNs"
   },
   "outputs": [],
   "source": []
  },
  {
   "cell_type": "code",
   "execution_count": null,
   "id": "5cw89d5x8jSE",
   "metadata": {
    "id": "5cw89d5x8jSE"
   },
   "outputs": [],
   "source": []
  },
  {
   "cell_type": "code",
   "execution_count": null,
   "id": "QtWUMNtZ8jVu",
   "metadata": {
    "id": "QtWUMNtZ8jVu"
   },
   "outputs": [],
   "source": []
  },
  {
   "cell_type": "code",
   "execution_count": null,
   "id": "-06h5Heu8jYk",
   "metadata": {
    "id": "-06h5Heu8jYk"
   },
   "outputs": [],
   "source": []
  },
  {
   "cell_type": "code",
   "execution_count": null,
   "id": "Iqv4Ary58jbe",
   "metadata": {
    "id": "Iqv4Ary58jbe"
   },
   "outputs": [],
   "source": []
  },
  {
   "cell_type": "code",
   "execution_count": null,
   "id": "oBLRekt-8nM4",
   "metadata": {
    "id": "oBLRekt-8nM4"
   },
   "outputs": [],
   "source": []
  },
  {
   "cell_type": "code",
   "execution_count": null,
   "id": "GjV63BH18nPi",
   "metadata": {
    "id": "GjV63BH18nPi"
   },
   "outputs": [],
   "source": []
  },
  {
   "cell_type": "code",
   "execution_count": null,
   "id": "pduHWG0n8nSn",
   "metadata": {
    "id": "pduHWG0n8nSn"
   },
   "outputs": [],
   "source": []
  },
  {
   "cell_type": "code",
   "execution_count": null,
   "id": "_0Y8G6JJ8nVF",
   "metadata": {
    "id": "_0Y8G6JJ8nVF"
   },
   "outputs": [],
   "source": []
  },
  {
   "cell_type": "code",
   "execution_count": null,
   "id": "G9KifANj8nX9",
   "metadata": {
    "id": "G9KifANj8nX9"
   },
   "outputs": [],
   "source": []
  },
  {
   "cell_type": "code",
   "execution_count": null,
   "id": "l1s0WlTb8naU",
   "metadata": {
    "id": "l1s0WlTb8naU"
   },
   "outputs": [],
   "source": []
  },
  {
   "cell_type": "code",
   "execution_count": null,
   "id": "xzNOrpBs8ndE",
   "metadata": {
    "id": "xzNOrpBs8ndE"
   },
   "outputs": [],
   "source": []
  },
  {
   "cell_type": "code",
   "execution_count": null,
   "id": "W7xsXMyw8nfW",
   "metadata": {
    "id": "W7xsXMyw8nfW"
   },
   "outputs": [],
   "source": []
  },
  {
   "cell_type": "code",
   "execution_count": null,
   "id": "_k5QNuen8nh-",
   "metadata": {
    "id": "_k5QNuen8nh-"
   },
   "outputs": [],
   "source": []
  },
  {
   "cell_type": "code",
   "execution_count": null,
   "id": "Feoz6LjX8nkl",
   "metadata": {
    "id": "Feoz6LjX8nkl"
   },
   "outputs": [],
   "source": []
  },
  {
   "cell_type": "code",
   "execution_count": null,
   "id": "XzRR27WQ8nnP",
   "metadata": {
    "id": "XzRR27WQ8nnP"
   },
   "outputs": [],
   "source": []
  },
  {
   "cell_type": "code",
   "execution_count": null,
   "id": "1N1F_W3Y8np6",
   "metadata": {
    "id": "1N1F_W3Y8np6"
   },
   "outputs": [],
   "source": []
  },
  {
   "cell_type": "code",
   "execution_count": null,
   "id": "0s385QmH8nss",
   "metadata": {
    "id": "0s385QmH8nss"
   },
   "outputs": [],
   "source": []
  },
  {
   "cell_type": "code",
   "execution_count": null,
   "id": "Bpa_ySqU8nuw",
   "metadata": {
    "id": "Bpa_ySqU8nuw"
   },
   "outputs": [],
   "source": []
  },
  {
   "cell_type": "code",
   "execution_count": null,
   "id": "dLL8BpHY8nxp",
   "metadata": {
    "id": "dLL8BpHY8nxp"
   },
   "outputs": [],
   "source": []
  },
  {
   "cell_type": "code",
   "execution_count": null,
   "id": "-fDeu_AB8n0Y",
   "metadata": {
    "id": "-fDeu_AB8n0Y"
   },
   "outputs": [],
   "source": []
  },
  {
   "cell_type": "code",
   "execution_count": null,
   "id": "FVRmk1R68n3Z",
   "metadata": {
    "id": "FVRmk1R68n3Z"
   },
   "outputs": [],
   "source": []
  },
  {
   "cell_type": "code",
   "execution_count": null,
   "id": "YAjHQxpv8n54",
   "metadata": {
    "id": "YAjHQxpv8n54"
   },
   "outputs": [],
   "source": [
    "#SELECT count(payment_type) FROM olist2 where payment_type ='credit_card' and YEAR(order_purchase_timestamp)='2017'\n",
    "#SELECT customer_city, count(payment_type) FROM olist3 GROUP BY customer_city ORDER BY count(payment_type) desc"
   ]
  }
 ],
 "metadata": {
  "colab": {
   "name": "Spark_Notebook.ipynb",
   "provenance": []
  },
  "kernelspec": {
   "display_name": "Python 3",
   "language": "python",
   "name": "python3"
  },
  "language_info": {
   "codemirror_mode": {
    "name": "ipython",
    "version": 3
   },
   "file_extension": ".py",
   "mimetype": "text/x-python",
   "name": "python",
   "nbconvert_exporter": "python",
   "pygments_lexer": "ipython3",
   "version": "3.8.8"
  }
 },
 "nbformat": 4,
 "nbformat_minor": 5
}
